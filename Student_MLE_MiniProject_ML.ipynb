{
  "cells": [
    {
      "cell_type": "markdown",
      "metadata": {
        "id": "view-in-github",
        "colab_type": "text"
      },
      "source": [
        "<a href=\"https://colab.research.google.com/github/kentheman4AI/UMGC-MachineLearning-AI/blob/main/Student_MLE_MiniProject_ML.ipynb\" target=\"_parent\"><img src=\"https://colab.research.google.com/assets/colab-badge.svg\" alt=\"Open In Colab\"/></a>"
      ]
    },
    {
      "cell_type": "markdown",
      "metadata": {
        "id": "Yzr5Eo_qxHQi"
      },
      "source": [
        "# Mini Project: Build a Machine Learning Model"
      ]
    },
    {
      "cell_type": "markdown",
      "metadata": {
        "id": "_NvUsqw8xg26"
      },
      "source": [
        "## Predict Total Fare on the NYC Taxi Dataset\n",
        "\n",
        "Welcome to the NYC Taxi Fare Prediction project! In this Colab, we will continue using the NYC Taxi Dataset to predict the fare amount for taxi rides using a subset of available features. We will go through three main stages: building a baseline model, creating a full model, and performing hyperparameter tuning to enhance our predictions.\n",
        "\n",
        "Now that you've completed exploratory data analysis on this dataset you should have a good understanding of the feature space.\n",
        "\n",
        "## Project Objectives\n",
        "\n",
        "The primary objectives of this project are as follows:\n",
        "\n",
        "Baseline Model: We will start by building a simple baseline model to establish a benchmark for our predictions. This model will serve as a starting point to compare the performance of our subsequent models.\n",
        "\n",
        "Full Model: Next, we will develop a more comprehensive model that leverages machine learning techniques to improve prediction accuracy. We will use Scikit-Learn's model pipeline to build a framework that enables rapid experimentation.\n",
        "\n",
        "Hyperparameter Tuning: Lastly, we will optimize our full model by fine-tuning its hyperparameters. By systematically adjusting the parameters that control model behavior, we aim to achieve the best possible performance for our prediction task."
      ]
    },
    {
      "cell_type": "code",
      "execution_count": 1,
      "metadata": {
        "id": "lbJFWLELlI6N"
      },
      "outputs": [],
      "source": [
        "import pandas as pd\n",
        "import numpy as np\n",
        "import matplotlib.pyplot as plt\n",
        "from sklearn.model_selection import train_test_split, GridSearchCV\n",
        "from sklearn.metrics import mean_absolute_error\n",
        "\n",
        "from sklearn.pipeline import Pipeline\n",
        "from sklearn.preprocessing import StandardScaler, OneHotEncoder, FunctionTransformer\n",
        "from sklearn.compose import ColumnTransformer\n",
        "from sklearn.linear_model import LinearRegression\n",
        "from sklearn.ensemble import RandomForestRegressor"
      ]
    },
    {
      "cell_type": "markdown",
      "metadata": {
        "id": "gJtGZwwG2WTW"
      },
      "source": [
        "Load the NYC taxi dataset into a Pandas DataFrame and do a few basic checks to ensure the data is loaded properly. Note, there are several months of data that can be used. For simplicity, use the Yellow Taxi 2022-01 parquet file [here](https://d37ci6vzurychx.cloudfront.net/trip-data/yellow_tripdata_2022-01.parquet). Here are your tasks:\n",
        "\n",
        "  1. Load the `yellow_tripdata_2022-01.parquet` file into Pandas.\n",
        "  2. Print the first 5 rows of data.\n",
        "  3. Drop any rows of data that contain NULL values.\n",
        "  4. Create a new feature, 'trip_duration' that captures the duration of the trip in minutes.\n",
        "  5. Create a varible named 'target_variable' to store the name of the thing we're trying to predict, 'total_amount'.\n",
        "  6. Create a list called 'feature_cols' containing the feature names that we'll be using to predict our target variable. The list should contain 'VendorID', 'trip_distance', 'payment_type', 'PULocationID', 'DOLocationID', and 'trip_duration'."
      ]
    },
    {
      "cell_type": "code",
      "execution_count": 2,
      "metadata": {
        "id": "db--eb8zlNNg"
      },
      "outputs": [],
      "source": [
        "# Load the dataset into a pandas DataFrame (from https://www.nyc.gov/site/tlc/about/tlc-trip-record-data.page)\n",
        "NYC_Yellow_Taxi_202201=pd.read_parquet('https://d37ci6vzurychx.cloudfront.net/trip-data/yellow_tripdata_2022-01.parquet')"
      ]
    },
    {
      "cell_type": "code",
      "execution_count": 3,
      "metadata": {
        "id": "TslBuHoXl_o1",
        "colab": {
          "base_uri": "https://localhost:8080/"
        },
        "outputId": "6ff5dd10-75ae-407e-b6c7-9447639cf06b"
      },
      "outputs": [
        {
          "output_type": "stream",
          "name": "stdout",
          "text": [
            "(2463931, 19)\n",
            "   VendorID tpep_pickup_datetime tpep_dropoff_datetime  passenger_count  \\\n",
            "0         1  2022-01-01 00:35:40   2022-01-01 00:53:29              2.0   \n",
            "1         1  2022-01-01 00:33:43   2022-01-01 00:42:07              1.0   \n",
            "2         2  2022-01-01 00:53:21   2022-01-01 01:02:19              1.0   \n",
            "3         2  2022-01-01 00:25:21   2022-01-01 00:35:23              1.0   \n",
            "4         2  2022-01-01 00:36:48   2022-01-01 01:14:20              1.0   \n",
            "\n",
            "   trip_distance  RatecodeID store_and_fwd_flag  PULocationID  DOLocationID  \\\n",
            "0           3.80         1.0                  N           142           236   \n",
            "1           2.10         1.0                  N           236            42   \n",
            "2           0.97         1.0                  N           166           166   \n",
            "3           1.09         1.0                  N           114            68   \n",
            "4           4.30         1.0                  N            68           163   \n",
            "\n",
            "   payment_type  fare_amount  extra  mta_tax  tip_amount  tolls_amount  \\\n",
            "0             1         14.5    3.0      0.5        3.65           0.0   \n",
            "1             1          8.0    0.5      0.5        4.00           0.0   \n",
            "2             1          7.5    0.5      0.5        1.76           0.0   \n",
            "3             2          8.0    0.5      0.5        0.00           0.0   \n",
            "4             1         23.5    0.5      0.5        3.00           0.0   \n",
            "\n",
            "   improvement_surcharge  total_amount  congestion_surcharge  airport_fee  \n",
            "0                    0.3         21.95                   2.5          0.0  \n",
            "1                    0.3         13.30                   0.0          0.0  \n",
            "2                    0.3         10.56                   0.0          0.0  \n",
            "3                    0.3         11.80                   2.5          0.0  \n",
            "4                    0.3         30.30                   2.5          0.0  \n"
          ]
        }
      ],
      "source": [
        "# Display the first few rows of the dataset\n",
        "print(NYC_Yellow_Taxi_202201.shape)\n",
        "print(NYC_Yellow_Taxi_202201.head())"
      ]
    },
    {
      "cell_type": "code",
      "execution_count": 4,
      "metadata": {
        "id": "4ybS7HV6HHQL",
        "colab": {
          "base_uri": "https://localhost:8080/"
        },
        "outputId": "0f584363-851a-4461-9f79-bf2d881a5d55"
      },
      "outputs": [
        {
          "output_type": "stream",
          "name": "stdout",
          "text": [
            "VendorID                     0\n",
            "tpep_pickup_datetime         0\n",
            "tpep_dropoff_datetime        0\n",
            "passenger_count          71503\n",
            "trip_distance                0\n",
            "RatecodeID               71503\n",
            "store_and_fwd_flag       71503\n",
            "PULocationID                 0\n",
            "DOLocationID                 0\n",
            "payment_type                 0\n",
            "fare_amount                  0\n",
            "extra                        0\n",
            "mta_tax                      0\n",
            "tip_amount                   0\n",
            "tolls_amount                 0\n",
            "improvement_surcharge        0\n",
            "total_amount                 0\n",
            "congestion_surcharge     71503\n",
            "airport_fee              71503\n",
            "dtype: int64\n",
            "VendorID                 2463931\n",
            "tpep_pickup_datetime     2463931\n",
            "tpep_dropoff_datetime    2463931\n",
            "passenger_count          2392428\n",
            "trip_distance            2463931\n",
            "RatecodeID               2392428\n",
            "store_and_fwd_flag       2392428\n",
            "PULocationID             2463931\n",
            "DOLocationID             2463931\n",
            "payment_type             2463931\n",
            "fare_amount              2463931\n",
            "extra                    2463931\n",
            "mta_tax                  2463931\n",
            "tip_amount               2463931\n",
            "tolls_amount             2463931\n",
            "improvement_surcharge    2463931\n",
            "total_amount             2463931\n",
            "congestion_surcharge     2392428\n",
            "airport_fee              2392428\n",
            "dtype: int64\n",
            "VendorID                     0\n",
            "tpep_pickup_datetime         0\n",
            "tpep_dropoff_datetime        0\n",
            "passenger_count          71503\n",
            "trip_distance                0\n",
            "RatecodeID               71503\n",
            "store_and_fwd_flag       71503\n",
            "PULocationID                 0\n",
            "DOLocationID                 0\n",
            "payment_type                 0\n",
            "fare_amount                  0\n",
            "extra                        0\n",
            "mta_tax                      0\n",
            "tip_amount                   0\n",
            "tolls_amount                 0\n",
            "improvement_surcharge        0\n",
            "total_amount                 0\n",
            "congestion_surcharge     71503\n",
            "airport_fee              71503\n",
            "dtype: int64\n",
            "VendorID                 0\n",
            "tpep_pickup_datetime     0\n",
            "tpep_dropoff_datetime    0\n",
            "passenger_count          0\n",
            "trip_distance            0\n",
            "RatecodeID               0\n",
            "store_and_fwd_flag       0\n",
            "PULocationID             0\n",
            "DOLocationID             0\n",
            "payment_type             0\n",
            "fare_amount              0\n",
            "extra                    0\n",
            "mta_tax                  0\n",
            "tip_amount               0\n",
            "tolls_amount             0\n",
            "improvement_surcharge    0\n",
            "total_amount             0\n",
            "congestion_surcharge     0\n",
            "airport_fee              0\n",
            "dtype: int64\n",
            "            VendorID        tpep_pickup_datetime       tpep_dropoff_datetime  \\\n",
            "count   2.463931e+06                     2463931                     2463931   \n",
            "unique           NaN                         NaN                         NaN   \n",
            "top              NaN                         NaN                         NaN   \n",
            "freq             NaN                         NaN                         NaN   \n",
            "mean    1.707819e+00  2022-01-17 01:19:51.689724  2022-01-17 01:34:04.421902   \n",
            "min     1.000000e+00         2008-12-31 22:23:09         2008-12-31 23:06:56   \n",
            "25%     1.000000e+00         2022-01-09 15:37:41  2022-01-09 15:50:50.500000   \n",
            "50%     2.000000e+00         2022-01-17 12:11:45         2022-01-17 12:23:49   \n",
            "75%     2.000000e+00  2022-01-24 13:49:37.500000         2022-01-24 14:02:51   \n",
            "max     6.000000e+00         2022-05-18 20:41:57         2022-05-18 20:47:45   \n",
            "std     5.021375e-01                         NaN                         NaN   \n",
            "\n",
            "        passenger_count  trip_distance    RatecodeID store_and_fwd_flag  \\\n",
            "count      2.392428e+06   2.463931e+06  2.392428e+06            2392428   \n",
            "unique              NaN            NaN           NaN                  2   \n",
            "top                 NaN            NaN           NaN                  N   \n",
            "freq                NaN            NaN           NaN            2337496   \n",
            "mean       1.389453e+00   5.372751e+00  1.415507e+00                NaN   \n",
            "min        0.000000e+00   0.000000e+00  1.000000e+00                NaN   \n",
            "25%        1.000000e+00   1.040000e+00  1.000000e+00                NaN   \n",
            "50%        1.000000e+00   1.740000e+00  1.000000e+00                NaN   \n",
            "75%        1.000000e+00   3.130000e+00  1.000000e+00                NaN   \n",
            "max        9.000000e+00   3.061593e+05  9.900000e+01                NaN   \n",
            "std        9.829686e-01   5.478714e+02  5.917573e+00                NaN   \n",
            "\n",
            "        PULocationID  DOLocationID  payment_type   fare_amount         extra  \\\n",
            "count   2.463931e+06  2.463931e+06  2.463931e+06  2.463931e+06  2.463931e+06   \n",
            "unique           NaN           NaN           NaN           NaN           NaN   \n",
            "top              NaN           NaN           NaN           NaN           NaN   \n",
            "freq             NaN           NaN           NaN           NaN           NaN   \n",
            "mean    1.660768e+02  1.635807e+02  1.194449e+00  1.294648e+01  1.006710e+00   \n",
            "min     1.000000e+00  1.000000e+00  0.000000e+00 -4.800000e+02 -4.500000e+00   \n",
            "25%     1.320000e+02  1.130000e+02  1.000000e+00  6.500000e+00  0.000000e+00   \n",
            "50%     1.620000e+02  1.620000e+02  1.000000e+00  9.000000e+00  5.000000e-01   \n",
            "75%     2.340000e+02  2.360000e+02  1.000000e+00  1.400000e+01  2.500000e+00   \n",
            "max     2.650000e+02  2.650000e+02  5.000000e+00  4.010923e+05  3.350000e+01   \n",
            "std     6.546806e+01  7.079016e+01  5.001778e-01  2.558149e+02  1.236226e+00   \n",
            "\n",
            "             mta_tax    tip_amount  tolls_amount  improvement_surcharge  \\\n",
            "count   2.463931e+06  2.463931e+06  2.463931e+06           2.463931e+06   \n",
            "unique           NaN           NaN           NaN                    NaN   \n",
            "top              NaN           NaN           NaN                    NaN   \n",
            "freq             NaN           NaN           NaN                    NaN   \n",
            "mean    4.914539e-01  2.385696e+00  3.749773e-01           2.967234e-01   \n",
            "min    -5.000000e-01 -1.252200e+02 -3.140000e+01          -3.000000e-01   \n",
            "25%     5.000000e-01  7.200000e-01  0.000000e+00           3.000000e-01   \n",
            "50%     5.000000e-01  2.000000e+00  0.000000e+00           3.000000e-01   \n",
            "75%     5.000000e-01  3.000000e+00  0.000000e+00           3.000000e-01   \n",
            "max     1.659000e+01  8.888800e+02  1.933000e+02           3.000000e-01   \n",
            "std     8.291560e-02  2.830698e+00  1.680538e+00           4.374741e-02   \n",
            "\n",
            "        total_amount  congestion_surcharge   airport_fee  \n",
            "count   2.463931e+06          2.392428e+06  2.392428e+06  \n",
            "unique           NaN                   NaN           NaN  \n",
            "top              NaN                   NaN           NaN  \n",
            "freq             NaN                   NaN           NaN  \n",
            "mean    1.916937e+01          2.282322e+00  8.249935e-02  \n",
            "min    -4.803000e+02         -2.500000e+00 -1.250000e+00  \n",
            "25%     1.130000e+01          2.500000e+00  0.000000e+00  \n",
            "50%     1.469000e+01          2.500000e+00  0.000000e+00  \n",
            "75%     2.002000e+01          2.500000e+00  0.000000e+00  \n",
            "max     4.010956e+05          2.500000e+00  1.250000e+00  \n",
            "std     2.559641e+02          7.432040e-01  3.125554e-01  \n",
            "   VendorID tpep_pickup_datetime tpep_dropoff_datetime  passenger_count  \\\n",
            "0         1  2022-01-01 00:35:40   2022-01-01 00:53:29              2.0   \n",
            "1         1  2022-01-01 00:33:43   2022-01-01 00:42:07              1.0   \n",
            "2         2  2022-01-01 00:53:21   2022-01-01 01:02:19              1.0   \n",
            "3         2  2022-01-01 00:25:21   2022-01-01 00:35:23              1.0   \n",
            "4         2  2022-01-01 00:36:48   2022-01-01 01:14:20              1.0   \n",
            "\n",
            "   trip_distance  RatecodeID store_and_fwd_flag  PULocationID  DOLocationID  \\\n",
            "0           3.80         1.0                  N           142           236   \n",
            "1           2.10         1.0                  N           236            42   \n",
            "2           0.97         1.0                  N           166           166   \n",
            "3           1.09         1.0                  N           114            68   \n",
            "4           4.30         1.0                  N            68           163   \n",
            "\n",
            "   payment_type  fare_amount  extra  mta_tax  tip_amount  tolls_amount  \\\n",
            "0             1         14.5    3.0      0.5        3.65           0.0   \n",
            "1             1          8.0    0.5      0.5        4.00           0.0   \n",
            "2             1          7.5    0.5      0.5        1.76           0.0   \n",
            "3             2          8.0    0.5      0.5        0.00           0.0   \n",
            "4             1         23.5    0.5      0.5        3.00           0.0   \n",
            "\n",
            "   improvement_surcharge  total_amount  congestion_surcharge  airport_fee  \n",
            "0                    0.3         21.95                   2.5          0.0  \n",
            "1                    0.3         13.30                   0.0          0.0  \n",
            "2                    0.3         10.56                   0.0          0.0  \n",
            "3                    0.3         11.80                   2.5          0.0  \n",
            "4                    0.3         30.30                   2.5          0.0  \n",
            "(2392428, 19)\n"
          ]
        }
      ],
      "source": [
        "# Check for missing values.\n",
        "print(NYC_Yellow_Taxi_202201.isnull().sum())\n",
        "print(NYC_Yellow_Taxi_202201.notnull().sum())\n",
        "print(NYC_Yellow_Taxi_202201.shape[0]-NYC_Yellow_Taxi_202201.notnull().sum())\n",
        "print(NYC_Yellow_Taxi_202201.shape[0]-NYC_Yellow_Taxi_202201.notnull().sum()-NYC_Yellow_Taxi_202201.isnull().sum())\n",
        "# Summary Statistics of the dataset.\n",
        "NYCYellow_Stats = NYC_Yellow_Taxi_202201.describe(include='all')\n",
        "print(NYCYellow_Stats)\n",
        "# Drop rows with missing values.\n",
        "NYC_Yellow_Taxi_202201_NN = NYC_Yellow_Taxi_202201.dropna(how='any')\n",
        "print(NYC_Yellow_Taxi_202201_NN.head())\n",
        "print(NYC_Yellow_Taxi_202201_NN.shape)"
      ]
    },
    {
      "cell_type": "code",
      "execution_count": 5,
      "metadata": {
        "id": "ZC4p9PEjnSm8",
        "colab": {
          "base_uri": "https://localhost:8080/"
        },
        "outputId": "23d3ec19-00e8-499b-9809-c5317fe9325a"
      },
      "outputs": [
        {
          "output_type": "stream",
          "name": "stdout",
          "text": [
            "   VendorID tpep_pickup_datetime tpep_dropoff_datetime  passenger_count  \\\n",
            "0         1  2022-01-01 00:35:40   2022-01-01 00:53:29              2.0   \n",
            "1         1  2022-01-01 00:33:43   2022-01-01 00:42:07              1.0   \n",
            "2         2  2022-01-01 00:53:21   2022-01-01 01:02:19              1.0   \n",
            "3         2  2022-01-01 00:25:21   2022-01-01 00:35:23              1.0   \n",
            "4         2  2022-01-01 00:36:48   2022-01-01 01:14:20              1.0   \n",
            "\n",
            "   trip_distance  RatecodeID store_and_fwd_flag  PULocationID  DOLocationID  \\\n",
            "0           3.80         1.0                  N           142           236   \n",
            "1           2.10         1.0                  N           236            42   \n",
            "2           0.97         1.0                  N           166           166   \n",
            "3           1.09         1.0                  N           114            68   \n",
            "4           4.30         1.0                  N            68           163   \n",
            "\n",
            "   payment_type  fare_amount  extra  mta_tax  tip_amount  tolls_amount  \\\n",
            "0             1         14.5    3.0      0.5        3.65           0.0   \n",
            "1             1          8.0    0.5      0.5        4.00           0.0   \n",
            "2             1          7.5    0.5      0.5        1.76           0.0   \n",
            "3             2          8.0    0.5      0.5        0.00           0.0   \n",
            "4             1         23.5    0.5      0.5        3.00           0.0   \n",
            "\n",
            "   improvement_surcharge  total_amount  congestion_surcharge  airport_fee  \\\n",
            "0                    0.3         21.95                   2.5          0.0   \n",
            "1                    0.3         13.30                   0.0          0.0   \n",
            "2                    0.3         10.56                   0.0          0.0   \n",
            "3                    0.3         11.80                   2.5          0.0   \n",
            "4                    0.3         30.30                   2.5          0.0   \n",
            "\n",
            "   trip_duration  \n",
            "0      17.816667  \n",
            "1       8.400000  \n",
            "2       8.966667  \n",
            "3      10.033333  \n",
            "4      37.533333  \n"
          ]
        },
        {
          "output_type": "stream",
          "name": "stderr",
          "text": [
            "<ipython-input-5-c487b662cb2b>:3: SettingWithCopyWarning: \n",
            "A value is trying to be set on a copy of a slice from a DataFrame.\n",
            "Try using .loc[row_indexer,col_indexer] = value instead\n",
            "\n",
            "See the caveats in the documentation: https://pandas.pydata.org/pandas-docs/stable/user_guide/indexing.html#returning-a-view-versus-a-copy\n",
            "  NYC_Yellow_Taxi_202201_NN.loc[:,'trip_duration']=trip_duration\n"
          ]
        },
        {
          "output_type": "stream",
          "name": "stdout",
          "text": [
            "            VendorID        tpep_pickup_datetime       tpep_dropoff_datetime  \\\n",
            "count   2.354941e+06                     2354941                     2354941   \n",
            "unique           NaN                         NaN                         NaN   \n",
            "top              NaN                         NaN                         NaN   \n",
            "freq             NaN                         NaN                         NaN   \n",
            "mean    1.698271e+00  2022-01-17 00:12:03.775243  2022-01-17 00:26:18.365418   \n",
            "min     1.000000e+00         2008-12-31 22:23:09         2008-12-31 23:06:56   \n",
            "25%     1.000000e+00         2022-01-09 15:01:31         2022-01-09 15:15:14   \n",
            "50%     2.000000e+00         2022-01-17 10:54:10         2022-01-17 11:06:23   \n",
            "75%     2.000000e+00         2022-01-24 12:28:55         2022-01-24 12:41:50   \n",
            "max     2.000000e+00         2022-05-18 20:41:57         2022-05-18 20:47:45   \n",
            "std     4.590086e-01                         NaN                         NaN   \n",
            "\n",
            "        passenger_count  trip_distance    RatecodeID store_and_fwd_flag  \\\n",
            "count      2.354941e+06   2.354941e+06  2.354941e+06            2354941   \n",
            "unique              NaN            NaN           NaN                  2   \n",
            "top                 NaN            NaN           NaN                  N   \n",
            "freq                NaN            NaN           NaN            2301284   \n",
            "mean       1.391386e+00   3.145951e+00  1.339535e+00                NaN   \n",
            "min        0.000000e+00   1.000000e-02  1.000000e+00                NaN   \n",
            "25%        1.000000e+00   1.070000e+00  1.000000e+00                NaN   \n",
            "50%        1.000000e+00   1.750000e+00  1.000000e+00                NaN   \n",
            "75%        1.000000e+00   3.110000e+00  1.000000e+00                NaN   \n",
            "max        9.000000e+00   6.510000e+02  9.900000e+01                NaN   \n",
            "std        9.851928e-01   4.322573e+00  5.399696e+00                NaN   \n",
            "\n",
            "        PULocationID  DOLocationID  payment_type   fare_amount         extra  \\\n",
            "count   2.354941e+06  2.354941e+06  2.354941e+06  2.354941e+06  2.354941e+06   \n",
            "unique           NaN           NaN           NaN           NaN           NaN   \n",
            "top              NaN           NaN           NaN           NaN           NaN   \n",
            "freq             NaN           NaN           NaN           NaN           NaN   \n",
            "mean    1.660997e+02  1.637565e+02  1.223198e+00  1.267452e+01  1.043687e+00   \n",
            "min     1.000000e+00  1.000000e+00  1.000000e+00 -3.880000e+02 -4.500000e+00   \n",
            "25%     1.320000e+02  1.130000e+02  1.000000e+00  6.500000e+00  0.000000e+00   \n",
            "50%     1.620000e+02  1.620000e+02  1.000000e+00  9.000000e+00  5.000000e-01   \n",
            "75%     2.340000e+02  2.360000e+02  1.000000e+00  1.350000e+01  2.500000e+00   \n",
            "max     2.650000e+02  2.650000e+02  5.000000e+00  4.010923e+05  3.350000e+01   \n",
            "std     6.504132e+01  7.065651e+01  4.501742e-01  2.616222e+02  1.243636e+00   \n",
            "\n",
            "             mta_tax    tip_amount  tolls_amount  improvement_surcharge  \\\n",
            "count   2.354941e+06  2.354941e+06  2.354941e+06           2.354941e+06   \n",
            "unique           NaN           NaN           NaN                    NaN   \n",
            "top              NaN           NaN           NaN                    NaN   \n",
            "freq             NaN           NaN           NaN                    NaN   \n",
            "mean    4.940860e-01  2.370886e+00  3.703932e-01           2.974728e-01   \n",
            "min    -5.000000e-01 -1.252200e+02 -3.025000e+01          -3.000000e-01   \n",
            "25%     5.000000e-01  9.300000e-01  0.000000e+00           3.000000e-01   \n",
            "50%     5.000000e-01  2.000000e+00  0.000000e+00           3.000000e-01   \n",
            "75%     5.000000e-01  3.000000e+00  0.000000e+00           3.000000e-01   \n",
            "max     3.300000e+00  8.888800e+02  1.933000e+02           3.000000e-01   \n",
            "std     7.073286e-02  2.745212e+00  1.658097e+00           3.879780e-02   \n",
            "\n",
            "        total_amount  congestion_surcharge   airport_fee  trip_duration  \n",
            "count   2.354941e+06          2.354941e+06  2.354941e+06   2.354941e+06  \n",
            "unique           NaN                   NaN           NaN            NaN  \n",
            "top              NaN                   NaN           NaN            NaN  \n",
            "freq             NaN                   NaN           NaN            NaN  \n",
            "mean    1.891904e+01          2.305756e+00  8.245907e-02   1.424317e+01  \n",
            "min    -4.088500e+02         -2.500000e+00 -1.250000e+00   1.016667e+00  \n",
            "25%     1.130000e+01          2.500000e+00  0.000000e+00   6.400000e+00  \n",
            "50%     1.430000e+01          2.500000e+00  0.000000e+00   1.018333e+01  \n",
            "75%     1.956000e+01          2.500000e+00  0.000000e+00   1.608333e+01  \n",
            "max     4.010956e+05          2.500000e+00  1.250000e+00   7.890833e+03  \n",
            "std     2.617654e+02          7.034547e-01  3.117914e-01   4.642844e+01  \n"
          ]
        }
      ],
      "source": [
        "# Create new feature, 'trip_duration'.\n",
        "trip_duration=(NYC_Yellow_Taxi_202201_NN['tpep_dropoff_datetime']-NYC_Yellow_Taxi_202201_NN['tpep_pickup_datetime']).dt.total_seconds() / 60\n",
        "NYC_Yellow_Taxi_202201_NN.loc[:,'trip_duration']=trip_duration\n",
        "print(NYC_Yellow_Taxi_202201_NN.head())\n",
        "# Drop rows where trip_duration is less than 1 minute and where trip_distance is less than or equal to zero.\n",
        "NYC_Yellow_Taxi_202201_NN = NYC_Yellow_Taxi_202201_NN[NYC_Yellow_Taxi_202201_NN['trip_duration']>1]\n",
        "NYC_Yellow_Taxi_202201_NN = NYC_Yellow_Taxi_202201_NN[NYC_Yellow_Taxi_202201_NN['trip_distance']>0]\n",
        "# Summary Statistics of the dataset.\n",
        "NYCYellow_Stats = NYC_Yellow_Taxi_202201_NN.describe(include='all')\n",
        "print(NYCYellow_Stats)"
      ]
    },
    {
      "cell_type": "code",
      "execution_count": 6,
      "metadata": {
        "id": "R5d84tINrG9d",
        "colab": {
          "base_uri": "https://localhost:8080/"
        },
        "outputId": "1d2a0f70-81c2-4604-c0db-0115dae3d601"
      },
      "outputs": [
        {
          "output_type": "stream",
          "name": "stdout",
          "text": [
            "['VendorID', 'trip_distance', 'payment_type', 'PULocationID', 'DOLocationID', 'trip_duration']\n"
          ]
        }
      ],
      "source": [
        "# Create a list called feature_col to store column names\n",
        "feature_col=['VendorID', 'trip_distance', 'payment_type', 'PULocationID', 'DOLocationID', 'trip_duration']\n",
        "print(feature_col)"
      ]
    },
    {
      "cell_type": "markdown",
      "metadata": {
        "id": "eq2kgevn51LY"
      },
      "source": [
        "Splitting a dataset into training and test sets is a crucial step in machine learning model development. It allows us to evaluate the performance and generalization ability of our models accurately. The training set is used to train the model, while the test set serves as an independent sample for evaluating its performance.\n",
        "\n",
        "1. **Model Training**: The training set is used to fit the model, allowing it to learn the underlying patterns and relationships between the features and the target variable. By exposing the model to a diverse range of examples in the training set, it can capture the underlying structure of the data.\n",
        "\n",
        "2. **Model Evaluation**: The test set, which is independent of the training set, is crucial for evaluating how well the trained model generalizes to unseen data. It provides an unbiased assessment of the model's performance on new instances. By measuring the model's accuracy, precision, recall, or other evaluation metrics on the test set, we can estimate how well the model will perform on unseen data.\n",
        "\n",
        "3. **Preventing Overfitting**: Overfitting occurs when a model learns the training data's noise and idiosyncrasies instead of the underlying patterns. By evaluating the model on the test set, we can identify if the model is overfitting. If the model performs significantly worse on the test set compared to the training set, it indicates overfitting. In such cases, we might need to adjust the model, feature selection, or regularization techniques to improve generalization.\n",
        "\n",
        "4. **Hyperparameter Tuning**: Splitting the dataset allows us to perform hyperparameter tuning on the model. Hyperparameters are configuration settings that control the learning process, such as learning rate, regularization strength, or the number of hidden layers in a neural network. By using a validation set (often created from a portion of the training set), we can iteratively adjust the hyperparameters and select the best combination that maximizes the model's performance on the validation set. The final evaluation on the test set provides an unbiased estimate of the model's performance.\n",
        "\n",
        "By splitting the dataset into training and test sets, we can ensure that our models are both well-trained and accurately evaluated. This separation helps us understand how the model will perform on new, unseen data, which is critical for assessing its effectiveness and making informed decisions about its deployment.\n",
        "\n",
        "Here is your task:\n",
        "\n",
        "  1. Use Scikit-Learn's [train_test_split](https://scikit-learn.org/stable/modules/generated/sklearn.model_selection.train_test_split.html) to split the data into training and test sets. Don't forget to set the random state."
      ]
    },
    {
      "cell_type": "code",
      "execution_count": 7,
      "metadata": {
        "id": "grdbA-I6rMGC",
        "colab": {
          "base_uri": "https://localhost:8080/"
        },
        "outputId": "2df7dee9-e6d4-4a61-f383-0443c31c6be0"
      },
      "outputs": [
        {
          "output_type": "stream",
          "name": "stdout",
          "text": [
            "(1766205, 6) (588736, 6) (1766205,) (588736,)\n",
            "         VendorID  trip_distance  payment_type  PULocationID  DOLocationID  \\\n",
            "11805           2           1.09             1           163           239   \n",
            "2131671         1           1.00             2           100            90   \n",
            "970997          1           1.00             1           237           237   \n",
            "37522           2           4.91             1           231           233   \n",
            "1566130         2           0.75             1           230           163   \n",
            "\n",
            "         trip_duration  \n",
            "11805         5.450000  \n",
            "2131671       4.433333  \n",
            "970997        8.416667  \n",
            "37522        10.983333  \n",
            "1566130       4.916667  \n"
          ]
        }
      ],
      "source": [
        "# Split dataset into training and test sets\n",
        "x_train, x_test, y_train, y_test = train_test_split(NYC_Yellow_Taxi_202201_NN[feature_col], NYC_Yellow_Taxi_202201_NN['total_amount'],random_state=42)\n",
        "print(x_train.shape,x_test.shape, y_train.shape,y_test.shape)\n",
        "print(x_train.head())"
      ]
    },
    {
      "cell_type": "markdown",
      "metadata": {
        "id": "VIAhf_oA7PGx"
      },
      "source": [
        "The importance of a baseline model, even if it uses a simple strategy like always predicting the mean, cannot be understated. Here's why a baseline model is valuable:\n",
        "\n",
        "1. **Performance Comparison**: A baseline model serves as a reference point for evaluating the performance of more sophisticated models. By establishing a simple yet reasonable baseline, we can determine whether our advanced models offer any significant improvement over this basic approach. It helps us set realistic expectations and gauge the effectiveness of our efforts.\n",
        "\n",
        "2. **Model Complexity**: A baseline model provides insight into the complexity required to solve the prediction task. If a simple strategy like predicting the median performs reasonably well, it suggests that the problem might not necessitate complex modeling techniques. Conversely, if the baseline model performs poorly, it indicates the presence of more intricate patterns that need to be captured by more sophisticated models.\n",
        "\n",
        "3. **Minimum Performance Requirement**: A baseline model can establish a minimum performance requirement for a predictive task. If we cannot outperform the baseline, it suggests that our models have failed to capture even the most fundamental relationships within the data. In such cases, we may need to revisit our data preprocessing steps, feature engineering techniques, or consider other external factors affecting the task.\n",
        "\n",
        "4. **Identifying Data Issues**: A baseline model can help identify potential issues within the dataset. If the baseline model performs poorly, it may indicate problems like missing values, outliers, or data inconsistencies. These issues can be further investigated and resolved to improve the overall model performance.\n",
        "\n",
        "While a baseline model like always predicting the median may not offer the highest prediction accuracy, its importance lies in its role as a starting point for model development and evaluation. It provides a solid foundation for comparing and assessing the performance of more complex models, ensuring that any improvements made are meaningful and significant.\n",
        "\n",
        "Here is your task:\n",
        "\n",
        "  1. Create a model that always predicts the mean total fare of the training dataset. Use Scikit-Learn's [mean_absolute_error](https://scikit-learn.org/stable/modules/generated/sklearn.metrics.mean_absolute_error.html) to evaluate this model. Is it any good?"
      ]
    },
    {
      "cell_type": "code",
      "execution_count": 8,
      "metadata": {
        "id": "6vV1UsNTFX22",
        "colab": {
          "base_uri": "https://localhost:8080/"
        },
        "outputId": "5c73e9b6-2382-4947-8dd5-e26379bf2cb6"
      },
      "outputs": [
        {
          "output_type": "stream",
          "name": "stdout",
          "text": [
            "11805      2.337615\n",
            "2131671    1.872180\n",
            "970997     1.467327\n",
            "37522      2.075873\n",
            "1566130    2.365424\n",
            "dtype: float64\n",
            "mean of rate_per_minute is:  1.707750687088592\n",
            "11805      11.688073\n",
            "2131671     8.300000\n",
            "970997     12.350000\n",
            "37522       4.643585\n",
            "1566130    15.506667\n",
            "dtype: float64\n",
            "mean of rate_per_distance is:  9.35348873425317\n",
            "254400       8.744927\n",
            "894733     148.478011\n",
            "1273496     10.503359\n",
            "2010970     14.571967\n",
            "429228      18.148405\n",
            "dtype: float64\n",
            "mean absolute error using means of rate per time and distance is:  9.64947921122655\n",
            "11805      12.74\n",
            "2131671     8.30\n",
            "970997     12.35\n",
            "37522      22.80\n",
            "1566130    11.63\n",
            "Name: total_amount, dtype: float64\n",
            "0.7699386715290323\n",
            "mean absolute error using Linear Regression is:  2.547739546842572\n"
          ]
        }
      ],
      "source": [
        "# Create a baseline for mean absolute error of total amount by computing rates of fare per distance and time, and averaging them\n",
        "rate_per_minute=y_train/x_train['trip_duration']\n",
        "rate_per_distance=y_train/x_train['trip_distance']\n",
        "print(rate_per_minute.head())\n",
        "print('mean of rate_per_minute is: ', rate_per_minute.mean())\n",
        "print(rate_per_distance.head())\n",
        "print('mean of rate_per_distance is: ', rate_per_distance.mean())\n",
        "y_baseline_permin_pred=x_test['trip_duration']*rate_per_minute.mean()\n",
        "y_baseline_perdis_pred=x_test['trip_distance']*rate_per_distance.mean()\n",
        "y_baseline_pred=(y_baseline_permin_pred+y_baseline_perdis_pred)/2\n",
        "print(y_baseline_pred.head())\n",
        "print('mean absolute error using means of rate per time and distance is: ', mean_absolute_error(y_test,y_baseline_pred))\n",
        "# Create a baseline for mean absolute error of total amount\n",
        "print(y_train.head())\n",
        "NYC_LR_baseline=LinearRegression()\n",
        "NYC_LR_baseline.fit(x_train,y_train)\n",
        "y_LR_pred=NYC_LR_baseline.predict(x_test)\n",
        "print(NYC_LR_baseline.score(x_test,y_test))\n",
        "print('mean absolute error using Linear Regression is: ', mean_absolute_error(y_test,y_LR_pred))"
      ]
    },
    {
      "cell_type": "markdown",
      "metadata": {
        "id": "sCKDGKpg8MVb"
      },
      "source": [
        "With a baseline metric in place, we can try to build a machine learning model. Obviously, if the model can't beat the baseline then there are some major issues to be resolved.\n",
        "\n",
        "It's always a good idea to start with a simple machine learning model, like linear regression, and build upon it if necessary.\n",
        "\n",
        "Here are your tasks:\n",
        "\n",
        "  1. Use Scikit-Learn's [ColumnTransformer](https://scikit-learn.org/stable/modules/generated/sklearn.compose.ColumnTransformer.html) to preprocess the categorical and continuous features independently. Apply the [StandardScaler](https://scikit-learn.org/stable/modules/generated/sklearn.preprocessing.StandardScaler.html) to the continuous columns and [OneHotEncoder](https://scikit-learn.org/stable/modules/generated/sklearn.preprocessing.OneHotEncoder.html) to the categorical columns.\n",
        "\n",
        "  One-hot encoding is a popular technique used to represent categorical variables numerically in machine learning models. It transforms categorical features into a binary vector representation, where each category is represented by a binary column. Here's an explanation of one-hot encoding:\n",
        "\n",
        "  When working with categorical variables, such as colors (e.g., red, blue, green) or vehicle types (e.g., car, truck, motorcycle), machine learning algorithms often require numerical inputs. However, directly assigning numerical values to categories can introduce unintended relationships or orderings between them. For example, assigning the values 0, 1, and 2 to the categories red, blue, and green may imply a sequential relationship, which is not desired.\n",
        "\n",
        "  One-hot encoding solves this problem by creating new binary columns, equal to the number of unique categories in the original feature. Each binary column represents a specific category and takes a value of 1 if the data point belongs to that category, and 0 otherwise. This encoding ensures that no implicit ordering or relationship exists between the categories.\n",
        "\n",
        "  2. Integrate the preprocessor in the previous step with Scikit-Learn's [LinearRegression](https://scikit-learn.org/stable/modules/generated/sklearn.linear_model.LinearRegression.html) model using a [Pipeline](https://scikit-learn.org/stable/modules/generated/sklearn.pipeline.Pipeline.html).\n",
        "\n",
        "  3. Train the pipeline on the training data.\n",
        "\n",
        "  4. Evaluate the model using mean absolute error as a metric on the test data. Does the model beat the baseline?\n"
      ]
    },
    {
      "cell_type": "code",
      "source": [
        "# Use Scikit-Learn's ColumnTransformer to preprocess the categorical and\n",
        "# continuous features independently.\n",
        "print(feature_col)\n",
        "scaler=StandardScaler()\n",
        "enc=OneHotEncoder(handle_unknown='ignore')\n",
        "#print(NYC_Yellow_Taxi_202201_NN[['trip_distance','trip_duration']])\n",
        "NYC_Yellow_Taxi_202201_cont=pd.DataFrame(scaler.fit_transform(NYC_Yellow_Taxi_202201_NN[['trip_distance','trip_duration','total_amount']]),columns=['trip_distance','trip_duration','total_amount'])\n",
        "print(NYC_Yellow_Taxi_202201_cont.head())\n",
        "#NYC_Yellow_Taxi_202201_cate=pd.DataFrame(enc.fit_transform(NYC_Yellow_Taxi_202201_NN[['VendorID', 'payment_type', 'PULocationID', 'DOLocationID']]),columns=['VendorID', 'payment_type', 'PULocationID', 'DOLocationID'])\n",
        "NYC_Yellow_Taxi_202201_cate=enc.fit_transform(NYC_Yellow_Taxi_202201_NN[['VendorID', 'payment_type', 'PULocationID', 'DOLocationID']])\n",
        "print(NYC_Yellow_Taxi_202201_cate)\n",
        "print(size(NYC_Yellow_Taxi_202201_cate))\n",
        "#x_train, x_test, y_train, y_test = train_test_split(NYC_Yellow_Taxi_202201_NN[feature_col], NYC_Yellow_Taxi_202201_NN['total_amount'],random_state=42)\n",
        "#print(x_train.shape,x_test.shape, y_train.shape,y_test.shape)\n",
        "#print(x_train.head())"
      ],
      "metadata": {
        "id": "KckTWwsiah5p",
        "colab": {
          "base_uri": "https://localhost:8080/",
          "height": 1000
        },
        "outputId": "ba958ea4-0fab-4157-ff45-ec537a02deb2"
      },
      "execution_count": 41,
      "outputs": [
        {
          "output_type": "stream",
          "name": "stdout",
          "text": [
            "['VendorID', 'trip_distance', 'payment_type', 'PULocationID', 'DOLocationID', 'trip_duration']\n",
            "   trip_distance  trip_duration  total_amount\n",
            "0       0.151310       0.076968      0.011579\n",
            "1      -0.241974      -0.125853     -0.021466\n",
            "2      -0.503393      -0.113648     -0.031933\n",
            "3      -0.475631      -0.090674     -0.027196\n",
            "4       0.266982       0.501636      0.043478\n",
            "  (0, 0)\t1.0\n",
            "  (0, 2)\t1.0\n",
            "  (0, 141)\t1.0\n",
            "  (0, 491)\t1.0\n",
            "  (1, 0)\t1.0\n",
            "  (1, 2)\t1.0\n",
            "  (1, 231)\t1.0\n",
            "  (1, 301)\t1.0\n",
            "  (2, 1)\t1.0\n",
            "  (2, 2)\t1.0\n",
            "  (2, 165)\t1.0\n",
            "  (2, 422)\t1.0\n",
            "  (3, 1)\t1.0\n",
            "  (3, 3)\t1.0\n",
            "  (3, 114)\t1.0\n",
            "  (3, 327)\t1.0\n",
            "  (4, 1)\t1.0\n",
            "  (4, 2)\t1.0\n",
            "  (4, 73)\t1.0\n",
            "  (4, 419)\t1.0\n",
            "  (5, 0)\t1.0\n",
            "  (5, 2)\t1.0\n",
            "  (5, 137)\t1.0\n",
            "  (5, 417)\t1.0\n",
            "  (6, 1)\t1.0\n",
            "  :\t:\n",
            "  (2354934, 309)\t1.0\n",
            "  (2354935, 0)\t1.0\n",
            "  (2354935, 2)\t1.0\n",
            "  (2354935, 229)\t1.0\n",
            "  (2354935, 491)\t1.0\n",
            "  (2354936, 0)\t1.0\n",
            "  (2354936, 3)\t1.0\n",
            "  (2354936, 162)\t1.0\n",
            "  (2354936, 399)\t1.0\n",
            "  (2354937, 1)\t1.0\n",
            "  (2354937, 2)\t1.0\n",
            "  (2354937, 244)\t1.0\n",
            "  (2354937, 327)\t1.0\n",
            "  (2354938, 1)\t1.0\n",
            "  (2354938, 2)\t1.0\n",
            "  (2354938, 73)\t1.0\n",
            "  (2354938, 349)\t1.0\n",
            "  (2354939, 1)\t1.0\n",
            "  (2354939, 2)\t1.0\n",
            "  (2354939, 94)\t1.0\n",
            "  (2354939, 338)\t1.0\n",
            "  (2354940, 1)\t1.0\n",
            "  (2354940, 2)\t1.0\n",
            "  (2354940, 139)\t1.0\n",
            "  (2354940, 283)\t1.0\n"
          ]
        },
        {
          "output_type": "error",
          "ename": "NameError",
          "evalue": "name 'size' is not defined",
          "traceback": [
            "\u001b[0;31m---------------------------------------------------------------------------\u001b[0m",
            "\u001b[0;31mNameError\u001b[0m                                 Traceback (most recent call last)",
            "\u001b[0;32m<ipython-input-41-fed380ea8124>\u001b[0m in \u001b[0;36m<cell line: 12>\u001b[0;34m()\u001b[0m\n\u001b[1;32m     10\u001b[0m \u001b[0mNYC_Yellow_Taxi_202201_cate\u001b[0m\u001b[0;34m=\u001b[0m\u001b[0menc\u001b[0m\u001b[0;34m.\u001b[0m\u001b[0mfit_transform\u001b[0m\u001b[0;34m(\u001b[0m\u001b[0mNYC_Yellow_Taxi_202201_NN\u001b[0m\u001b[0;34m[\u001b[0m\u001b[0;34m[\u001b[0m\u001b[0;34m'VendorID'\u001b[0m\u001b[0;34m,\u001b[0m \u001b[0;34m'payment_type'\u001b[0m\u001b[0;34m,\u001b[0m \u001b[0;34m'PULocationID'\u001b[0m\u001b[0;34m,\u001b[0m \u001b[0;34m'DOLocationID'\u001b[0m\u001b[0;34m]\u001b[0m\u001b[0;34m]\u001b[0m\u001b[0;34m)\u001b[0m\u001b[0;34m\u001b[0m\u001b[0;34m\u001b[0m\u001b[0m\n\u001b[1;32m     11\u001b[0m \u001b[0mprint\u001b[0m\u001b[0;34m(\u001b[0m\u001b[0mNYC_Yellow_Taxi_202201_cate\u001b[0m\u001b[0;34m)\u001b[0m\u001b[0;34m\u001b[0m\u001b[0;34m\u001b[0m\u001b[0m\n\u001b[0;32m---> 12\u001b[0;31m \u001b[0mprint\u001b[0m\u001b[0;34m(\u001b[0m\u001b[0msize\u001b[0m\u001b[0;34m(\u001b[0m\u001b[0mNYC_Yellow_Taxi_202201_cate\u001b[0m\u001b[0;34m)\u001b[0m\u001b[0;34m)\u001b[0m\u001b[0;34m\u001b[0m\u001b[0;34m\u001b[0m\u001b[0m\n\u001b[0m\u001b[1;32m     13\u001b[0m \u001b[0;31m#x_train, x_test, y_train, y_test = train_test_split(NYC_Yellow_Taxi_202201_NN[feature_col], NYC_Yellow_Taxi_202201_NN['total_amount'],random_state=42)\u001b[0m\u001b[0;34m\u001b[0m\u001b[0;34m\u001b[0m\u001b[0m\n\u001b[1;32m     14\u001b[0m \u001b[0;31m#print(x_train.shape,x_test.shape, y_train.shape,y_test.shape)\u001b[0m\u001b[0;34m\u001b[0m\u001b[0;34m\u001b[0m\u001b[0m\n",
            "\u001b[0;31mNameError\u001b[0m: name 'size' is not defined"
          ]
        }
      ]
    },
    {
      "cell_type": "code",
      "execution_count": 43,
      "metadata": {
        "id": "yVzxrDu6w506",
        "colab": {
          "base_uri": "https://localhost:8080/"
        },
        "outputId": "9c8ba816-1500-4977-d36f-a3dc5776f9c6"
      },
      "outputs": [
        {
          "output_type": "stream",
          "name": "stdout",
          "text": [
            "[['Male', 1], ['Female', 3], ['Female', 2]]\n"
          ]
        }
      ],
      "source": [
        "# Create a pipeline object containing the column transformations and regression\n",
        "# model.\n",
        "X = [['Male', 1], ['Female', 3], ['Female', 2]]\n",
        "print(X)"
      ]
    },
    {
      "cell_type": "code",
      "source": [
        "# Fit the pipeline on the training data."
      ],
      "metadata": {
        "id": "7Dhli3fkalIS"
      },
      "execution_count": 11,
      "outputs": []
    },
    {
      "cell_type": "code",
      "source": [
        "# Make predictions on the test data."
      ],
      "metadata": {
        "id": "mUkcHyJpamxC"
      },
      "execution_count": 12,
      "outputs": []
    },
    {
      "cell_type": "markdown",
      "metadata": {
        "id": "d1669p0UBHrx"
      },
      "source": [
        "Random Forest Regression and Linear Regression are two commonly used regression algorithms, each with its own advantages and suitability for different scenarios. Random Forest Regression offers several advantages over Linear Regression, including:\n",
        "\n",
        "1. **Non-linearity**: Random Forest Regressor is capable of capturing non-linear relationships between features and the target variable. In contrast, Linear Regression assumes a linear relationship between the features and the target. When faced with non-linear relationships or complex feature interactions, Random Forest Regressor can provide more accurate predictions.\n",
        "\n",
        "2. **Robustness to Outliers**: Random Forest Regressor is generally more robust to outliers compared to Linear Regression. Outliers can disproportionately impact the coefficients and predictions of Linear Regression models. However, as an ensemble of decision trees, Random Forest Regressor can mitigate the effect of outliers by averaging predictions from multiple trees.\n",
        "\n",
        "3. **Feature Importance**: Random Forest Regressor provides a measure of feature importance, which helps identify the most influential features for making predictions. This information is useful for feature selection, understanding the underlying relationships in the data, and gaining insights into the problem domain. Unlike Linear Regression, which provides coefficient values indicating the direction and magnitude of relationships, Random Forest Regressor explicitly highlights feature importance.\n",
        "\n",
        "4. **Handling of Categorical Variables**: Random Forest Regressor can effectively handle categorical variables without requiring pre-processing steps like one-hot encoding. It can directly incorporate categorical variables into the model, making it more convenient when working with mixed data types. In contrast, Linear Regression often requires categorical variables to be encoded or transformed before use.\n",
        "\n",
        "5. **Handling of High-Dimensional Data**: Random Forest Regressor can handle datasets with a large number of features (high dimensionality) by automatically selecting subsets of features during the construction of individual decision trees. This reduces the risk of overfitting, which is a concern with Linear Regression when dealing with high-dimensional data.\n",
        "\n",
        "6. **Resistance to Multicollinearity**: Random Forest Regressor is less affected by multicollinearity, which occurs when predictor variables are highly correlated. In Linear Regression, highly correlated features can lead to unstable coefficient estimates, making it challenging to interpret the individual effects of each feature. Random Forest Regressor, as an ensemble approach, is less impacted by multicollinearity because each tree is built independently.\n",
        "\n",
        "Here are your tasks:\n",
        "\n",
        "  1. Build a Random Forest Regressor model using Scikit-Learn's [RandomForestRegressor](https://scikit-learn.org/stable/modules/generated/sklearn.ensemble.RandomForestRegressor.html) and train it on the train data.\n",
        "\n",
        "  2. Evaluate the performance of the model on the test data using mean absolute error as a metric. Mess around with various input parameter configurations to see how they affect the model. Can you beat the performance of the linear regression model?"
      ]
    },
    {
      "cell_type": "code",
      "execution_count": 13,
      "metadata": {
        "id": "QU4tTQKl4q_n"
      },
      "outputs": [],
      "source": [
        "# Build random forest regressor model"
      ]
    },
    {
      "cell_type": "code",
      "execution_count": 14,
      "metadata": {
        "id": "P6SIX9EK5RYi"
      },
      "outputs": [],
      "source": [
        "# Make predictions on the test data"
      ]
    },
    {
      "cell_type": "markdown",
      "metadata": {
        "id": "5CuYk9WBFF2X"
      },
      "source": [
        "Hyperparameter tuning plays a critical role in machine learning model development. It involves selecting the optimal values for the hyperparameters, which are configuration settings that control the behavior of the learning algorithm. Here's why hyperparameter tuning is so important in ML:\n",
        "\n",
        "1. **Optimizing Model Performance**: The choice of hyperparameters can significantly impact the model's performance. By fine-tuning the hyperparameters, we can improve the model's accuracy, precision, recall, or other performance metrics. It helps to extract the maximum predictive power from the chosen algorithm and ensures that the model is well-suited to the specific problem at hand.\n",
        "\n",
        "2. **Avoiding Overfitting and Underfitting**: Hyperparameter tuning helps strike a balance between overfitting and underfitting.\n",
        "\n",
        "3. **Exploring Model Complexity**: Hyperparameter tuning enables us to explore the complexity of the model. For instance, in algorithms like decision trees or neural networks, we can adjust the number of layers, the number of neurons, or the maximum depth of the tree. By systematically modifying these hyperparameters, we can understand how different levels of complexity impact the model's performance and find the right balance between simplicity and complexity.\n",
        "\n",
        "Note, there are multiple approaches to hyperparemeter tuning.  \n",
        "\n",
        "While grid search is the easiest to understand and implement there are many advantages of Bayesian search over grid search for hyperparameter tuning:\n",
        "\n",
        "1. **Efficiency**: Bayesian search is generally more efficient than grid search. Grid search explores all possible combinations of hyperparameter values, which can be computationally expensive and time-consuming, especially when dealing with a large number of hyperparameters or a wide range of values. Bayesian search, on the other hand, intelligently selects the next hyperparameter configuration to evaluate based on the results of previous evaluations. It focuses on areas of the hyperparameter space that are more likely to yield better performance, reducing the number of evaluations needed.\n",
        "\n",
        "2. **Flexibility**: Bayesian search is flexible in handling continuous and discrete hyperparameters. It can handle both types of hyperparameters naturally and effectively. In contrast, grid search is more suitable for discrete hyperparameters but may struggle with continuous ones, as it requires discretization or defining a finite set of values to search over.\n",
        "\n",
        "3. **Adaptive Search**: Bayesian search adapts its search strategy based on the results of previous evaluations. It maintains a probability distribution over the hyperparameter space, updating it with each evaluation. This allows it to dynamically allocate more evaluations to promising regions and explore unexplored areas. In contrast, grid search follows a fixed and predefined search grid, regardless of the results of previous evaluations.\n",
        "\n",
        "4. **Better Convergence**: Bayesian search has the potential to converge to the optimal hyperparameter configuration more quickly.\n",
        "\n",
        "Here are your tasks:\n",
        "\n",
        "  1. Perform a grid-search on a Random Forest Regressor model. Only search the space for the parameters 'n_estimators', 'max_depth', and 'min_samples_split'. Note, this can take some time to run. Make sure you set reasonable boundaries for the search space. Use Scikit-Learn's [GridSearchCV](https://scikit-learn.org/stable/modules/generated/sklearn.model_selection.GridSearchCV.html) method.\n",
        "\n",
        "  2. After you've identified the best parameters, train a random forest regression model using these parameters on the full training data.\n",
        "\n",
        "  3. Evaluate the model from the previous step using the test data. How does your model perform?"
      ]
    },
    {
      "cell_type": "code",
      "source": [
        "# Define the hyperparameters to tune."
      ],
      "metadata": {
        "id": "HlmZeNDOa1zs"
      },
      "execution_count": 15,
      "outputs": []
    },
    {
      "cell_type": "code",
      "execution_count": 16,
      "metadata": {
        "id": "NWaMWOH6Kdho"
      },
      "outputs": [],
      "source": [
        "# Perform grid search to find the best hyperparameters. This could take a while."
      ]
    },
    {
      "cell_type": "code",
      "source": [
        "# Get the best model and its parameters."
      ],
      "metadata": {
        "id": "_JO-wsm7a58f"
      },
      "execution_count": 17,
      "outputs": []
    },
    {
      "cell_type": "code",
      "execution_count": 18,
      "metadata": {
        "id": "W7ier_bt23RS"
      },
      "outputs": [],
      "source": [
        "# Fit the best classifier on the training data."
      ]
    },
    {
      "cell_type": "code",
      "execution_count": 19,
      "metadata": {
        "id": "ZHPrwD41tq13"
      },
      "outputs": [],
      "source": [
        "# Make predictions on the test data"
      ]
    }
  ],
  "metadata": {
    "colab": {
      "provenance": [],
      "include_colab_link": true
    },
    "kernelspec": {
      "display_name": "Python 3",
      "name": "python3"
    },
    "language_info": {
      "name": "python"
    }
  },
  "nbformat": 4,
  "nbformat_minor": 0
}