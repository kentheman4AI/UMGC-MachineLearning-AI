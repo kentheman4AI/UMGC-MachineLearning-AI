{
  "cells": [
    {
      "cell_type": "markdown",
      "metadata": {
        "id": "Yzr5Eo_qxHQi"
      },
      "source": [
        "# Mini Project: Trees and Forests\n",
        "\n",
        "In this mini-project you'll be introduced to some fundamental concepts in machine learning: **Decision Trees**, **Random Forests**, **Boosting**, and **Bagging**. These techniques play a crucial role in building powerful and versatile machine learning models that can be applied to a wide range of tasks, from classification to regression.\n",
        "\n",
        "## Decision Trees\n",
        "\n",
        "Decision Trees are intuitive models that mimic human decision-making processes. Just like answering a series of questions to reach a conclusion, decision trees segment data based on a sequence of if-else questions. They partition the feature space into regions and assign a label to each region. Decision trees are particularly helpful in understanding the decision-making process behind predictions.\n",
        "\n",
        "## Random Forests\n",
        "\n",
        "Random Forests are an ensemble method that combines multiple decision trees to create a more robust and accurate model. Each tree in a random forest is trained on a random subset of the data with replacement (bootstrapping), and these trees are allowed to make individual predictions. The final prediction is determined through majority voting (classification) or averaging (regression) of the predictions made by the individual trees. Random Forests are known for their ability to handle noisy data, reduce overfitting, and capture complex relationships.\n",
        "\n",
        "## Bagging: Bootstrap Aggregating\n",
        "\n",
        "Bagging, short for Bootstrap Aggregating, is the technique behind Random Forests. It involves training multiple models on bootstrapped subsets of the training data. Bagging reduces the variance of the model by averaging out the noise and errors present in individual models. While Random Forests are a specific application of bagging to decision trees, bagging can also be applied to other base models.\n",
        "\n",
        "## Boosting\n",
        "\n",
        "Boosting is another ensemble technique that focuses on building a strong predictor by sequentially training multiple weak learners (often shallow decision trees). Boosting assigns weights to training instances, focusing more on those that the previous models misclassified. This iterative process helps the model correct its mistakes and improve its performance over time. Popular boosting algorithms include AdaBoost, Gradient Boosting, and XGBoost.\n",
        "\n",
        "In this mini-project, we will:\n",
        "\n",
        "1. Implement and visualize decision trees using the scikit-learn library.\n",
        "2. Explore the power of random forests and understand feature importance.\n",
        "3. Dive into the boosting technique with AdaBoost to enhance model accuracy."
      ]
    },
    {
      "cell_type": "markdown",
      "source": [
        "For this mini-project we'll be using the [Breast Cancer Wisconsin (Diagnostic) dataset](https://scikit-learn.org/stable/modules/generated/sklearn.datasets.load_breast_cancer.html). First, let's import all the libraries we'll be using."
      ],
      "metadata": {
        "id": "2JZGx1fBfi08"
      }
    },
    {
      "cell_type": "code",
      "source": [
        "import numpy as np\n",
        "import pandas as pd\n",
        "import matplotlib.pyplot as plt\n",
        "from sklearn.datasets import load_breast_cancer\n",
        "from sklearn.model_selection import train_test_split\n",
        "from sklearn.tree import DecisionTreeClassifier, plot_tree\n",
        "from sklearn.ensemble import RandomForestClassifier, AdaBoostClassifier\n",
        "from sklearn.metrics import accuracy_score"
      ],
      "metadata": {
        "id": "5ynUME3XEH-Q"
      },
      "execution_count": 113,
      "outputs": []
    },
    {
      "cell_type": "markdown",
      "source": [
        "Here are your tasks:\n",
        "\n",
        "1. Use [load_breast_cancer](https://scikit-learn.org/stable/modules/generated/sklearn.datasets.load_breast_cancer.html) to load the Breast Cancer Wisconsin dataset as a Pandas dataframe.\n",
        "2. Split the dataset into training and test sets.\n",
        "3. Display the first five rows of data and make sure everything looks ok. You should have already explored the data a bit in the logistic regression mini-project so there's no need to conduct further EDA.  "
      ],
      "metadata": {
        "id": "81annADtOkJf"
      }
    },
    {
      "cell_type": "code",
      "source": [
        "# Load the Breast Cancer Wisconsin dataset\n",
        "wis_cancer_data = load_breast_cancer()\n",
        "print(wis_cancer_data.keys())"
      ],
      "metadata": {
        "id": "jN6cgyIREPGN",
        "colab": {
          "base_uri": "https://localhost:8080/"
        },
        "outputId": "f839f2b1-4bf9-4a20-c1fa-7381c2f8a165"
      },
      "execution_count": 114,
      "outputs": [
        {
          "output_type": "stream",
          "name": "stdout",
          "text": [
            "dict_keys(['data', 'target', 'frame', 'target_names', 'DESCR', 'feature_names', 'filename', 'data_module'])\n"
          ]
        }
      ]
    },
    {
      "cell_type": "code",
      "source": [
        "# Split the dataset into training and testing sets\n",
        "x_train, x_test, y_train, y_test = train_test_split(wis_cancer_data.data, wis_cancer_data.target)\n",
        "print(x_train.shape,x_test.shape, y_train.shape,y_test.shape)"
      ],
      "metadata": {
        "id": "F7-6BwIiWhY1",
        "colab": {
          "base_uri": "https://localhost:8080/"
        },
        "outputId": "faa35586-88ed-4a34-ed59-13088581915f"
      },
      "execution_count": 115,
      "outputs": [
        {
          "output_type": "stream",
          "name": "stdout",
          "text": [
            "(426, 30) (143, 30) (426,) (143,)\n"
          ]
        }
      ]
    },
    {
      "cell_type": "code",
      "source": [
        "# Display first 5 rows\n",
        "print(x_train[0:5,:]), print(x_test[0:5,:]), print(y_train[0:5]), print(y_test[0:5])"
      ],
      "metadata": {
        "id": "rOTFtVlxEjvN",
        "colab": {
          "base_uri": "https://localhost:8080/"
        },
        "outputId": "3517bb7a-378d-45a3-979d-e873ea407e48"
      },
      "execution_count": 116,
      "outputs": [
        {
          "output_type": "stream",
          "name": "stdout",
          "text": [
            "[[1.346e+01 2.821e+01 8.589e+01 5.621e+02 7.517e-02 4.726e-02 1.271e-02\n",
            "  1.117e-02 1.421e-01 5.763e-02 1.689e-01 1.150e+00 1.400e+00 1.491e+01\n",
            "  4.942e-03 1.203e-02 7.508e-03 5.179e-03 1.442e-02 1.684e-03 1.469e+01\n",
            "  3.563e+01 9.711e+01 6.806e+02 1.108e-01 1.457e-01 7.934e-02 5.781e-02\n",
            "  2.694e-01 7.061e-02]\n",
            " [1.406e+01 1.718e+01 8.975e+01 6.091e+02 8.045e-02 5.361e-02 2.681e-02\n",
            "  3.251e-02 1.641e-01 5.764e-02 1.504e-01 1.685e+00 1.237e+00 1.267e+01\n",
            "  5.371e-03 1.273e-02 1.132e-02 9.155e-03 1.719e-02 1.444e-03 1.492e+01\n",
            "  2.534e+01 9.642e+01 6.845e+02 1.066e-01 1.231e-01 8.460e-02 7.911e-02\n",
            "  2.523e-01 6.609e-02]\n",
            " [1.049e+01 1.929e+01 6.741e+01 3.361e+02 9.989e-02 8.578e-02 2.995e-02\n",
            "  1.201e-02 2.217e-01 6.481e-02 3.550e-01 1.534e+00 2.302e+00 2.313e+01\n",
            "  7.595e-03 2.219e-02 2.880e-02 8.614e-03 2.710e-02 3.451e-03 1.154e+01\n",
            "  2.331e+01 7.422e+01 4.028e+02 1.219e-01 1.486e-01 7.987e-02 3.203e-02\n",
            "  2.826e-01 7.552e-02]\n",
            " [1.419e+01 2.381e+01 9.287e+01 6.107e+02 9.463e-02 1.306e-01 1.115e-01\n",
            "  6.462e-02 2.235e-01 6.433e-02 4.207e-01 1.845e+00 3.534e+00 3.100e+01\n",
            "  1.088e-02 3.710e-02 3.688e-02 1.627e-02 4.499e-02 4.768e-03 1.686e+01\n",
            "  3.485e+01 1.150e+02 8.113e+02 1.559e-01 4.059e-01 3.744e-01 1.772e-01\n",
            "  4.724e-01 1.026e-01]\n",
            " [1.171e+01 1.667e+01 7.472e+01 4.236e+02 1.051e-01 6.095e-02 3.592e-02\n",
            "  2.600e-02 1.339e-01 5.945e-02 4.489e-01 2.508e+00 3.258e+00 3.437e+01\n",
            "  6.578e-03 1.380e-02 2.662e-02 1.307e-02 1.359e-02 3.707e-03 1.333e+01\n",
            "  2.548e+01 8.616e+01 5.467e+02 1.271e-01 1.028e-01 1.046e-01 6.968e-02\n",
            "  1.712e-01 7.343e-02]]\n",
            "[[1.630e+01 1.570e+01 1.047e+02 8.198e+02 9.427e-02 6.712e-02 5.526e-02\n",
            "  4.563e-02 1.711e-01 5.657e-02 2.067e-01 4.706e-01 1.146e+00 2.067e+01\n",
            "  7.394e-03 1.203e-02 2.470e-02 1.431e-02 1.344e-02 2.569e-03 1.732e+01\n",
            "  1.776e+01 1.098e+02 9.282e+02 1.354e-01 1.361e-01 1.947e-01 1.357e-01\n",
            "  2.300e-01 7.230e-02]\n",
            " [1.262e+01 2.397e+01 8.135e+01 4.964e+02 7.903e-02 7.529e-02 5.438e-02\n",
            "  2.036e-02 1.514e-01 6.019e-02 2.449e-01 1.066e+00 1.445e+00 1.851e+01\n",
            "  5.169e-03 2.294e-02 3.016e-02 8.691e-03 1.365e-02 3.407e-03 1.420e+01\n",
            "  3.131e+01 9.067e+01 6.240e+02 1.227e-01 3.454e-01 3.911e-01 1.180e-01\n",
            "  2.826e-01 9.585e-02]\n",
            " [8.726e+00 1.583e+01 5.584e+01 2.309e+02 1.150e-01 8.201e-02 4.132e-02\n",
            "  1.924e-02 1.649e-01 7.633e-02 1.665e-01 5.864e-01 1.354e+00 8.966e+00\n",
            "  8.261e-03 2.213e-02 3.259e-02 1.040e-02 1.708e-02 3.806e-03 9.628e+00\n",
            "  1.962e+01 6.448e+01 2.844e+02 1.724e-01 2.364e-01 2.456e-01 1.050e-01\n",
            "  2.926e-01 1.017e-01]\n",
            " [1.003e+01 2.128e+01 6.319e+01 3.073e+02 8.117e-02 3.912e-02 2.470e-03\n",
            "  5.159e-03 1.630e-01 6.439e-02 1.851e-01 1.341e+00 1.184e+00 1.160e+01\n",
            "  5.724e-03 5.697e-03 2.074e-03 3.527e-03 1.445e-02 2.411e-03 1.111e+01\n",
            "  2.894e+01 6.992e+01 3.763e+02 1.126e-01 7.094e-02 1.235e-02 2.579e-02\n",
            "  2.349e-01 8.061e-02]\n",
            " [1.116e+01 2.141e+01 7.095e+01 3.803e+02 1.018e-01 5.978e-02 8.955e-03\n",
            "  1.076e-02 1.615e-01 6.144e-02 2.865e-01 1.678e+00 1.968e+00 1.899e+01\n",
            "  6.908e-03 9.442e-03 6.972e-03 6.159e-03 2.694e-02 2.060e-03 1.236e+01\n",
            "  2.892e+01 7.926e+01 4.580e+02 1.282e-01 1.108e-01 3.582e-02 4.306e-02\n",
            "  2.976e-01 7.123e-02]]\n",
            "[1 1 1 0 1]\n",
            "[1 1 1 1 1]\n"
          ]
        },
        {
          "output_type": "execute_result",
          "data": {
            "text/plain": [
              "(None, None, None, None)"
            ]
          },
          "metadata": {},
          "execution_count": 116
        }
      ]
    },
    {
      "cell_type": "markdown",
      "source": [
        "Let's start by diving into decision trees. At a high level, decision trees are a machine learning algorithm used for both classification and regression tasks. They model decisions and decision-making processes by breaking down a complex decision into a sequence of simpler decisions or questions. Each decision leads to one of several possible outcomes, eventually leading to a prediction or classification.\n",
        "\n",
        "**Decision trees are built out of the following components:**\n",
        "- **Nodes:** Decision trees consist of nodes. The initial node is the root node, and the final nodes are called leaf nodes.\n",
        "- **Edges:** Edges connect nodes and represent the decision outcomes.\n",
        "- **Attributes/Features:** Each node involves a decision based on a specific attribute or feature.\n",
        "- **Splitting:** At each node, the dataset is partitioned into subsets based on an attribute's values.\n",
        "- **Leaf Nodes:** These nodes represent the final predicted class or value.\n",
        "\n",
        "**How Decision Trees Work:**\n",
        "1. **Selecting the Best Feature:** Decision trees start with the root node and select the feature that best separates the data.\n",
        "2. **Splitting:** The selected feature is used to split the data into subsets at each internal node.\n",
        "3. **Repeating:** The process continues recursively for each subset, selecting the best feature at each node.\n",
        "4. **Leaf Nodes:** The process stops when a certain stopping criterion is met, or when all instances at a node belong to the same class.\n",
        "\n",
        "**Advantages:**\n",
        "1. **Interpretability:** Decision trees are easy to understand and interpret. The path from the root to a leaf node can be visualized as a sequence of decisions.\n",
        "2. **Handles Numerical and Categorical Data:** Decision trees can handle both numerical and categorical data, making them versatile.\n",
        "3. **Non-Linearity:** They can capture non-linear relationships between features and the target variable.\n",
        "4. **Feature Importance:** Decision trees provide a measure of feature importance, helping in feature selection.\n",
        "\n",
        "**Challenges and Considerations:**\n",
        "1. **Overfitting:** Decision trees can create overly complex models that fit the training data too closely, leading to poor generalization.\n",
        "2. **Instability:** Small changes in the data can lead to different trees, which can make the model unstable.\n",
        "3. **Bias towards Majority Class:** In classification tasks, decision trees tend to favor the majority class if classes are imbalanced.\n",
        "\n",
        "**Improvements:**\n",
        "1. **Pruning:** Pruning is the process of removing branches that do not improve the model's performance on validation data, reducing overfitting.\n",
        "2. **Ensemble Methods:** Random Forests and Gradient Boosting Trees are ensemble methods that combine multiple decision trees to improve performance.\n",
        "\n",
        "There are a number of different metrics used to determine how to split a node in a decision tree. The Gini impurity is a popular criterion used in decision tree algorithms. It measures the degree of impurity in a dataset, where lower values indicate more pure subsets of data. In the context of decision trees, the Gini impurity is used to assess how often a randomly chosen element would be misclassified if it were randomly assigned to a class based on the distribution of class labels in a subset. The Gini impurity ranges between 0 (pure node, all instances belong to a single class) and 0.5 (impure node, instances are evenly distributed across classes)."
      ],
      "metadata": {
        "id": "bT64m51APSGh"
      }
    },
    {
      "cell_type": "markdown",
      "source": [
        "Here are your tasks:\n",
        "\n",
        "1. Use Scikit-Learn's [DecisionTreeClassifier](https://scikit-learn.org/stable/modules/generated/sklearn.tree.DecisionTreeClassifier.html) to fit a model on the training data.\n",
        "2. Visualize the resulting tree using [plot_tree](https://scikit-learn.org/stable/modules/generated/sklearn.tree.plot_tree.html).\n",
        "3. Iterate on the first two steps by trying different inputs to the decision tree classifier. What happens if you change the max depth? How about the maximum number of lead nodes? From the visualization, make sure you're able to understand how to descend the decision tree to arrive at a prediction."
      ],
      "metadata": {
        "id": "PjRU4fdmTSF5"
      }
    },
    {
      "cell_type": "code",
      "source": [
        "# Create a Decision Tree model\n",
        "# The argument 'max_leaf_nodes' dictate how many decisions are modeled according to (max_leaf_nodes-1)\n",
        "# The argument 'max_depth' dictate the maximum depth of the tree\n",
        "wis_cancer_DTM = DecisionTreeClassifier(criterion='entropy') # max_leaf_nodes=n, max_depth=d\n",
        "wis_cancer_DTM.fit(x_train,y_train)\n",
        "print(type(wis_cancer_DTM))"
      ],
      "metadata": {
        "id": "41e16xuuWk_q",
        "colab": {
          "base_uri": "https://localhost:8080/"
        },
        "outputId": "bc6ff51c-fad1-483e-e56d-2c9503dcebf8"
      },
      "execution_count": 117,
      "outputs": [
        {
          "output_type": "stream",
          "name": "stdout",
          "text": [
            "<class 'sklearn.tree._classes.DecisionTreeClassifier'>\n"
          ]
        }
      ]
    },
    {
      "cell_type": "code",
      "source": [
        "# Visualize the Decision Tree\n",
        "print(wis_cancer_data.feature_names)\n",
        "#the argument 'max_depth' determines the number of splits in the tree that are visualized according to 2^(max_depth-1)-1\n",
        "plot_tree(wis_cancer_DTM,feature_names=wis_cancer_data.feature_names,max_depth=6)"
      ],
      "metadata": {
        "id": "93kbxVvJEtFx",
        "colab": {
          "base_uri": "https://localhost:8080/",
          "height": 1000
        },
        "outputId": "209aa851-ce6b-48b9-8ead-9a776a8aa313"
      },
      "execution_count": 118,
      "outputs": [
        {
          "output_type": "stream",
          "name": "stdout",
          "text": [
            "['mean radius' 'mean texture' 'mean perimeter' 'mean area'\n",
            " 'mean smoothness' 'mean compactness' 'mean concavity'\n",
            " 'mean concave points' 'mean symmetry' 'mean fractal dimension'\n",
            " 'radius error' 'texture error' 'perimeter error' 'area error'\n",
            " 'smoothness error' 'compactness error' 'concavity error'\n",
            " 'concave points error' 'symmetry error' 'fractal dimension error'\n",
            " 'worst radius' 'worst texture' 'worst perimeter' 'worst area'\n",
            " 'worst smoothness' 'worst compactness' 'worst concavity'\n",
            " 'worst concave points' 'worst symmetry' 'worst fractal dimension']\n"
          ]
        },
        {
          "output_type": "execute_result",
          "data": {
            "text/plain": [
              "[Text(0.675, 0.9375, 'worst area <= 884.55\\nentropy = 0.958\\nsamples = 426\\nvalue = [162, 264]'),\n",
              " Text(0.45, 0.8125, 'worst concave points <= 0.132\\nentropy = 0.408\\nsamples = 282\\nvalue = [23, 259]'),\n",
              " Text(0.25, 0.6875, 'area error <= 36.465\\nentropy = 0.12\\nsamples = 245\\nvalue = [4, 241]'),\n",
              " Text(0.1, 0.5625, 'worst texture <= 33.27\\nentropy = 0.04\\nsamples = 232\\nvalue = [1, 231]'),\n",
              " Text(0.05, 0.4375, 'entropy = 0.0\\nsamples = 216\\nvalue = [0, 216]'),\n",
              " Text(0.15, 0.4375, 'worst texture <= 33.56\\nentropy = 0.337\\nsamples = 16\\nvalue = [1, 15]'),\n",
              " Text(0.1, 0.3125, 'entropy = 0.0\\nsamples = 1\\nvalue = [1, 0]'),\n",
              " Text(0.2, 0.3125, 'entropy = 0.0\\nsamples = 15\\nvalue = [0, 15]'),\n",
              " Text(0.4, 0.5625, 'worst concave points <= 0.111\\nentropy = 0.779\\nsamples = 13\\nvalue = [3, 10]'),\n",
              " Text(0.35, 0.4375, 'worst symmetry <= 0.207\\nentropy = 0.439\\nsamples = 11\\nvalue = [1, 10]'),\n",
              " Text(0.3, 0.3125, 'entropy = 0.0\\nsamples = 1\\nvalue = [1, 0]'),\n",
              " Text(0.4, 0.3125, 'entropy = 0.0\\nsamples = 10\\nvalue = [0, 10]'),\n",
              " Text(0.45, 0.4375, 'entropy = 0.0\\nsamples = 2\\nvalue = [2, 0]'),\n",
              " Text(0.65, 0.6875, 'mean texture <= 20.675\\nentropy = 0.999\\nsamples = 37\\nvalue = [19, 18]'),\n",
              " Text(0.6, 0.5625, 'mean smoothness <= 0.12\\nentropy = 0.855\\nsamples = 25\\nvalue = [7, 18]'),\n",
              " Text(0.55, 0.4375, 'mean texture <= 17.125\\nentropy = 0.592\\nsamples = 21\\nvalue = [3, 18]'),\n",
              " Text(0.5, 0.3125, 'worst texture <= 20.175\\nentropy = 0.881\\nsamples = 10\\nvalue = [3, 7]'),\n",
              " Text(0.45, 0.1875, 'entropy = 0.0\\nsamples = 6\\nvalue = [0, 6]'),\n",
              " Text(0.55, 0.1875, 'mean smoothness <= 0.099\\nentropy = 0.811\\nsamples = 4\\nvalue = [3, 1]'),\n",
              " Text(0.5, 0.0625, '\\n  (...)  \\n'),\n",
              " Text(0.6, 0.0625, '\\n  (...)  \\n'),\n",
              " Text(0.6, 0.3125, 'entropy = 0.0\\nsamples = 11\\nvalue = [0, 11]'),\n",
              " Text(0.65, 0.4375, 'entropy = 0.0\\nsamples = 4\\nvalue = [4, 0]'),\n",
              " Text(0.7, 0.5625, 'entropy = 0.0\\nsamples = 12\\nvalue = [12, 0]'),\n",
              " Text(0.9, 0.8125, 'mean concavity <= 0.072\\nentropy = 0.218\\nsamples = 144\\nvalue = [139, 5]'),\n",
              " Text(0.85, 0.6875, 'mean texture <= 19.545\\nentropy = 0.961\\nsamples = 13\\nvalue = [8, 5]'),\n",
              " Text(0.8, 0.5625, 'smoothness error <= 0.003\\nentropy = 0.65\\nsamples = 6\\nvalue = [1, 5]'),\n",
              " Text(0.75, 0.4375, 'entropy = 0.0\\nsamples = 1\\nvalue = [1, 0]'),\n",
              " Text(0.85, 0.4375, 'entropy = 0.0\\nsamples = 5\\nvalue = [0, 5]'),\n",
              " Text(0.9, 0.5625, 'entropy = 0.0\\nsamples = 7\\nvalue = [7, 0]'),\n",
              " Text(0.95, 0.6875, 'entropy = 0.0\\nsamples = 131\\nvalue = [131, 0]')]"
            ]
          },
          "metadata": {},
          "execution_count": 118
        },
        {
          "output_type": "display_data",
          "data": {
            "text/plain": [
              "<Figure size 640x480 with 1 Axes>"
            ],
            "image/png": "[encoded data removed]"
          },
          "metadata": {}
        }
      ]
    },
    {
      "cell_type": "markdown",
      "source": [
        "Random Forests are an extension of decision trees that leverage the power of ensemble learning to improve predictive accuracy and robustness. Instead of relying on a single decision tree, Random Forests combine multiple decision trees to make more accurate and stable predictions. Let's walk through the steps of going from decision trees to Random Forests:\n",
        "\n",
        "**Step 1: Building Individual Decision Trees**\n",
        "1. **Decision Tree Construction:** Start by building multiple individual decision trees. Each tree is trained on a bootstrapped subset of the training data, meaning that each tree sees a slightly different version of the data due to random sampling with replacement.\n",
        "2. **Feature Selection:** At each node of a decision tree, only a random subset of features is considered for splitting. This introduces randomness and diversity among the trees.\n",
        "\n",
        "**Step 2: Combining Trees in a Random Forest**\n",
        "1. **Predictions:** When you need to make a prediction using the Random Forest, each individual tree in the forest makes a prediction.\n",
        "2. **Majority Voting (Classification) or Averaging (Regression):** In the case of classification, the class that the majority of trees predict becomes the final prediction. In the case of regression, the average of predictions from all trees is taken as the final prediction.\n",
        "\n",
        "**Benefits of Random Forests:**\n",
        "1. **Reduced Overfitting:** The ensemble nature of Random Forests helps reduce overfitting. The diversity among the trees reduces the risk of capturing noise in the data.\n",
        "2. **Feature Importance:** Random Forests can provide an estimate of feature importance by tracking how much each feature contributes to improving the purity of the nodes.\n",
        "3. **Handles Noisy Data:** Random Forests can handle noisy and irrelevant features more effectively than individual decision trees.\n",
        "4. **Parallelization:** Training decision trees can be parallelized since they are independent of each other, which speeds up the training process."
      ],
      "metadata": {
        "id": "JbkDq7ApWF8m"
      }
    },
    {
      "cell_type": "markdown",
      "source": [
        "Here are your tasks:\n",
        "\n",
        "1. Use your training data to train a Random Forest using [RandomForestClassifier](https://scikit-learn.org/stable/modules/generated/sklearn.ensemble.RandomForestClassifier.html).\n",
        "2. Extract the feature importances from the trained model.\n",
        "3. Print the feature importances from largest to smallest."
      ],
      "metadata": {
        "id": "WJGS-FUzWiTz"
      }
    },
    {
      "cell_type": "code",
      "source": [
        "# Train random forest model\n",
        "wis_cancer_RFM=RandomForestClassifier()\n",
        "wis_cancer_RFM.fit(x_train,y_train)\n",
        "wis_cancer_RFM.score(x_test,y_test)"
      ],
      "metadata": {
        "id": "srHwa2q-WpWt",
        "colab": {
          "base_uri": "https://localhost:8080/"
        },
        "outputId": "5a840f98-ab6f-4c99-b06d-81371383781b"
      },
      "execution_count": 119,
      "outputs": [
        {
          "output_type": "execute_result",
          "data": {
            "text/plain": [
              "0.965034965034965"
            ]
          },
          "metadata": {},
          "execution_count": 119
        }
      ]
    },
    {
      "cell_type": "code",
      "source": [
        "# Extract feature importances\n",
        "importances=wis_cancer_DTM.feature_importances_"
      ],
      "metadata": {
        "id": "rLO_P-ivWc33"
      },
      "execution_count": 120,
      "outputs": []
    },
    {
      "cell_type": "code",
      "source": [
        "# Print feature importance\n",
        "ftr_importances=pd.DataFrame(importances,wis_cancer_data.feature_names,['feature importance'])\n",
        "ftr_importances=ftr_importances.sort_values('feature importance',ascending=False)\n",
        "print(ftr_importances)"
      ],
      "metadata": {
        "id": "yc_9uoazFmxR",
        "colab": {
          "base_uri": "https://localhost:8080/"
        },
        "outputId": "a99f74dc-64ba-44a8-ec1f-a84e99506001"
      },
      "execution_count": 121,
      "outputs": [
        {
          "output_type": "stream",
          "name": "stdout",
          "text": [
            "                         feature importance\n",
            "worst area                         0.641643\n",
            "worst concave points               0.131807\n",
            "mean texture                       0.068108\n",
            "mean concavity                     0.046130\n",
            "worst texture                      0.036416\n",
            "mean smoothness                    0.029902\n",
            "area error                         0.024597\n",
            "worst symmetry                     0.011843\n",
            "smoothness error                   0.009554\n",
            "mean radius                        0.000000\n",
            "worst radius                       0.000000\n",
            "worst smoothness                   0.000000\n",
            "worst perimeter                    0.000000\n",
            "symmetry error                     0.000000\n",
            "worst compactness                  0.000000\n",
            "worst concavity                    0.000000\n",
            "fractal dimension error            0.000000\n",
            "compactness error                  0.000000\n",
            "concave points error               0.000000\n",
            "concavity error                    0.000000\n",
            "perimeter error                    0.000000\n",
            "texture error                      0.000000\n",
            "radius error                       0.000000\n",
            "mean fractal dimension             0.000000\n",
            "mean symmetry                      0.000000\n",
            "mean concave points                0.000000\n",
            "mean compactness                   0.000000\n",
            "mean area                          0.000000\n",
            "mean perimeter                     0.000000\n",
            "worst fractal dimension            0.000000\n"
          ]
        }
      ]
    },
    {
      "cell_type": "markdown",
      "source": [
        "AdaBoost, short for Adaptive Boosting, is a powerful ensemble learning technique used primarily for classification tasks. It is designed to enhance the performance of weak learners (typically shallow decision trees) by combining their predictions. AdaBoost focuses on learning from the mistakes of previous models and gives more weight to misclassified instances, allowing subsequent models to correct those mistakes.\n",
        "\n",
        "Here's an overview of how AdaBoost works:\n",
        "\n",
        "**Step 1: Building Weak Learners (Base Models)**\n",
        "1. **Initialization:** Each training instance is initially assigned equal weights.\n",
        "2. **Training Weak Learners:** A series of weak learners (e.g., shallow decision trees) are trained on the data. Each weak learner tries to minimize the weighted classification error, where the weight of an instance depends on its previous misclassifications. The first weak learner is trained on the original data.\n",
        "\n",
        "**Step 2: Weighting Instances**\n",
        "1. **Calculating Error:** The weighted classification error of each weak learner is computed as the sum of weights of misclassified instances.\n",
        "2. **Updating Weights:** Instances that were misclassified by the previous weak learner are given higher weights, making them more important for subsequent models. Instances that were correctly classified are given lower weights.\n",
        "\n",
        "**Step 3: Combining Weak Learners**\n",
        "1. **Predictions and Voting:** The predictions from all weak learners are combined using weighted majority voting. Weights are assigned to each weak learner based on its performance (lower error leads to higher weight).\n",
        "2. **Final Prediction:** The final prediction is made by taking a weighted majority vote of the weak learners' predictions.\n",
        "\n",
        "**Benefits of AdaBoost:**\n",
        "1. **Adaptive Learning:** AdaBoost focuses on instances that were misclassified by previous models, adapting to the complexity of the data.\n",
        "2. **Improves Weak Models:** Even if individual weak learners perform only slightly better than random guessing, AdaBoost can combine them to create a strong model.\n",
        "3. **Reduces Overfitting:** The iterative nature of AdaBoost allows it to focus on hard-to-classify instances and improve overall generalization."
      ],
      "metadata": {
        "id": "wBO7q_tdZ3iT"
      }
    },
    {
      "cell_type": "markdown",
      "source": [
        "Here are your tasks:\n",
        "\n",
        "1. Build and train an [AdaBoostClassifier](https://scikit-learn.org/stable/modules/generated/sklearn.ensemble.AdaBoostClassifier.html) on your training data using a decision tree of max depth equal to 1 as your weak learner.\n",
        "2. Evaluate your decision tree, random forest, and AdaBoost models by applying [accuracy_score](https://scikit-learn.org/stable/modules/generated/sklearn.metrics.accuracy_score.html) to the test data. Which model performs the best? Experiment by changing the hyperparameters of these models.\n"
      ],
      "metadata": {
        "id": "T8IsKNfIaAC3"
      }
    },
    {
      "cell_type": "code",
      "source": [
        "# Build and train an AdaBoostClassifier on your training data.\n",
        "wis_cancer_ABC=AdaBoostClassifier(DecisionTreeClassifier(max_depth=1))\n",
        "wis_cancer_ABC.fit(x_train,y_train)"
      ],
      "metadata": {
        "id": "cEmNpWHLLZIQ",
        "colab": {
          "base_uri": "https://localhost:8080/",
          "height": 118
        },
        "outputId": "817ea0be-b2ea-4395-c6e6-fab44d61fe20"
      },
      "execution_count": 122,
      "outputs": [
        {
          "output_type": "execute_result",
          "data": {
            "text/plain": [
              "AdaBoostClassifier(estimator=DecisionTreeClassifier(max_depth=1))"
            ],
            "text/html": [
              "<style>#sk-container-id-13 {color: black;}#sk-container-id-13 pre{padding: 0;}#sk-container-id-13 div.sk-toggleable {background-color: white;}#sk-container-id-13 label.sk-toggleable__label {cursor: pointer;display: block;width: 100%;margin-bottom: 0;padding: 0.3em;box-sizing: border-box;text-align: center;}#sk-container-id-13 label.sk-toggleable__label-arrow:before {content: \"▸\";float: left;margin-right: 0.25em;color: #696969;}#sk-container-id-13 label.sk-toggleable__label-arrow:hover:before {color: black;}#sk-container-id-13 div.sk-estimator:hover label.sk-toggleable__label-arrow:before {color: black;}#sk-container-id-13 div.sk-toggleable__content {max-height: 0;max-width: 0;overflow: hidden;text-align: left;background-color: #f0f8ff;}#sk-container-id-13 div.sk-toggleable__content pre {margin: 0.2em;color: black;border-radius: 0.25em;background-color: #f0f8ff;}#sk-container-id-13 input.sk-toggleable__control:checked~div.sk-toggleable__content {max-height: 200px;max-width: 100%;overflow: auto;}#sk-container-id-13 input.sk-toggleable__control:checked~label.sk-toggleable__label-arrow:before {content: \"▾\";}#sk-container-id-13 div.sk-estimator input.sk-toggleable__control:checked~label.sk-toggleable__label {background-color: #d4ebff;}#sk-container-id-13 div.sk-label input.sk-toggleable__control:checked~label.sk-toggleable__label {background-color: #d4ebff;}#sk-container-id-13 input.sk-hidden--visually {border: 0;clip: rect(1px 1px 1px 1px);clip: rect(1px, 1px, 1px, 1px);height: 1px;margin: -1px;overflow: hidden;padding: 0;position: absolute;width: 1px;}#sk-container-id-13 div.sk-estimator {font-family: monospace;background-color: #f0f8ff;border: 1px dotted black;border-radius: 0.25em;box-sizing: border-box;margin-bottom: 0.5em;}#sk-container-id-13 div.sk-estimator:hover {background-color: #d4ebff;}#sk-container-id-13 div.sk-parallel-item::after {content: \"\";width: 100%;border-bottom: 1px solid gray;flex-grow: 1;}#sk-container-id-13 div.sk-label:hover label.sk-toggleable__label {background-color: #d4ebff;}#sk-container-id-13 div.sk-serial::before {content: \"\";position: absolute;border-left: 1px solid gray;box-sizing: border-box;top: 0;bottom: 0;left: 50%;z-index: 0;}#sk-container-id-13 div.sk-serial {display: flex;flex-direction: column;align-items: center;background-color: white;padding-right: 0.2em;padding-left: 0.2em;position: relative;}#sk-container-id-13 div.sk-item {position: relative;z-index: 1;}#sk-container-id-13 div.sk-parallel {display: flex;align-items: stretch;justify-content: center;background-color: white;position: relative;}#sk-container-id-13 div.sk-item::before, #sk-container-id-13 div.sk-parallel-item::before {content: \"\";position: absolute;border-left: 1px solid gray;box-sizing: border-box;top: 0;bottom: 0;left: 50%;z-index: -1;}#sk-container-id-13 div.sk-parallel-item {display: flex;flex-direction: column;z-index: 1;position: relative;background-color: white;}#sk-container-id-13 div.sk-parallel-item:first-child::after {align-self: flex-end;width: 50%;}#sk-container-id-13 div.sk-parallel-item:last-child::after {align-self: flex-start;width: 50%;}#sk-container-id-13 div.sk-parallel-item:only-child::after {width: 0;}#sk-container-id-13 div.sk-dashed-wrapped {border: 1px dashed gray;margin: 0 0.4em 0.5em 0.4em;box-sizing: border-box;padding-bottom: 0.4em;background-color: white;}#sk-container-id-13 div.sk-label label {font-family: monospace;font-weight: bold;display: inline-block;line-height: 1.2em;}#sk-container-id-13 div.sk-label-container {text-align: center;}#sk-container-id-13 div.sk-container {/* jupyter's `normalize.less` sets `[hidden] { display: none; }` but bootstrap.min.css set `[hidden] { display: none !important; }` so we also need the `!important` here to be able to override the default hidden behavior on the sphinx rendered scikit-learn.org. See: https://github.com/scikit-learn/scikit-learn/issues/21755 */display: inline-block !important;position: relative;}#sk-container-id-13 div.sk-text-repr-fallback {display: none;}</style><div id=\"sk-container-id-13\" class=\"sk-top-container\"><div class=\"sk-text-repr-fallback\"><pre>AdaBoostClassifier(estimator=DecisionTreeClassifier(max_depth=1))</pre><b>In a Jupyter environment, please rerun this cell to show the HTML representation or trust the notebook. <br />On GitHub, the HTML representation is unable to render, please try loading this page with nbviewer.org.</b></div><div class=\"sk-container\" hidden><div class=\"sk-item sk-dashed-wrapped\"><div class=\"sk-label-container\"><div class=\"sk-label sk-toggleable\"><input class=\"sk-toggleable__control sk-hidden--visually\" id=\"sk-estimator-id-33\" type=\"checkbox\" ><label for=\"sk-estimator-id-33\" class=\"sk-toggleable__label sk-toggleable__label-arrow\">AdaBoostClassifier</label><div class=\"sk-toggleable__content\"><pre>AdaBoostClassifier(estimator=DecisionTreeClassifier(max_depth=1))</pre></div></div></div><div class=\"sk-parallel\"><div class=\"sk-parallel-item\"><div class=\"sk-item\"><div class=\"sk-label-container\"><div class=\"sk-label sk-toggleable\"><input class=\"sk-toggleable__control sk-hidden--visually\" id=\"sk-estimator-id-34\" type=\"checkbox\" ><label for=\"sk-estimator-id-34\" class=\"sk-toggleable__label sk-toggleable__label-arrow\">estimator: DecisionTreeClassifier</label><div class=\"sk-toggleable__content\"><pre>DecisionTreeClassifier(max_depth=1)</pre></div></div></div><div class=\"sk-serial\"><div class=\"sk-item\"><div class=\"sk-estimator sk-toggleable\"><input class=\"sk-toggleable__control sk-hidden--visually\" id=\"sk-estimator-id-35\" type=\"checkbox\" ><label for=\"sk-estimator-id-35\" class=\"sk-toggleable__label sk-toggleable__label-arrow\">DecisionTreeClassifier</label><div class=\"sk-toggleable__content\"><pre>DecisionTreeClassifier(max_depth=1)</pre></div></div></div></div></div></div></div></div></div></div>"
            ]
          },
          "metadata": {},
          "execution_count": 122
        }
      ]
    },
    {
      "cell_type": "code",
      "source": [
        "# Evaluate models\n",
        "#Using input of <criterion='entropy'> for the Decision Tree Classifier\n",
        "print('Using input of <criterion=entropy> for the Decision Tree Classifier:')\n",
        "print('Score for Decision Tree Classifier:  ',wis_cancer_DTM.score(x_test,y_test))\n",
        "print('Score for Random Forest Classifier:  ',wis_cancer_RFM.score(x_test,y_test))\n",
        "print('Score for Ada Boost Classifier:  ', wis_cancer_ABC.score(x_test,y_test))"
      ],
      "metadata": {
        "id": "chOiS6grF4At",
        "colab": {
          "base_uri": "https://localhost:8080/"
        },
        "outputId": "a2425669-d35b-45b5-a445-c663d00bddd9"
      },
      "execution_count": 123,
      "outputs": [
        {
          "output_type": "stream",
          "name": "stdout",
          "text": [
            "Using input of <criterion=entropy> for the Decision Tree Classifier:\n",
            "Score for Decision Tree Classifier:   0.958041958041958\n",
            "Score for Random Forest Classifier:   0.965034965034965\n",
            "Score for Ada Boost Classifier:   0.986013986013986\n"
          ]
        }
      ]
    }
  ],
  "metadata": {
    "colab": {
      "provenance": []
    },
    "kernelspec": {
      "display_name": "Python 3",
      "name": "python3"
    },
    "language_info": {
      "name": "python"
    }
  },
  "nbformat": 4,
  "nbformat_minor": 0
}