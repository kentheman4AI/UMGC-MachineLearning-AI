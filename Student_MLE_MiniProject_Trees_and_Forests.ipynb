{
  "cells": [
    {
      "cell_type": "markdown",
      "metadata": {
        "id": "Yzr5Eo_qxHQi"
      },
      "source": [
        "# Mini Project: Trees and Forests\n",
        "\n",
        "In this mini-project you'll be introduced to some fundamental concepts in machine learning: **Decision Trees**, **Random Forests**, **Boosting**, and **Bagging**. These techniques play a crucial role in building powerful and versatile machine learning models that can be applied to a wide range of tasks, from classification to regression.\n",
        "\n",
        "## Decision Trees\n",
        "\n",
        "Decision Trees are intuitive models that mimic human decision-making processes. Just like answering a series of questions to reach a conclusion, decision trees segment data based on a sequence of if-else questions. They partition the feature space into regions and assign a label to each region. Decision trees are particularly helpful in understanding the decision-making process behind predictions.\n",
        "\n",
        "## Random Forests\n",
        "\n",
        "Random Forests are an ensemble method that combines multiple decision trees to create a more robust and accurate model. Each tree in a random forest is trained on a random subset of the data with replacement (bootstrapping), and these trees are allowed to make individual predictions. The final prediction is determined through majority voting (classification) or averaging (regression) of the predictions made by the individual trees. Random Forests are known for their ability to handle noisy data, reduce overfitting, and capture complex relationships.\n",
        "\n",
        "## Bagging: Bootstrap Aggregating\n",
        "\n",
        "Bagging, short for Bootstrap Aggregating, is the technique behind Random Forests. It involves training multiple models on bootstrapped subsets of the training data. Bagging reduces the variance of the model by averaging out the noise and errors present in individual models. While Random Forests are a specific application of bagging to decision trees, bagging can also be applied to other base models.\n",
        "\n",
        "## Boosting\n",
        "\n",
        "Boosting is another ensemble technique that focuses on building a strong predictor by sequentially training multiple weak learners (often shallow decision trees). Boosting assigns weights to training instances, focusing more on those that the previous models misclassified. This iterative process helps the model correct its mistakes and improve its performance over time. Popular boosting algorithms include AdaBoost, Gradient Boosting, and XGBoost.\n",
        "\n",
        "In this mini-project, we will:\n",
        "\n",
        "1. Implement and visualize decision trees using the scikit-learn library.\n",
        "2. Explore the power of random forests and understand feature importance.\n",
        "3. Dive into the boosting technique with AdaBoost to enhance model accuracy."
      ]
    },
    {
      "cell_type": "markdown",
      "source": [
        "For this mini-project we'll be using the [Breast Cancer Wisconsin (Diagnostic) dataset](https://scikit-learn.org/stable/modules/generated/sklearn.datasets.load_breast_cancer.html). First, let's import all the libraries we'll be using."
      ],
      "metadata": {
        "id": "2JZGx1fBfi08"
      }
    },
    {
      "cell_type": "code",
      "source": [
        "import numpy as np\n",
        "import pandas as pd\n",
        "import matplotlib.pyplot as plt\n",
        "from sklearn.datasets import load_breast_cancer\n",
        "from sklearn.model_selection import train_test_split\n",
        "from sklearn.tree import DecisionTreeClassifier, plot_tree\n",
        "from sklearn.ensemble import RandomForestClassifier, AdaBoostClassifier\n",
        "from sklearn.metrics import accuracy_score"
      ],
      "metadata": {
        "id": "5ynUME3XEH-Q"
      },
      "execution_count": 118,
      "outputs": []
    },
    {
      "cell_type": "markdown",
      "source": [
        "Here are your tasks:\n",
        "\n",
        "1. Use [load_breast_cancer](https://scikit-learn.org/stable/modules/generated/sklearn.datasets.load_breast_cancer.html) to load the Breast Cancer Wisconsin dataset as a Pandas dataframe.\n",
        "2. Split the dataset into training and test sets.\n",
        "3. Display the first five rows of data and make sure everything looks ok. You should have already explored the data a bit in the logistic regression mini-project so there's no need to conduct further EDA.  "
      ],
      "metadata": {
        "id": "81annADtOkJf"
      }
    },
    {
      "cell_type": "code",
      "source": [
        "# Load the Breast Cancer Wisconsin dataset\n",
        "wis_cancer_data = load_breast_cancer()\n",
        "print(wis_cancer_data.keys())"
      ],
      "metadata": {
        "id": "jN6cgyIREPGN",
        "colab": {
          "base_uri": "https://localhost:8080/"
        },
        "outputId": "f0a0a67a-587f-4519-e1a4-d8b8164cb585"
      },
      "execution_count": 119,
      "outputs": [
        {
          "output_type": "stream",
          "name": "stdout",
          "text": [
            "dict_keys(['data', 'target', 'frame', 'target_names', 'DESCR', 'feature_names', 'filename', 'data_module'])\n"
          ]
        }
      ]
    },
    {
      "cell_type": "code",
      "source": [
        "# Split the dataset into training and testing sets\n",
        "x_train, x_test, y_train, y_test = train_test_split(wis_cancer_data.data, wis_cancer_data.target)\n",
        "print(x_train.shape,x_test.shape, y_train.shape,y_test.shape)"
      ],
      "metadata": {
        "id": "F7-6BwIiWhY1",
        "colab": {
          "base_uri": "https://localhost:8080/"
        },
        "outputId": "97c18113-a8e9-44d3-8c89-0249faf210ee"
      },
      "execution_count": 120,
      "outputs": [
        {
          "output_type": "stream",
          "name": "stdout",
          "text": [
            "(426, 30) (143, 30) (426,) (143,)\n"
          ]
        }
      ]
    },
    {
      "cell_type": "code",
      "source": [
        "# Display first 5 rows\n",
        "print(x_train[0:5,:]), print(x_test[0:5,:]), print(y_train[0:5]), print(y_test[0:5])"
      ],
      "metadata": {
        "id": "rOTFtVlxEjvN",
        "colab": {
          "base_uri": "https://localhost:8080/"
        },
        "outputId": "c6bcfcf7-ad24-43a0-902b-8417b6c514ef"
      },
      "execution_count": 121,
      "outputs": [
        {
          "output_type": "stream",
          "name": "stdout",
          "text": [
            "[[1.174e+01 1.402e+01 7.424e+01 4.273e+02 7.813e-02 4.340e-02 2.245e-02\n",
            "  2.763e-02 2.101e-01 6.113e-02 5.619e-01 1.268e+00 3.717e+00 3.783e+01\n",
            "  8.034e-03 1.442e-02 1.514e-02 1.846e-02 2.921e-02 2.005e-03 1.331e+01\n",
            "  1.826e+01 8.470e+01 5.337e+02 1.036e-01 8.500e-02 6.735e-02 8.290e-02\n",
            "  3.101e-01 6.688e-02]\n",
            " [1.955e+01 2.321e+01 1.289e+02 1.174e+03 1.010e-01 1.318e-01 1.856e-01\n",
            "  1.021e-01 1.989e-01 5.884e-02 6.107e-01 2.836e+00 5.383e+00 7.010e+01\n",
            "  1.124e-02 4.097e-02 7.469e-02 3.441e-02 2.768e-02 6.240e-03 2.082e+01\n",
            "  3.044e+01 1.420e+02 1.313e+03 1.251e-01 2.414e-01 3.829e-01 1.825e-01\n",
            "  2.576e-01 7.602e-02]\n",
            " [1.137e+01 1.889e+01 7.217e+01 3.960e+02 8.713e-02 5.008e-02 2.399e-02\n",
            "  2.173e-02 2.013e-01 5.955e-02 2.656e-01 1.974e+00 1.954e+00 1.749e+01\n",
            "  6.538e-03 1.395e-02 1.376e-02 9.924e-03 3.416e-02 2.928e-03 1.236e+01\n",
            "  2.614e+01 7.929e+01 4.593e+02 1.118e-01 9.708e-02 7.529e-02 6.203e-02\n",
            "  3.267e-01 6.994e-02]\n",
            " [1.048e+01 1.986e+01 6.672e+01 3.377e+02 1.070e-01 5.971e-02 4.831e-02\n",
            "  3.070e-02 1.737e-01 6.440e-02 3.719e-01 2.612e+00 2.517e+00 2.322e+01\n",
            "  1.604e-02 1.386e-02 1.865e-02 1.133e-02 3.476e-02 3.560e-03 1.148e+01\n",
            "  2.946e+01 7.368e+01 4.028e+02 1.515e-01 1.026e-01 1.181e-01 6.736e-02\n",
            "  2.883e-01 7.748e-02]\n",
            " [8.598e+00 2.098e+01 5.466e+01 2.218e+02 1.243e-01 8.963e-02 3.000e-02\n",
            "  9.259e-03 1.828e-01 6.757e-02 3.582e-01 2.067e+00 2.493e+00 1.839e+01\n",
            "  1.193e-02 3.162e-02 3.000e-02 9.259e-03 3.357e-02 3.048e-03 9.565e+00\n",
            "  2.704e+01 6.206e+01 2.739e+02 1.639e-01 1.698e-01 9.001e-02 2.778e-02\n",
            "  2.972e-01 7.712e-02]]\n",
            "[[1.500e+01 1.551e+01 9.745e+01 6.845e+02 8.371e-02 1.096e-01 6.505e-02\n",
            "  3.780e-02 1.881e-01 5.907e-02 2.318e-01 4.966e-01 2.276e+00 1.988e+01\n",
            "  4.119e-03 3.207e-02 3.644e-02 1.155e-02 1.391e-02 3.204e-03 1.641e+01\n",
            "  1.931e+01 1.142e+02 8.082e+02 1.136e-01 3.627e-01 3.402e-01 1.379e-01\n",
            "  2.954e-01 8.362e-02]\n",
            " [1.025e+01 1.618e+01 6.652e+01 3.242e+02 1.061e-01 1.111e-01 6.726e-02\n",
            "  3.965e-02 1.743e-01 7.279e-02 3.677e-01 1.471e+00 1.597e+00 2.268e+01\n",
            "  1.049e-02 4.265e-02 4.004e-02 1.544e-02 2.719e-02 7.596e-03 1.128e+01\n",
            "  2.061e+01 7.153e+01 3.904e+02 1.402e-01 2.360e-01 1.898e-01 9.744e-02\n",
            "  2.608e-01 9.702e-02]\n",
            " [1.330e+01 2.157e+01 8.524e+01 5.461e+02 8.582e-02 6.373e-02 3.344e-02\n",
            "  2.424e-02 1.815e-01 5.696e-02 2.621e-01 1.539e+00 2.028e+00 2.098e+01\n",
            "  5.498e-03 2.045e-02 1.795e-02 6.399e-03 1.829e-02 1.956e-03 1.420e+01\n",
            "  2.920e+01 9.294e+01 6.212e+02 1.140e-01 1.667e-01 1.212e-01 5.614e-02\n",
            "  2.637e-01 6.658e-02]\n",
            " [9.333e+00 2.194e+01 5.901e+01 2.640e+02 9.240e-02 5.605e-02 3.996e-02\n",
            "  1.282e-02 1.692e-01 6.576e-02 3.013e-01 1.879e+00 2.121e+00 1.786e+01\n",
            "  1.094e-02 1.834e-02 3.996e-02 1.282e-02 3.759e-02 4.623e-03 9.845e+00\n",
            "  2.505e+01 6.286e+01 2.958e+02 1.103e-01 8.298e-02 7.993e-02 2.564e-02\n",
            "  2.435e-01 7.393e-02]\n",
            " [1.447e+01 2.499e+01 9.581e+01 6.564e+02 8.837e-02 1.230e-01 1.009e-01\n",
            "  3.890e-02 1.872e-01 6.341e-02 2.542e-01 1.079e+00 2.615e+00 2.311e+01\n",
            "  7.138e-03 4.653e-02 3.829e-02 1.162e-02 2.068e-02 6.111e-03 1.622e+01\n",
            "  3.173e+01 1.135e+02 8.089e+02 1.340e-01 4.202e-01 4.040e-01 1.205e-01\n",
            "  3.187e-01 1.023e-01]]\n",
            "[1 0 1 1 1]\n",
            "[1 1 1 1 1]\n"
          ]
        },
        {
          "output_type": "execute_result",
          "data": {
            "text/plain": [
              "(None, None, None, None)"
            ]
          },
          "metadata": {},
          "execution_count": 121
        }
      ]
    },
    {
      "cell_type": "markdown",
      "source": [
        "Let's start by diving into decision trees. At a high level, decision trees are a machine learning algorithm used for both classification and regression tasks. They model decisions and decision-making processes by breaking down a complex decision into a sequence of simpler decisions or questions. Each decision leads to one of several possible outcomes, eventually leading to a prediction or classification.\n",
        "\n",
        "**Decision trees are built out of the following components:**\n",
        "- **Nodes:** Decision trees consist of nodes. The initial node is the root node, and the final nodes are called leaf nodes.\n",
        "- **Edges:** Edges connect nodes and represent the decision outcomes.\n",
        "- **Attributes/Features:** Each node involves a decision based on a specific attribute or feature.\n",
        "- **Splitting:** At each node, the dataset is partitioned into subsets based on an attribute's values.\n",
        "- **Leaf Nodes:** These nodes represent the final predicted class or value.\n",
        "\n",
        "**How Decision Trees Work:**\n",
        "1. **Selecting the Best Feature:** Decision trees start with the root node and select the feature that best separates the data.\n",
        "2. **Splitting:** The selected feature is used to split the data into subsets at each internal node.\n",
        "3. **Repeating:** The process continues recursively for each subset, selecting the best feature at each node.\n",
        "4. **Leaf Nodes:** The process stops when a certain stopping criterion is met, or when all instances at a node belong to the same class.\n",
        "\n",
        "**Advantages:**\n",
        "1. **Interpretability:** Decision trees are easy to understand and interpret. The path from the root to a leaf node can be visualized as a sequence of decisions.\n",
        "2. **Handles Numerical and Categorical Data:** Decision trees can handle both numerical and categorical data, making them versatile.\n",
        "3. **Non-Linearity:** They can capture non-linear relationships between features and the target variable.\n",
        "4. **Feature Importance:** Decision trees provide a measure of feature importance, helping in feature selection.\n",
        "\n",
        "**Challenges and Considerations:**\n",
        "1. **Overfitting:** Decision trees can create overly complex models that fit the training data too closely, leading to poor generalization.\n",
        "2. **Instability:** Small changes in the data can lead to different trees, which can make the model unstable.\n",
        "3. **Bias towards Majority Class:** In classification tasks, decision trees tend to favor the majority class if classes are imbalanced.\n",
        "\n",
        "**Improvements:**\n",
        "1. **Pruning:** Pruning is the process of removing branches that do not improve the model's performance on validation data, reducing overfitting.\n",
        "2. **Ensemble Methods:** Random Forests and Gradient Boosting Trees are ensemble methods that combine multiple decision trees to improve performance.\n",
        "\n",
        "There are a number of different metrics used to determine how to split a node in a decision tree. The Gini impurity is a popular criterion used in decision tree algorithms. It measures the degree of impurity in a dataset, where lower values indicate more pure subsets of data. In the context of decision trees, the Gini impurity is used to assess how often a randomly chosen element would be misclassified if it were randomly assigned to a class based on the distribution of class labels in a subset. The Gini impurity ranges between 0 (pure node, all instances belong to a single class) and 0.5 (impure node, instances are evenly distributed across classes)."
      ],
      "metadata": {
        "id": "bT64m51APSGh"
      }
    },
    {
      "cell_type": "markdown",
      "source": [
        "Here are your tasks:\n",
        "\n",
        "1. Use Scikit-Learn's [DecisionTreeClassifier](https://scikit-learn.org/stable/modules/generated/sklearn.tree.DecisionTreeClassifier.html) to fit a model on the training data.\n",
        "2. Visualize the resulting tree using [plot_tree](https://scikit-learn.org/stable/modules/generated/sklearn.tree.plot_tree.html).\n",
        "3. Iterate on the first two steps by trying different inputs to the decision tree classifier. What happens if you change the max depth? How about the maximum number of lead nodes? From the visualization, make sure you're able to understand how to descend the decision tree to arrive at a prediction."
      ],
      "metadata": {
        "id": "PjRU4fdmTSF5"
      }
    },
    {
      "cell_type": "code",
      "source": [
        "# Create a Decision Tree model\n",
        "# The argument 'max_leaf_nodes' dictate how many decisions are modeled according to (max_leaf_nodes-1)\n",
        "# The argument 'max_depth' dictate the maximum depth of the tree\n",
        "wis_cancer_DTM = DecisionTreeClassifier() # max_leaf_nodes=n, max_depth=d\n",
        "wis_cancer_DTM.fit(x_train,y_train)\n",
        "print(type(wis_cancer_DTM))"
      ],
      "metadata": {
        "id": "41e16xuuWk_q",
        "colab": {
          "base_uri": "https://localhost:8080/"
        },
        "outputId": "af47698c-6d43-4a26-d5d2-a38f1637d71c"
      },
      "execution_count": 122,
      "outputs": [
        {
          "output_type": "stream",
          "name": "stdout",
          "text": [
            "<class 'sklearn.tree._classes.DecisionTreeClassifier'>\n"
          ]
        }
      ]
    },
    {
      "cell_type": "code",
      "source": [
        "# Visualize the Decision Tree\n",
        "print(wis_cancer_data.feature_names)\n",
        "#the argument 'max_depth' determines the number of splits in the tree that are visualized according to 2^(max_depth-1)-1\n",
        "plot_tree(wis_cancer_DTM,feature_names=wis_cancer_data.feature_names,max_depth=6)"
      ],
      "metadata": {
        "id": "93kbxVvJEtFx",
        "colab": {
          "base_uri": "https://localhost:8080/",
          "height": 1000
        },
        "outputId": "ebc75df2-f2e9-491a-d787-cf8368ddb773"
      },
      "execution_count": 123,
      "outputs": [
        {
          "output_type": "stream",
          "name": "stdout",
          "text": [
            "['mean radius' 'mean texture' 'mean perimeter' 'mean area'\n",
            " 'mean smoothness' 'mean compactness' 'mean concavity'\n",
            " 'mean concave points' 'mean symmetry' 'mean fractal dimension'\n",
            " 'radius error' 'texture error' 'perimeter error' 'area error'\n",
            " 'smoothness error' 'compactness error' 'concavity error'\n",
            " 'concave points error' 'symmetry error' 'fractal dimension error'\n",
            " 'worst radius' 'worst texture' 'worst perimeter' 'worst area'\n",
            " 'worst smoothness' 'worst compactness' 'worst concavity'\n",
            " 'worst concave points' 'worst symmetry' 'worst fractal dimension']\n"
          ]
        },
        {
          "output_type": "execute_result",
          "data": {
            "text/plain": [
              "[Text(0.592391304347826, 0.9285714285714286, 'worst perimeter <= 106.1\\ngini = 0.472\\nsamples = 426\\nvalue = [163, 263]'),\n",
              " Text(0.40217391304347827, 0.7857142857142857, 'worst smoothness <= 0.177\\ngini = 0.083\\nsamples = 255\\nvalue = [11, 244]'),\n",
              " Text(0.2826086956521739, 0.6428571428571429, 'worst perimeter <= 102.4\\ngini = 0.04\\nsamples = 247\\nvalue = [5, 242]'),\n",
              " Text(0.17391304347826086, 0.5, 'area error <= 48.975\\ngini = 0.017\\nsamples = 233\\nvalue = [2, 231]'),\n",
              " Text(0.08695652173913043, 0.35714285714285715, 'worst texture <= 33.35\\ngini = 0.009\\nsamples = 230\\nvalue = [1, 229]'),\n",
              " Text(0.043478260869565216, 0.21428571428571427, 'gini = 0.0\\nsamples = 216\\nvalue = [0, 216]'),\n",
              " Text(0.13043478260869565, 0.21428571428571427, 'worst concave points <= 0.092\\ngini = 0.133\\nsamples = 14\\nvalue = [1, 13]'),\n",
              " Text(0.08695652173913043, 0.07142857142857142, 'gini = 0.0\\nsamples = 13\\nvalue = [0, 13]'),\n",
              " Text(0.17391304347826086, 0.07142857142857142, 'gini = 0.0\\nsamples = 1\\nvalue = [1, 0]'),\n",
              " Text(0.2608695652173913, 0.35714285714285715, 'smoothness error <= 0.007\\ngini = 0.444\\nsamples = 3\\nvalue = [1, 2]'),\n",
              " Text(0.21739130434782608, 0.21428571428571427, 'gini = 0.0\\nsamples = 1\\nvalue = [1, 0]'),\n",
              " Text(0.30434782608695654, 0.21428571428571427, 'gini = 0.0\\nsamples = 2\\nvalue = [0, 2]'),\n",
              " Text(0.391304347826087, 0.5, 'worst texture <= 29.5\\ngini = 0.337\\nsamples = 14\\nvalue = [3, 11]'),\n",
              " Text(0.34782608695652173, 0.35714285714285715, 'gini = 0.0\\nsamples = 10\\nvalue = [0, 10]'),\n",
              " Text(0.43478260869565216, 0.35714285714285715, 'worst concave points <= 0.097\\ngini = 0.375\\nsamples = 4\\nvalue = [3, 1]'),\n",
              " Text(0.391304347826087, 0.21428571428571427, 'gini = 0.0\\nsamples = 1\\nvalue = [0, 1]'),\n",
              " Text(0.4782608695652174, 0.21428571428571427, 'gini = 0.0\\nsamples = 3\\nvalue = [3, 0]'),\n",
              " Text(0.5217391304347826, 0.6428571428571429, 'mean texture <= 15.9\\ngini = 0.375\\nsamples = 8\\nvalue = [6, 2]'),\n",
              " Text(0.4782608695652174, 0.5, 'gini = 0.0\\nsamples = 2\\nvalue = [0, 2]'),\n",
              " Text(0.5652173913043478, 0.5, 'gini = 0.0\\nsamples = 6\\nvalue = [6, 0]'),\n",
              " Text(0.782608695652174, 0.7857142857142857, 'mean concave points <= 0.049\\ngini = 0.198\\nsamples = 171\\nvalue = [152, 19]'),\n",
              " Text(0.6956521739130435, 0.6428571428571429, 'concave points error <= 0.01\\ngini = 0.49\\nsamples = 28\\nvalue = [12, 16]'),\n",
              " Text(0.6521739130434783, 0.5, 'worst texture <= 19.91\\ngini = 0.444\\nsamples = 18\\nvalue = [12, 6]'),\n",
              " Text(0.6086956521739131, 0.35714285714285715, 'gini = 0.0\\nsamples = 5\\nvalue = [0, 5]'),\n",
              " Text(0.6956521739130435, 0.35714285714285715, 'mean concavity <= 0.087\\ngini = 0.142\\nsamples = 13\\nvalue = [12, 1]'),\n",
              " Text(0.6521739130434783, 0.21428571428571427, 'gini = 0.0\\nsamples = 12\\nvalue = [12, 0]'),\n",
              " Text(0.7391304347826086, 0.21428571428571427, 'gini = 0.0\\nsamples = 1\\nvalue = [0, 1]'),\n",
              " Text(0.7391304347826086, 0.5, 'gini = 0.0\\nsamples = 10\\nvalue = [0, 10]'),\n",
              " Text(0.8695652173913043, 0.6428571428571429, 'worst concavity <= 0.189\\ngini = 0.041\\nsamples = 143\\nvalue = [140, 3]'),\n",
              " Text(0.8260869565217391, 0.5, 'gini = 0.0\\nsamples = 2\\nvalue = [0, 2]'),\n",
              " Text(0.9130434782608695, 0.5, 'radius error <= 0.241\\ngini = 0.014\\nsamples = 141\\nvalue = [140, 1]'),\n",
              " Text(0.8695652173913043, 0.35714285714285715, 'radius error <= 0.227\\ngini = 0.375\\nsamples = 4\\nvalue = [3, 1]'),\n",
              " Text(0.8260869565217391, 0.21428571428571427, 'gini = 0.0\\nsamples = 3\\nvalue = [3, 0]'),\n",
              " Text(0.9130434782608695, 0.21428571428571427, 'gini = 0.0\\nsamples = 1\\nvalue = [0, 1]'),\n",
              " Text(0.9565217391304348, 0.35714285714285715, 'gini = 0.0\\nsamples = 137\\nvalue = [137, 0]')]"
            ]
          },
          "metadata": {},
          "execution_count": 123
        },
        {
          "output_type": "display_data",
          "data": {
            "text/plain": [
              "<Figure size 640x480 with 1 Axes>"
            ],
            "image/png": "[encoded data removed]"
          },
          "metadata": {}
        }
      ]
    },
    {
      "cell_type": "markdown",
      "source": [
        "Random Forests are an extension of decision trees that leverage the power of ensemble learning to improve predictive accuracy and robustness. Instead of relying on a single decision tree, Random Forests combine multiple decision trees to make more accurate and stable predictions. Let's walk through the steps of going from decision trees to Random Forests:\n",
        "\n",
        "**Step 1: Building Individual Decision Trees**\n",
        "1. **Decision Tree Construction:** Start by building multiple individual decision trees. Each tree is trained on a bootstrapped subset of the training data, meaning that each tree sees a slightly different version of the data due to random sampling with replacement.\n",
        "2. **Feature Selection:** At each node of a decision tree, only a random subset of features is considered for splitting. This introduces randomness and diversity among the trees.\n",
        "\n",
        "**Step 2: Combining Trees in a Random Forest**\n",
        "1. **Predictions:** When you need to make a prediction using the Random Forest, each individual tree in the forest makes a prediction.\n",
        "2. **Majority Voting (Classification) or Averaging (Regression):** In the case of classification, the class that the majority of trees predict becomes the final prediction. In the case of regression, the average of predictions from all trees is taken as the final prediction.\n",
        "\n",
        "**Benefits of Random Forests:**\n",
        "1. **Reduced Overfitting:** The ensemble nature of Random Forests helps reduce overfitting. The diversity among the trees reduces the risk of capturing noise in the data.\n",
        "2. **Feature Importance:** Random Forests can provide an estimate of feature importance by tracking how much each feature contributes to improving the purity of the nodes.\n",
        "3. **Handles Noisy Data:** Random Forests can handle noisy and irrelevant features more effectively than individual decision trees.\n",
        "4. **Parallelization:** Training decision trees can be parallelized since they are independent of each other, which speeds up the training process."
      ],
      "metadata": {
        "id": "JbkDq7ApWF8m"
      }
    },
    {
      "cell_type": "markdown",
      "source": [
        "Here are your tasks:\n",
        "\n",
        "1. Use your training data to train a Random Forest using [RandomForestClassifier](https://scikit-learn.org/stable/modules/generated/sklearn.ensemble.RandomForestClassifier.html).\n",
        "2. Extract the feature importances from the trained model.\n",
        "3. Print the feature importances from largest to smallest."
      ],
      "metadata": {
        "id": "WJGS-FUzWiTz"
      }
    },
    {
      "cell_type": "code",
      "source": [
        "# Train random forest model"
      ],
      "metadata": {
        "id": "srHwa2q-WpWt"
      },
      "execution_count": 124,
      "outputs": []
    },
    {
      "cell_type": "code",
      "source": [
        "# Extract feature importances"
      ],
      "metadata": {
        "id": "rLO_P-ivWc33"
      },
      "execution_count": 125,
      "outputs": []
    },
    {
      "cell_type": "code",
      "source": [
        "# Print feature importance"
      ],
      "metadata": {
        "id": "yc_9uoazFmxR"
      },
      "execution_count": 126,
      "outputs": []
    },
    {
      "cell_type": "markdown",
      "source": [
        "AdaBoost, short for Adaptive Boosting, is a powerful ensemble learning technique used primarily for classification tasks. It is designed to enhance the performance of weak learners (typically shallow decision trees) by combining their predictions. AdaBoost focuses on learning from the mistakes of previous models and gives more weight to misclassified instances, allowing subsequent models to correct those mistakes.\n",
        "\n",
        "Here's an overview of how AdaBoost works:\n",
        "\n",
        "**Step 1: Building Weak Learners (Base Models)**\n",
        "1. **Initialization:** Each training instance is initially assigned equal weights.\n",
        "2. **Training Weak Learners:** A series of weak learners (e.g., shallow decision trees) are trained on the data. Each weak learner tries to minimize the weighted classification error, where the weight of an instance depends on its previous misclassifications. The first weak learner is trained on the original data.\n",
        "\n",
        "**Step 2: Weighting Instances**\n",
        "1. **Calculating Error:** The weighted classification error of each weak learner is computed as the sum of weights of misclassified instances.\n",
        "2. **Updating Weights:** Instances that were misclassified by the previous weak learner are given higher weights, making them more important for subsequent models. Instances that were correctly classified are given lower weights.\n",
        "\n",
        "**Step 3: Combining Weak Learners**\n",
        "1. **Predictions and Voting:** The predictions from all weak learners are combined using weighted majority voting. Weights are assigned to each weak learner based on its performance (lower error leads to higher weight).\n",
        "2. **Final Prediction:** The final prediction is made by taking a weighted majority vote of the weak learners' predictions.\n",
        "\n",
        "**Benefits of AdaBoost:**\n",
        "1. **Adaptive Learning:** AdaBoost focuses on instances that were misclassified by previous models, adapting to the complexity of the data.\n",
        "2. **Improves Weak Models:** Even if individual weak learners perform only slightly better than random guessing, AdaBoost can combine them to create a strong model.\n",
        "3. **Reduces Overfitting:** The iterative nature of AdaBoost allows it to focus on hard-to-classify instances and improve overall generalization."
      ],
      "metadata": {
        "id": "wBO7q_tdZ3iT"
      }
    },
    {
      "cell_type": "markdown",
      "source": [
        "Here are your tasks:\n",
        "\n",
        "1. Build and train an [AdaBoostClassifier](https://scikit-learn.org/stable/modules/generated/sklearn.ensemble.AdaBoostClassifier.html) on your training data using a decision tree of max depth equal to 1 as your weak learner.\n",
        "2. Evaluate your decision tree, random forest, and AdaBoost models by applying [accuracy_score](https://scikit-learn.org/stable/modules/generated/sklearn.metrics.accuracy_score.html) to the test data. Which model performs the best? Experiment by changing the hyperparameters of these models.\n"
      ],
      "metadata": {
        "id": "T8IsKNfIaAC3"
      }
    },
    {
      "cell_type": "code",
      "source": [
        "# Build and train an AdaBoostClassifier on your training data."
      ],
      "metadata": {
        "id": "cEmNpWHLLZIQ"
      },
      "execution_count": 127,
      "outputs": []
    },
    {
      "cell_type": "code",
      "source": [
        "# Evaluate models"
      ],
      "metadata": {
        "id": "chOiS6grF4At"
      },
      "execution_count": 128,
      "outputs": []
    }
  ],
  "metadata": {
    "colab": {
      "provenance": []
    },
    "kernelspec": {
      "display_name": "Python 3",
      "name": "python3"
    },
    "language_info": {
      "name": "python"
    }
  },
  "nbformat": 4,
  "nbformat_minor": 0
}