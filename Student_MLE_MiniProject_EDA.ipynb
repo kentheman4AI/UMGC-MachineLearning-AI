{
  "nbformat": 4,
  "nbformat_minor": 0,
  "metadata": {
    "colab": {
      "provenance": [],
      "include_colab_link": true
    },
    "kernelspec": {
      "name": "python3",
      "display_name": "Python 3"
    },
    "language_info": {
      "name": "python"
    }
  },
  "cells": [
    {
      "cell_type": "markdown",
      "metadata": {
        "id": "view-in-github",
        "colab_type": "text"
      },
      "source": [
        "<a href=\"https://colab.research.google.com/github/kentheman4AI/UMGC-MachineLearning-AI/blob/main/Student_MLE_MiniProject_EDA.ipynb\" target=\"_parent\"><img src=\"https://colab.research.google.com/assets/colab-badge.svg\" alt=\"Open In Colab\"/></a>"
      ]
    },
    {
      "cell_type": "markdown",
      "source": [
        "# Mini Project: Exploratory Data Analysis"
      ],
      "metadata": {
        "id": "hVq3RjKJpJI0"
      }
    },
    {
      "cell_type": "markdown",
      "source": [
        "# Exploratory Data Analysis: Unveiling Insights from the NYC Taxi Dataset\n",
        "\n",
        "Data has become the lifeblood of the modern world, permeating every aspect of our lives and transforming the way we make decisions. In this era of vast information, the ability to extract meaningful insights from raw data has emerged as a crucial skill. Enter exploratory data analysis (EDA), a powerful approach that allows us to unravel hidden patterns, detect anomalies, and generate valuable knowledge from the vast volumes of data at our disposal.\n",
        "\n",
        "Exploratory data analysis serves as the initial step in any data-driven investigation, offering a comprehensive understanding of the dataset's structure, distributions, and relationships between variables. By applying statistical and visual techniques, analysts gain a deeper insight into the data, paving the way for more accurate predictions, informed decision-making, and the discovery of actionable insights.\n",
        "\n",
        "To illustrate the significance of exploratory data analysis, we delve into one of the most popular and widely studied datasets in the field—the [NYC Taxi Dataset](https://www.nyc.gov/site/tlc/about/tlc-trip-record-data.page). As the name suggests, this dataset captures detailed information about taxi trips within the bustling city of New York. The NYC Taxi Dataset is an ideal choice for learning and practicing EDA techniques due to its richness, complexity, and real-world applicability.\n",
        "\n",
        "The dataset encompasses a vast range of attributes, including pickup and drop-off locations, timestamps, trip durations, passenger counts, payment information, and much more. By exploring this data, we can gain valuable insights into the dynamics of taxi usage, understand travel patterns across different neighborhoods, identify peak hours of demand, analyze fare structures, and even uncover interesting anecdotes about the city's vibrant life.\n",
        "\n",
        "The NYC Taxi Dataset is an excellent resource for aspiring ML practitioners to develop their EDA skills. Its scale, complexity, and real-world relevance make it an engaging playground for uncovering hidden patterns, generating hypotheses, and forming data-driven narratives.\n",
        "\n",
        "In this mini project, we will dive deep into the NYC Taxi Dataset. We will leverage various EDA techniques to unveil meaningful insights, visualize data distributions, identify outliers, and pose insightful questions that will fuel further analysis and exploration. By the end of this colab, students will have a solid foundation in exploratory data analysis and be equipped to tackle real-world data challenges with confidence."
      ],
      "metadata": {
        "id": "ajb94WgIRdgC"
      }
    },
    {
      "cell_type": "code",
      "source": [
        "import pandas as pd\n",
        "import matplotlib.pyplot as plt\n",
        "import seaborn as sns"
      ],
      "metadata": {
        "id": "lbJFWLELlI6N"
      },
      "execution_count": 4,
      "outputs": []
    },
    {
      "cell_type": "markdown",
      "source": [
        "Load the NYC taxi dataset into a Pandas DataFrame and do a few basic checks to ensure the data is loaded properly. Note, there are several months of data that can be used. For simplicity, use the Yellow Taxi 2022-01 parquet file [here](https://d37ci6vzurychx.cloudfront.net/trip-data/yellow_tripdata_2022-01.parquet). Here are your tasks:\n",
        "\n",
        "  1. Load the `yellow_tripdata_2022-01.parquet` file into Pandas.\n",
        "  2. Print the first 5 rows of data. Study the schema and make sure you understand what each of the fields mean by referencing the [documentation](https://www.nyc.gov/assets/tlc/downloads/pdf/data_dictionary_trip_records_yellow.pdf).\n",
        "  3. How many rows are in the dataset? How many unique columns are in the dataset?\n",
        "  4. Which columns have NULL values and how many NULL values are present in each of these columns?\n",
        "  5. Generate summary statistics using Pandas' [describe method](https://pandas.pydata.org/docs/reference/api/pandas.DataFrame.describe.html). Do you notice anything unusual in the dataset? Find at least one anomoly and try to come up with a hypothesis to explain it.  \n",
        "  6. Drop all rows with NULL values and store the result. We'll ignore NULL valued rows in this mini-project.\n"
      ],
      "metadata": {
        "id": "sgK6-XtjVnjj"
      }
    },
    {
      "cell_type": "code",
      "source": [],
      "metadata": {
        "id": "ixbBJ2DBKoNG"
      },
      "execution_count": null,
      "outputs": []
    },
    {
      "cell_type": "code",
      "source": [
        "# Load parquet file into a Pandas DataFrame\n",
        "NYC_Yellow_Taxi_200201 = pd.read_parquet('https://d37ci6vzurychx.cloudfront.net/trip-data/yellow_tripdata_2022-01.parquet')"
      ],
      "metadata": {
        "id": "db--eb8zlNNg"
      },
      "execution_count": 134,
      "outputs": []
    },
    {
      "cell_type": "code",
      "source": [
        "# Display the first few rows of the dataset\n",
        "print(NYC_Yellow_Taxi_200201.head())"
      ],
      "metadata": {
        "id": "TslBuHoXl_o1",
        "colab": {
          "base_uri": "https://localhost:8080/"
        },
        "outputId": "e499b39e-806c-4fbe-f5fd-3385d0dc8dc9"
      },
      "execution_count": 37,
      "outputs": [
        {
          "output_type": "stream",
          "name": "stdout",
          "text": [
            "   VendorID tpep_pickup_datetime tpep_dropoff_datetime  passenger_count  \\\n",
            "0         1  2022-01-01 00:35:40   2022-01-01 00:53:29              2.0   \n",
            "1         1  2022-01-01 00:33:43   2022-01-01 00:42:07              1.0   \n",
            "2         2  2022-01-01 00:53:21   2022-01-01 01:02:19              1.0   \n",
            "3         2  2022-01-01 00:25:21   2022-01-01 00:35:23              1.0   \n",
            "4         2  2022-01-01 00:36:48   2022-01-01 01:14:20              1.0   \n",
            "\n",
            "   trip_distance  RatecodeID store_and_fwd_flag  PULocationID  DOLocationID  \\\n",
            "0           3.80         1.0                  N           142           236   \n",
            "1           2.10         1.0                  N           236            42   \n",
            "2           0.97         1.0                  N           166           166   \n",
            "3           1.09         1.0                  N           114            68   \n",
            "4           4.30         1.0                  N            68           163   \n",
            "\n",
            "   payment_type  fare_amount  extra  mta_tax  tip_amount  tolls_amount  \\\n",
            "0             1         14.5    3.0      0.5        3.65           0.0   \n",
            "1             1          8.0    0.5      0.5        4.00           0.0   \n",
            "2             1          7.5    0.5      0.5        1.76           0.0   \n",
            "3             2          8.0    0.5      0.5        0.00           0.0   \n",
            "4             1         23.5    0.5      0.5        3.00           0.0   \n",
            "\n",
            "   improvement_surcharge  total_amount  congestion_surcharge  airport_fee  \n",
            "0                    0.3         21.95                   2.5          0.0  \n",
            "1                    0.3         13.30                   0.0          0.0  \n",
            "2                    0.3         10.56                   0.0          0.0  \n",
            "3                    0.3         11.80                   2.5          0.0  \n",
            "4                    0.3         30.30                   2.5          0.0  \n"
          ]
        }
      ]
    },
    {
      "cell_type": "code",
      "source": [
        "# Display the shape of the dataset\n",
        "print(NYC_Yellow_Taxi_200201.shape)"
      ],
      "metadata": {
        "id": "jkQN2lBymKH-",
        "colab": {
          "base_uri": "https://localhost:8080/"
        },
        "outputId": "12253b69-9966-4875-ca2f-d9c22d47ca91"
      },
      "execution_count": 135,
      "outputs": [
        {
          "output_type": "stream",
          "name": "stdout",
          "text": [
            "(2463931, 19)\n"
          ]
        }
      ]
    },
    {
      "cell_type": "code",
      "source": [
        "# Check for missing values\n",
        "print(NYC_Yellow_Taxi_200201.isnull().sum())\n",
        "print(NYC_Yellow_Taxi_200201.notnull().sum())\n",
        "print(NYC_Yellow_Taxi_200201.shape[0]-NYC_Yellow_Taxi_200201.notnull().sum())\n",
        "print(NYC_Yellow_Taxi_200201.shape[0]-NYC_Yellow_Taxi_200201.notnull().sum()-NYC_Yellow_Taxi_200201.isnull().sum())"
      ],
      "metadata": {
        "id": "N8JeOtV5mQJ7",
        "colab": {
          "base_uri": "https://localhost:8080/"
        },
        "outputId": "f53201cd-a4c7-48e5-d044-b1edcf54d52f"
      },
      "execution_count": 136,
      "outputs": [
        {
          "output_type": "stream",
          "name": "stdout",
          "text": [
            "VendorID                     0\n",
            "tpep_pickup_datetime         0\n",
            "tpep_dropoff_datetime        0\n",
            "passenger_count          71503\n",
            "trip_distance                0\n",
            "RatecodeID               71503\n",
            "store_and_fwd_flag       71503\n",
            "PULocationID                 0\n",
            "DOLocationID                 0\n",
            "payment_type                 0\n",
            "fare_amount                  0\n",
            "extra                        0\n",
            "mta_tax                      0\n",
            "tip_amount                   0\n",
            "tolls_amount                 0\n",
            "improvement_surcharge        0\n",
            "total_amount                 0\n",
            "congestion_surcharge     71503\n",
            "airport_fee              71503\n",
            "dtype: int64\n",
            "VendorID                 2463931\n",
            "tpep_pickup_datetime     2463931\n",
            "tpep_dropoff_datetime    2463931\n",
            "passenger_count          2392428\n",
            "trip_distance            2463931\n",
            "RatecodeID               2392428\n",
            "store_and_fwd_flag       2392428\n",
            "PULocationID             2463931\n",
            "DOLocationID             2463931\n",
            "payment_type             2463931\n",
            "fare_amount              2463931\n",
            "extra                    2463931\n",
            "mta_tax                  2463931\n",
            "tip_amount               2463931\n",
            "tolls_amount             2463931\n",
            "improvement_surcharge    2463931\n",
            "total_amount             2463931\n",
            "congestion_surcharge     2392428\n",
            "airport_fee              2392428\n",
            "dtype: int64\n",
            "VendorID                     0\n",
            "tpep_pickup_datetime         0\n",
            "tpep_dropoff_datetime        0\n",
            "passenger_count          71503\n",
            "trip_distance                0\n",
            "RatecodeID               71503\n",
            "store_and_fwd_flag       71503\n",
            "PULocationID                 0\n",
            "DOLocationID                 0\n",
            "payment_type                 0\n",
            "fare_amount                  0\n",
            "extra                        0\n",
            "mta_tax                      0\n",
            "tip_amount                   0\n",
            "tolls_amount                 0\n",
            "improvement_surcharge        0\n",
            "total_amount                 0\n",
            "congestion_surcharge     71503\n",
            "airport_fee              71503\n",
            "dtype: int64\n",
            "VendorID                 0\n",
            "tpep_pickup_datetime     0\n",
            "tpep_dropoff_datetime    0\n",
            "passenger_count          0\n",
            "trip_distance            0\n",
            "RatecodeID               0\n",
            "store_and_fwd_flag       0\n",
            "PULocationID             0\n",
            "DOLocationID             0\n",
            "payment_type             0\n",
            "fare_amount              0\n",
            "extra                    0\n",
            "mta_tax                  0\n",
            "tip_amount               0\n",
            "tolls_amount             0\n",
            "improvement_surcharge    0\n",
            "total_amount             0\n",
            "congestion_surcharge     0\n",
            "airport_fee              0\n",
            "dtype: int64\n"
          ]
        }
      ]
    },
    {
      "cell_type": "code",
      "source": [
        "# Summary statistics of the dataset\n",
        "NYCYellow_Stats = NYC_Yellow_Taxi_200201.describe(include='all')\n",
        "print(NYCYellow_Stats)"
      ],
      "metadata": {
        "id": "h9q5SOrql5mS",
        "colab": {
          "base_uri": "https://localhost:8080/"
        },
        "outputId": "e61815e5-0a46-4c92-c265-fb6b5a6610e4"
      },
      "execution_count": 137,
      "outputs": [
        {
          "output_type": "stream",
          "name": "stdout",
          "text": [
            "            VendorID        tpep_pickup_datetime       tpep_dropoff_datetime  \\\n",
            "count   2.463931e+06                     2463931                     2463931   \n",
            "unique           NaN                         NaN                         NaN   \n",
            "top              NaN                         NaN                         NaN   \n",
            "freq             NaN                         NaN                         NaN   \n",
            "mean    1.707819e+00  2022-01-17 01:19:51.689724  2022-01-17 01:34:04.421902   \n",
            "min     1.000000e+00         2008-12-31 22:23:09         2008-12-31 23:06:56   \n",
            "25%     1.000000e+00         2022-01-09 15:37:41  2022-01-09 15:50:50.500000   \n",
            "50%     2.000000e+00         2022-01-17 12:11:45         2022-01-17 12:23:49   \n",
            "75%     2.000000e+00  2022-01-24 13:49:37.500000         2022-01-24 14:02:51   \n",
            "max     6.000000e+00         2022-05-18 20:41:57         2022-05-18 20:47:45   \n",
            "std     5.021375e-01                         NaN                         NaN   \n",
            "\n",
            "        passenger_count  trip_distance    RatecodeID store_and_fwd_flag  \\\n",
            "count      2.392428e+06   2.463931e+06  2.392428e+06            2392428   \n",
            "unique              NaN            NaN           NaN                  2   \n",
            "top                 NaN            NaN           NaN                  N   \n",
            "freq                NaN            NaN           NaN            2337496   \n",
            "mean       1.389453e+00   5.372751e+00  1.415507e+00                NaN   \n",
            "min        0.000000e+00   0.000000e+00  1.000000e+00                NaN   \n",
            "25%        1.000000e+00   1.040000e+00  1.000000e+00                NaN   \n",
            "50%        1.000000e+00   1.740000e+00  1.000000e+00                NaN   \n",
            "75%        1.000000e+00   3.130000e+00  1.000000e+00                NaN   \n",
            "max        9.000000e+00   3.061593e+05  9.900000e+01                NaN   \n",
            "std        9.829686e-01   5.478714e+02  5.917573e+00                NaN   \n",
            "\n",
            "        PULocationID  DOLocationID  payment_type   fare_amount         extra  \\\n",
            "count   2.463931e+06  2.463931e+06  2.463931e+06  2.463931e+06  2.463931e+06   \n",
            "unique           NaN           NaN           NaN           NaN           NaN   \n",
            "top              NaN           NaN           NaN           NaN           NaN   \n",
            "freq             NaN           NaN           NaN           NaN           NaN   \n",
            "mean    1.660768e+02  1.635807e+02  1.194449e+00  1.294648e+01  1.006710e+00   \n",
            "min     1.000000e+00  1.000000e+00  0.000000e+00 -4.800000e+02 -4.500000e+00   \n",
            "25%     1.320000e+02  1.130000e+02  1.000000e+00  6.500000e+00  0.000000e+00   \n",
            "50%     1.620000e+02  1.620000e+02  1.000000e+00  9.000000e+00  5.000000e-01   \n",
            "75%     2.340000e+02  2.360000e+02  1.000000e+00  1.400000e+01  2.500000e+00   \n",
            "max     2.650000e+02  2.650000e+02  5.000000e+00  4.010923e+05  3.350000e+01   \n",
            "std     6.546806e+01  7.079016e+01  5.001778e-01  2.558149e+02  1.236226e+00   \n",
            "\n",
            "             mta_tax    tip_amount  tolls_amount  improvement_surcharge  \\\n",
            "count   2.463931e+06  2.463931e+06  2.463931e+06           2.463931e+06   \n",
            "unique           NaN           NaN           NaN                    NaN   \n",
            "top              NaN           NaN           NaN                    NaN   \n",
            "freq             NaN           NaN           NaN                    NaN   \n",
            "mean    4.914539e-01  2.385696e+00  3.749773e-01           2.967234e-01   \n",
            "min    -5.000000e-01 -1.252200e+02 -3.140000e+01          -3.000000e-01   \n",
            "25%     5.000000e-01  7.200000e-01  0.000000e+00           3.000000e-01   \n",
            "50%     5.000000e-01  2.000000e+00  0.000000e+00           3.000000e-01   \n",
            "75%     5.000000e-01  3.000000e+00  0.000000e+00           3.000000e-01   \n",
            "max     1.659000e+01  8.888800e+02  1.933000e+02           3.000000e-01   \n",
            "std     8.291560e-02  2.830698e+00  1.680538e+00           4.374741e-02   \n",
            "\n",
            "        total_amount  congestion_surcharge   airport_fee  \n",
            "count   2.463931e+06          2.392428e+06  2.392428e+06  \n",
            "unique           NaN                   NaN           NaN  \n",
            "top              NaN                   NaN           NaN  \n",
            "freq             NaN                   NaN           NaN  \n",
            "mean    1.916937e+01          2.282322e+00  8.249935e-02  \n",
            "min    -4.803000e+02         -2.500000e+00 -1.250000e+00  \n",
            "25%     1.130000e+01          2.500000e+00  0.000000e+00  \n",
            "50%     1.469000e+01          2.500000e+00  0.000000e+00  \n",
            "75%     2.002000e+01          2.500000e+00  0.000000e+00  \n",
            "max     4.010956e+05          2.500000e+00  1.250000e+00  \n",
            "std     2.559641e+02          7.432040e-01  3.125554e-01  \n"
          ]
        }
      ]
    },
    {
      "cell_type": "code",
      "source": [
        "# Drop rows with missing values.\n",
        "NYC_Yellow_Taxi_200201_NN = NYC_Yellow_Taxi_200201.dropna(how='any')\n",
        "print(NYC_Yellow_Taxi_200201_NN.head())\n",
        "print(NYC_Yellow_Taxi_200201_NN.shape)"
      ],
      "metadata": {
        "id": "VP3EWMIEo4sp",
        "colab": {
          "base_uri": "https://localhost:8080/"
        },
        "outputId": "f4dda087-c92d-47d0-903d-cec9d10016dc"
      },
      "execution_count": 138,
      "outputs": [
        {
          "output_type": "stream",
          "name": "stdout",
          "text": [
            "   VendorID tpep_pickup_datetime tpep_dropoff_datetime  passenger_count  \\\n",
            "0         1  2022-01-01 00:35:40   2022-01-01 00:53:29              2.0   \n",
            "1         1  2022-01-01 00:33:43   2022-01-01 00:42:07              1.0   \n",
            "2         2  2022-01-01 00:53:21   2022-01-01 01:02:19              1.0   \n",
            "3         2  2022-01-01 00:25:21   2022-01-01 00:35:23              1.0   \n",
            "4         2  2022-01-01 00:36:48   2022-01-01 01:14:20              1.0   \n",
            "\n",
            "   trip_distance  RatecodeID store_and_fwd_flag  PULocationID  DOLocationID  \\\n",
            "0           3.80         1.0                  N           142           236   \n",
            "1           2.10         1.0                  N           236            42   \n",
            "2           0.97         1.0                  N           166           166   \n",
            "3           1.09         1.0                  N           114            68   \n",
            "4           4.30         1.0                  N            68           163   \n",
            "\n",
            "   payment_type  fare_amount  extra  mta_tax  tip_amount  tolls_amount  \\\n",
            "0             1         14.5    3.0      0.5        3.65           0.0   \n",
            "1             1          8.0    0.5      0.5        4.00           0.0   \n",
            "2             1          7.5    0.5      0.5        1.76           0.0   \n",
            "3             2          8.0    0.5      0.5        0.00           0.0   \n",
            "4             1         23.5    0.5      0.5        3.00           0.0   \n",
            "\n",
            "   improvement_surcharge  total_amount  congestion_surcharge  airport_fee  \n",
            "0                    0.3         21.95                   2.5          0.0  \n",
            "1                    0.3         13.30                   0.0          0.0  \n",
            "2                    0.3         10.56                   0.0          0.0  \n",
            "3                    0.3         11.80                   2.5          0.0  \n",
            "4                    0.3         30.30                   2.5          0.0  \n",
            "(2392428, 19)\n"
          ]
        }
      ]
    },
    {
      "cell_type": "markdown",
      "source": [
        "Feature engineering is a critical process in machine learning that involves selecting, transforming, and creating features from raw data to improve the performance and accuracy of predictive models. While machine learning algorithms have the capability to automatically learn patterns from data, the quality and relevance of the features used as inputs greatly influence the model's ability to generalize and make accurate predictions. Feature engineering, therefore, plays a crucial role in extracting meaningful information and representing it in a format that best captures the underlying relationships within the data.\n",
        "\n",
        "Here are your tasks:\n",
        "\n",
        "  1. Create a new feature that calculates the trip duration in minutes.\n",
        "  2. Create additional features for the pick-up day of week and pick-up hour.\n",
        "  3. Use the Seaborn library to create a [line plot](https://seaborn.pydata.org/generated/seaborn.lineplot.html) depicting the number of trips as a function of the hour of day. What's the busiest time of day?\n",
        "  4. Create another lineplot depicting the number of trips as a function of the day of week. What day of the week is the least busy?"
      ],
      "metadata": {
        "id": "u2i5l3QNFAf3"
      }
    },
    {
      "cell_type": "code",
      "source": [
        "# Create a new column for trip duration in minutes\n",
        "NYC_Yellow_Taxi_200201_NN.loc[:,'trip_duration']=(NYC_Yellow_Taxi_200201_NN['tpep_dropoff_datetime']-NYC_Yellow_Taxi_200201_NN['tpep_pickup_datetime']).dt.total_seconds() / 60\n",
        "print(NYC_Yellow_Taxi_200201_NN['trip_duration'])"
      ],
      "metadata": {
        "id": "Wef2rR1Npl8f",
        "colab": {
          "base_uri": "https://localhost:8080/"
        },
        "outputId": "def4eee6-7f02-46d9-dce4-481364476e72"
      },
      "execution_count": 139,
      "outputs": [
        {
          "output_type": "stream",
          "name": "stdout",
          "text": [
            "0          17.816667\n",
            "1           8.400000\n",
            "2           8.966667\n",
            "3          10.033333\n",
            "4          37.533333\n",
            "             ...    \n",
            "2392423     8.316667\n",
            "2392424     4.350000\n",
            "2392425     8.216667\n",
            "2392426     7.750000\n",
            "2392427    12.233333\n",
            "Name: trip_duration, Length: 2392428, dtype: float64\n"
          ]
        },
        {
          "output_type": "stream",
          "name": "stderr",
          "text": [
            "<ipython-input-139-1f61a6ae804b>:2: SettingWithCopyWarning: \n",
            "A value is trying to be set on a copy of a slice from a DataFrame.\n",
            "Try using .loc[row_indexer,col_indexer] = value instead\n",
            "\n",
            "See the caveats in the documentation: https://pandas.pydata.org/pandas-docs/stable/user_guide/indexing.html#returning-a-view-versus-a-copy\n",
            "  NYC_Yellow_Taxi_200201_NN.loc[:,'trip_duration']=(NYC_Yellow_Taxi_200201_NN['tpep_dropoff_datetime']-NYC_Yellow_Taxi_200201_NN['tpep_pickup_datetime']).dt.total_seconds() / 60\n"
          ]
        }
      ]
    },
    {
      "cell_type": "code",
      "source": [
        "# Create new columns for pickup hour and day of week\n",
        "NYC_Yellow_Taxi_200201_NN.loc[:,'pickup_day']=NYC_Yellow_Taxi_200201_NN['tpep_pickup_datetime'].dt.dayofweek\n",
        "NYC_Yellow_Taxi_200201_NN.loc[:,'pickup_hour']=NYC_Yellow_Taxi_200201_NN['tpep_pickup_datetime'].dt.hour\n",
        "print(NYC_Yellow_Taxi_200201_NN['pickup_day'].head())\n",
        "print(NYC_Yellow_Taxi_200201_NN['pickup_hour'].head())"
      ],
      "metadata": {
        "id": "d13PYaN2FPFt",
        "colab": {
          "base_uri": "https://localhost:8080/"
        },
        "outputId": "812c2571-0bf8-4451-82ea-18cae8f00618"
      },
      "execution_count": 140,
      "outputs": [
        {
          "output_type": "stream",
          "name": "stdout",
          "text": [
            "0    5\n",
            "1    5\n",
            "2    5\n",
            "3    5\n",
            "4    5\n",
            "Name: pickup_day, dtype: int32\n",
            "0    0\n",
            "1    0\n",
            "2    0\n",
            "3    0\n",
            "4    0\n",
            "Name: pickup_hour, dtype: int32\n"
          ]
        },
        {
          "output_type": "stream",
          "name": "stderr",
          "text": [
            "<ipython-input-140-38c747eaa788>:2: SettingWithCopyWarning: \n",
            "A value is trying to be set on a copy of a slice from a DataFrame.\n",
            "Try using .loc[row_indexer,col_indexer] = value instead\n",
            "\n",
            "See the caveats in the documentation: https://pandas.pydata.org/pandas-docs/stable/user_guide/indexing.html#returning-a-view-versus-a-copy\n",
            "  NYC_Yellow_Taxi_200201_NN.loc[:,'pickup_day']=NYC_Yellow_Taxi_200201_NN['tpep_pickup_datetime'].dt.dayofweek\n",
            "<ipython-input-140-38c747eaa788>:3: SettingWithCopyWarning: \n",
            "A value is trying to be set on a copy of a slice from a DataFrame.\n",
            "Try using .loc[row_indexer,col_indexer] = value instead\n",
            "\n",
            "See the caveats in the documentation: https://pandas.pydata.org/pandas-docs/stable/user_guide/indexing.html#returning-a-view-versus-a-copy\n",
            "  NYC_Yellow_Taxi_200201_NN.loc[:,'pickup_hour']=NYC_Yellow_Taxi_200201_NN['tpep_pickup_datetime'].dt.hour\n"
          ]
        }
      ]
    },
    {
      "cell_type": "code",
      "source": [
        "# Create a lineplot displaying the number of trips by pickup hour\n",
        "pickup_hours=NYC_Yellow_Taxi_200201_NN['pickup_hour'].value_counts()\n",
        "sns.lineplot(data=pickup_hours)  #hour 18 - 6pm is the busiest time of day"
      ],
      "metadata": {
        "id": "-Bf7bnS9uU-h",
        "colab": {
          "base_uri": "https://localhost:8080/",
          "height": 471
        },
        "outputId": "be83107a-0724-4cdb-933b-dbe4a15ffbcb"
      },
      "execution_count": 141,
      "outputs": [
        {
          "output_type": "execute_result",
          "data": {
            "text/plain": [
              "<Axes: xlabel='pickup_hour', ylabel='count'>"
            ]
          },
          "metadata": {},
          "execution_count": 141
        },
        {
          "output_type": "display_data",
          "data": {
            "text/plain": [
              "<Figure size 640x480 with 1 Axes>"
            ],
            "image/png": "[encoded data removed]"
          },
          "metadata": {}
        }
      ]
    },
    {
      "cell_type": "code",
      "source": [
        "# Create a lineplot displaying the number of trips by pickup day\n",
        "daysofweek=['Monday','Tuesday','Wednesday','Thursday','Friday','Saturday','Sunday']\n",
        "pickup_days=NYC_Yellow_Taxi_200201_NN['pickup_day'].value_counts()\n",
        "sns.lineplot(x=daysofweek,y=pickup_days)  #Sunday is the least busy"
      ],
      "metadata": {
        "id": "iGjHC9lHuO8r",
        "colab": {
          "base_uri": "https://localhost:8080/",
          "height": 447
        },
        "outputId": "eebbcf83-d80a-4f96-8f5b-20cdc7ad33b7"
      },
      "execution_count": 142,
      "outputs": [
        {
          "output_type": "execute_result",
          "data": {
            "text/plain": [
              "<Axes: ylabel='count'>"
            ]
          },
          "metadata": {},
          "execution_count": 142
        },
        {
          "output_type": "display_data",
          "data": {
            "text/plain": [
              "<Figure size 640x480 with 1 Axes>"
            ],
            "image/png": "[encoded data removed]"
          },
          "metadata": {}
        }
      ]
    },
    {
      "cell_type": "markdown",
      "source": [
        "In the realm of machine learning, understanding the relationships between variables is crucial for building accurate and effective predictive models. One powerful tool for exploring these relationships is the correlation matrix. A correlation matrix provides a comprehensive overview of the pairwise correlations between variables in a dataset, allowing practitioners to quantify and visualize the strength and direction of these associations. This matrix is an essential component of exploratory data analysis and offers several key benefits:\n",
        "\n",
        "1. Relationship Assessment: The correlation matrix provides a quantitative measure of the relationship between variables. By calculating correlation coefficients, typically using methods like Pearson's correlation coefficient, analysts can determine if variables are positively correlated (increase together), negatively correlated (one increases as the other decreases), or uncorrelated (no systematic relationship). These measures offer insights into the direction and strength of the relationships, helping to identify important variables that may influence the target variable.\n",
        "\n",
        "2. Feature Selection: Correlation matrices are invaluable in feature selection, which involves identifying the most relevant variables for building predictive models. By examining the correlations between the target variable and other features, analysts can identify highly correlated variables that may be strong predictors. This knowledge enables informed decisions regarding which variables to include in the model, potentially reducing dimensionality, enhancing model efficiency, and preventing issues such as multicollinearity.\n",
        "\n",
        "3. Multicollinearity Detection: Multicollinearity occurs when two or more independent variables in a model are highly correlated. This can lead to problems such as instability in coefficient estimates, difficulty in interpreting feature importance, and reduced model robustness. By examining the correlation matrix, analysts can identify highly correlated variables and make informed decisions about which ones to include or exclude to mitigate multicollinearity. Removing redundant variables improves model interpretability and generalization.\n",
        "\n",
        "Here is your task:\n",
        "\n",
        "  1. Compute a correlation matrix between the variables 'trip_distance', 'fare_amount', 'tip_amount', 'total_amount', 'trip_duration' and use Seaborn to create a heatmap of the results. Which variables are strongly correlated?"
      ],
      "metadata": {
        "id": "yVQLUFXPGe4e"
      }
    },
    {
      "cell_type": "code",
      "source": [
        "# Compute correlation matrix of numerical variables\n",
        "NYC_Yellow_Taxi_DF_numbers=NYC_Yellow_Taxi_200201_NN[['trip_distance', 'fare_amount', 'tip_amount', 'total_amount', 'trip_duration']]\n",
        "NYC_Yellow_Taxi_cMatrix=NYC_Yellow_Taxi_DF_numbers.corr()\n",
        "print(NYC_Yellow_Taxi_cMatrix)\n",
        "\n",
        "# Create a heatmap of the correlation matrix\n",
        "sns.heatmap(NYC_Yellow_Taxi_cMatrix)"
      ],
      "metadata": {
        "id": "XCY8MrLAppQz",
        "colab": {
          "base_uri": "https://localhost:8080/",
          "height": 757
        },
        "outputId": "1ba8dbd1-8133-4258-ae6f-0925cd384c23"
      },
      "execution_count": 143,
      "outputs": [
        {
          "output_type": "stream",
          "name": "stdout",
          "text": [
            "               trip_distance  fare_amount  tip_amount  total_amount  \\\n",
            "trip_distance       1.000000     0.039426    0.491978      0.048724   \n",
            "fare_amount         0.039426     1.000000    0.024196      0.999878   \n",
            "tip_amount          0.491978     0.024196    1.000000      0.038133   \n",
            "total_amount        0.048724     0.999878    0.038133      1.000000   \n",
            "trip_duration       0.165854     0.008134    0.086206      0.009720   \n",
            "\n",
            "               trip_duration  \n",
            "trip_distance       0.165854  \n",
            "fare_amount         0.008134  \n",
            "tip_amount          0.086206  \n",
            "total_amount        0.009720  \n",
            "trip_duration       1.000000  \n"
          ]
        },
        {
          "output_type": "execute_result",
          "data": {
            "text/plain": [
              "<Axes: >"
            ]
          },
          "metadata": {},
          "execution_count": 143
        },
        {
          "output_type": "display_data",
          "data": {
            "text/plain": [
              "<Figure size 640x480 with 2 Axes>"
            ],
            "image/png": "[encoded data removed]"
          },
          "metadata": {}
        }
      ]
    },
    {
      "cell_type": "markdown",
      "source": [
        "Pairplots, also known as scatterplot matrices, allow for the visualization of pairwise relationships between multiple variables simultaneously. Each subplot in the pairplot represents the scatterplot of one variable against another. Pairplots offer several advantages in EDA:\n",
        "\n",
        "  - Variable Relationships: Pairplots enable analysts to explore the relationships between variables, revealing patterns such as linear or nonlinear correlations, clusters, or other associations. These visual cues guide further analysis, feature selection, or modeling decisions.\n",
        "\n",
        "  - Multivariate Analysis: Pairplots help identify multivariate dependencies and interactions, highlighting how different variables jointly influence one another. This is particularly valuable in identifying potential confounding factors or discovering hidden interactions that may not be apparent when considering variables in isolation.\n",
        "\n",
        "  - Outlier Detection: Pairplots can reveal potential outliers by showing data points that deviate significantly from the general pattern observed between variables. Outliers can indicate data anomalies or influential observations that may impact model performance.\n",
        "\n",
        "  - Feature Importance: Pairplots provide an intuitive representation of the relative importance of different features. Variables exhibiting strong correlations or clear patterns may be more relevant for predictive modeling or feature selection.\n",
        "\n",
        "  - Data Quality: Pairplots can help identify data quality issues, such as data entry errors or measurement inconsistencies. Patterns that do not align with expectations or exhibit unusual trends may signal data problems that require further investigation or preprocessing.\n",
        "\n",
        "Here is your task:\n",
        "\n",
        "  1. Create a [pairplot matrix](https://seaborn.pydata.org/generated/seaborn.pairplot.html) using Seaborn to observation the relationship between the following variables: trip_distance, fare_amount, tip_amount, total_amount, trip_duration. Note, pairplots can be memory intensive. Try sampling the dataset using the [sample method](https://pandas.pydata.org/docs/reference/api/pandas.DataFrame.sample.html) in Pandas. Which variables appear to have a strong relationship? Which variables seem to have no relationship?"
      ],
      "metadata": {
        "id": "Eh6TJ8iRJHDm"
      }
    },
    {
      "cell_type": "code",
      "source": [
        "# Create a scatter plot matrix of numerical variables. If memory issues try the df.sample method."
      ],
      "metadata": {
        "id": "l_v24Ym3p8A-"
      },
      "execution_count": null,
      "outputs": []
    },
    {
      "cell_type": "markdown",
      "source": [
        "A count plot is a type of categorical plot that displays the number of occurrences of each category in a dataset. It is particularly useful for visualizing the distribution and frequency of categorical variables. Here are some key uses and benefits of count plots:\n",
        "\n",
        "  - Categorical Variable Exploration: Count plots provide a quick and concise summary of the distribution of categorical variables. They allow analysts to understand the frequency or count of each category, revealing the proportions and imbalances within the dataset. This information is crucial for gaining insights into the composition and characteristics of categorical variables.\n",
        "\n",
        "  - Class Imbalance Assessment: In classification tasks, count plots help assess the balance or imbalance of different target classes. It provides a visual representation of the distribution of classes, highlighting any significant discrepancies in the sample sizes across categories. Identifying imbalanced classes is important in machine learning as it can affect model performance and bias the predictions towards the majority class.\n",
        "\n",
        "  - Data Quality Inspection: Count plots can be utilized to detect data quality issues in categorical variables. It allows analysts to identify unexpected or erroneous categories that may indicate data entry errors, missing data, or inconsistencies in the dataset. By observing the counts for each category, anomalies or discrepancies can be easily spotted, enabling data cleaning or further investigation if necessary.\n",
        "\n",
        "  - Feature Importance Evaluation: Count plots can provide insights into the importance or relevance of different categorical features in relation to the target variable. By visualizing the distribution of categories within each class or target level, analysts can determine which categories are more prevalent or have higher frequencies for specific outcomes. This understanding helps in assessing the discriminatory power of categorical features and their potential impact on predictive models.\n",
        "\n",
        "Here is your task:\n",
        "\n",
        "  1. Use Seaborn to create a [countplot](https://seaborn.pydata.org/generated/seaborn.countplot.html) for the variables PULocationID, and DOLocationID. Keep only the top 15 pick-up and drop-off locations. What's the most popular pick-up location?"
      ],
      "metadata": {
        "id": "OA1p83hesFkH"
      }
    },
    {
      "cell_type": "code",
      "source": [
        "# Create a Seaborn countplot for PULocationID and DOLocationID. Only plot the top 15 categories by value counts."
      ],
      "metadata": {
        "id": "eigDjtkTruQD"
      },
      "execution_count": null,
      "outputs": []
    },
    {
      "cell_type": "markdown",
      "source": [
        "A box plot, also known as a box-and-whisker plot, is a powerful visualization tool for displaying the distribution, variability, and outliers within a numerical dataset. It provides a concise summary of key statistical measures and offers several important uses:\n",
        "\n",
        "  - Data Distribution and Skewness: Box plots offer a visual representation of the distribution of numerical data, providing insights into its central tendency, spread, and skewness. The box represents the interquartile range (IQR), which contains the middle 50% of the data, with the median indicated by a horizontal line within the box. By observing the length and symmetry of the box, analysts can assess whether the data is skewed or symmetrically distributed.\n",
        "\n",
        "  - Outlier Detection: Box plots are highly effective in identifying outliers, which are data points that deviate significantly from the rest of the distribution. The whiskers of the plot extend to the minimum and maximum non-outlier values, with any data points beyond the whiskers considered as potential outliers. Outliers can indicate data errors, anomalies, or important observations requiring further investigation.\n",
        "\n",
        "  - Comparing Groups or Categories: Box plots are useful for comparing the distributions of numerical data across different groups or categories. By creating side-by-side or grouped box plots, analysts can easily compare the central tendencies, spreads, and shapes of distributions between different groups. This allows for the identification of differences, similarities, or patterns within the data.\n",
        "\n",
        "  - Variability and Spread: Box plots provide insights into the variability and spread of the data. The length of the box indicates the spread of the middle 50% of the data, while the whiskers show the range of non-outlier values. By comparing the lengths of the boxes and whiskers, analysts can assess the relative variability between different groups or categories, aiding in the understanding of the data's dispersion.\n",
        "\n",
        "  - Skewedness and Symmetry: Box plots offer a visual assessment of the skewness or symmetry of the data distribution. A symmetrical distribution is represented by a box plot with an equal length on both sides of the median, while a skewed distribution is indicated by a longer box on one side. This visual cue helps in understanding the shape and characteristics of the data, assisting in further analysis and modeling decisions.\n",
        "\n",
        "  - Data Range and Quartiles: Box plots display the quartiles of the data distribution. The lower quartile (Q1) represents the 25th percentile, the upper quartile (Q3) represents the 75th percentile, and the interquartile range (IQR) is the range between Q1 and Q3. These quartiles provide a summary of the range and spread of the central portion of the data, aiding in the understanding of the data's variability and dispersion.\n",
        "\n",
        "Your task is:\n",
        "\n",
        "  1. Use Seaborn's [boxplot](https://seaborn.pydata.org/generated/seaborn.boxplot.html) to discern the relationship between payment_type and total_amount. Does anything look weird? Can you explain what's going on?"
      ],
      "metadata": {
        "id": "Bbl-WZtctVbH"
      }
    },
    {
      "cell_type": "code",
      "execution_count": null,
      "metadata": {
        "id": "fM_2IGKrk8Vy"
      },
      "outputs": [],
      "source": [
        "# Create a box plot of total amount by payment type. Do you see anything odd?"
      ]
    },
    {
      "cell_type": "markdown",
      "source": [
        "A histogram is a graphical representation that displays the distribution of a continuous or discrete numerical variable. It provides insights into the underlying data distribution and helps uncover patterns, frequencies, and ranges within the dataset. Here are some key uses and benefits of histogram plots:\n",
        "\n",
        "  - Data Distribution: Histograms allow analysts to visualize the shape, central tendency, and spread of the data. They provide an overview of the data distribution, helping to identify if it follows a particular pattern, such as a normal distribution, skewed distribution, bimodal distribution, or multimodal distribution. Understanding the data distribution aids in selecting appropriate analysis techniques and understanding the characteristics of the data.\n",
        "\n",
        "  - Frequency Analysis: Histograms display the frequency or count of data points within predefined bins or intervals along the x-axis. By observing the height or count of each bin, analysts can identify the frequency of occurrence for different values or value ranges. This information helps assess the concentration of data points and identify peaks or modes in the distribution.\n",
        "\n",
        "  - Outlier Detection: Histograms can assist in identifying outliers, which are data points that significantly deviate from the rest of the distribution. Outliers may indicate data errors, unusual observations, or important anomalies requiring further investigation. By examining the tails or extreme values in the histogram, analysts can identify potential outliers that may require additional scrutiny.\n",
        "\n",
        "  - Data Range and Spread: Histograms provide insights into the range and spread of the data. The x-axis represents the variable's values, while the y-axis represents the frequency or count of occurrences. By observing the width and span of the histogram, analysts can assess the data's range and variability. This information helps understand the data's spread and aids in subsequent analysis or decision-making processes.\n",
        "\n",
        "  - Feature Engineering: Histograms can guide feature engineering processes by informing appropriate transformations, binning strategies, or encoding techniques for numerical variables. They assist in identifying nonlinear relationships or determining optimal cut-off points for converting continuous variables into categorical ones. Histograms also help identify data skewness and guide transformation methods to address the skew if necessary.\n",
        "\n",
        "  - Data Quality Inspection: Histograms can be useful in detecting data quality issues or anomalies. Unusual spikes, gaps, or unexpected patterns in the histogram may indicate data entry errors, measurement inconsistencies, or missing data. By observing the histogram, analysts can identify potential data quality issues that require further investigation or preprocessing.\n",
        "\n",
        "Your task is:\n",
        "\n",
        "  1. Use Seaborn's [histplot](https://seaborn.pydata.org/generated/seaborn.histplot.html) to explore the data distributions for fare_amount, trip_distance, and extra. Use kernel density estimators to better visualize the distribution. Use sampling if you run into any memory issues."
      ],
      "metadata": {
        "id": "CnV0dIHquPtf"
      }
    },
    {
      "cell_type": "code",
      "source": [
        "# Explore data distributions for 'fare_amount', 'trip_distance' and 'extra' using Seaborn's histplot. Sample the data if you run into memory issues."
      ],
      "metadata": {
        "id": "8HI3uXHCyI_B"
      },
      "execution_count": null,
      "outputs": []
    }
  ]
}