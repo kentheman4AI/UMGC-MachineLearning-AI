{
  "cells": [
    {
      "cell_type": "markdown",
      "metadata": {
        "id": "Yzr5Eo_qxHQi"
      },
      "source": [
        "# Mini Project: Trees and Forests\n",
        "\n",
        "In this mini-project you'll be introduced to some fundamental concepts in machine learning: **Decision Trees**, **Random Forests**, **Boosting**, and **Bagging**. These techniques play a crucial role in building powerful and versatile machine learning models that can be applied to a wide range of tasks, from classification to regression.\n",
        "\n",
        "## Decision Trees\n",
        "\n",
        "Decision Trees are intuitive models that mimic human decision-making processes. Just like answering a series of questions to reach a conclusion, decision trees segment data based on a sequence of if-else questions. They partition the feature space into regions and assign a label to each region. Decision trees are particularly helpful in understanding the decision-making process behind predictions.\n",
        "\n",
        "## Random Forests\n",
        "\n",
        "Random Forests are an ensemble method that combines multiple decision trees to create a more robust and accurate model. Each tree in a random forest is trained on a random subset of the data with replacement (bootstrapping), and these trees are allowed to make individual predictions. The final prediction is determined through majority voting (classification) or averaging (regression) of the predictions made by the individual trees. Random Forests are known for their ability to handle noisy data, reduce overfitting, and capture complex relationships.\n",
        "\n",
        "## Bagging: Bootstrap Aggregating\n",
        "\n",
        "Bagging, short for Bootstrap Aggregating, is the technique behind Random Forests. It involves training multiple models on bootstrapped subsets of the training data. Bagging reduces the variance of the model by averaging out the noise and errors present in individual models. While Random Forests are a specific application of bagging to decision trees, bagging can also be applied to other base models.\n",
        "\n",
        "## Boosting\n",
        "\n",
        "Boosting is another ensemble technique that focuses on building a strong predictor by sequentially training multiple weak learners (often shallow decision trees). Boosting assigns weights to training instances, focusing more on those that the previous models misclassified. This iterative process helps the model correct its mistakes and improve its performance over time. Popular boosting algorithms include AdaBoost, Gradient Boosting, and XGBoost.\n",
        "\n",
        "In this mini-project, we will:\n",
        "\n",
        "1. Implement and visualize decision trees using the scikit-learn library.\n",
        "2. Explore the power of random forests and understand feature importance.\n",
        "3. Dive into the boosting technique with AdaBoost to enhance model accuracy."
      ]
    },
    {
      "cell_type": "markdown",
      "source": [
        "For this mini-project we'll be using the [Breast Cancer Wisconsin (Diagnostic) dataset](https://scikit-learn.org/stable/modules/generated/sklearn.datasets.load_breast_cancer.html). First, let's import all the libraries we'll be using."
      ],
      "metadata": {
        "id": "2JZGx1fBfi08"
      }
    },
    {
      "cell_type": "code",
      "source": [
        "import numpy as np\n",
        "import pandas as pd\n",
        "import matplotlib.pyplot as plt\n",
        "from sklearn.datasets import load_breast_cancer\n",
        "from sklearn.model_selection import train_test_split\n",
        "from sklearn.tree import DecisionTreeClassifier, plot_tree\n",
        "from sklearn.ensemble import RandomForestClassifier, AdaBoostClassifier\n",
        "from sklearn.metrics import accuracy_score"
      ],
      "metadata": {
        "id": "5ynUME3XEH-Q"
      },
      "execution_count": 1,
      "outputs": []
    },
    {
      "cell_type": "markdown",
      "source": [
        "Here are your tasks:\n",
        "\n",
        "1. Use [load_breast_cancer](https://scikit-learn.org/stable/modules/generated/sklearn.datasets.load_breast_cancer.html) to load the Breast Cancer Wisconsin dataset as a Pandas dataframe.\n",
        "2. Split the dataset into training and test sets.\n",
        "3. Display the first five rows of data and make sure everything looks ok. You should have already explored the data a bit in the logistic regression mini-project so there's no need to conduct further EDA.  "
      ],
      "metadata": {
        "id": "81annADtOkJf"
      }
    },
    {
      "cell_type": "code",
      "source": [
        "# Load the Breast Cancer Wisconsin dataset\n",
        "wis_cancer_data = load_breast_cancer()\n",
        "print(wis_cancer_data.keys())"
      ],
      "metadata": {
        "id": "jN6cgyIREPGN",
        "colab": {
          "base_uri": "https://localhost:8080/"
        },
        "outputId": "2ec36efa-02b0-4bd8-9fe0-0f54d43b4b8f"
      },
      "execution_count": 2,
      "outputs": [
        {
          "output_type": "stream",
          "name": "stdout",
          "text": [
            "dict_keys(['data', 'target', 'frame', 'target_names', 'DESCR', 'feature_names', 'filename', 'data_module'])\n"
          ]
        }
      ]
    },
    {
      "cell_type": "code",
      "source": [
        "# Split the dataset into training and testing sets\n",
        "x_train, x_test, y_train, y_test = train_test_split(wis_cancer_data.data, wis_cancer_data.target)\n",
        "print(x_train.shape,x_test.shape, y_train.shape,y_test.shape)"
      ],
      "metadata": {
        "id": "F7-6BwIiWhY1",
        "colab": {
          "base_uri": "https://localhost:8080/"
        },
        "outputId": "780b86e5-1c46-49b0-a014-9670d25626a9"
      },
      "execution_count": 3,
      "outputs": [
        {
          "output_type": "stream",
          "name": "stdout",
          "text": [
            "(426, 30) (143, 30) (426,) (143,)\n"
          ]
        }
      ]
    },
    {
      "cell_type": "code",
      "source": [
        "# Display first 5 rows\n",
        "print(x_train[0:5,:]), print(x_test[0:5,:]), print(y_train[0:5]), print(y_test[0:5])"
      ],
      "metadata": {
        "id": "rOTFtVlxEjvN",
        "colab": {
          "base_uri": "https://localhost:8080/"
        },
        "outputId": "c91a74f5-e2ad-426d-df0c-1095e766006f"
      },
      "execution_count": 4,
      "outputs": [
        {
          "output_type": "stream",
          "name": "stdout",
          "text": [
            "[[1.775e+01 2.803e+01 1.173e+02 9.816e+02 9.997e-02 1.314e-01 1.698e-01\n",
            "  8.293e-02 1.713e-01 5.916e-02 3.897e-01 1.077e+00 2.873e+00 4.395e+01\n",
            "  4.714e-03 2.015e-02 3.697e-02 1.110e-02 1.237e-02 2.556e-03 2.153e+01\n",
            "  3.854e+01 1.454e+02 1.437e+03 1.401e-01 3.762e-01 6.399e-01 1.970e-01\n",
            "  2.972e-01 9.075e-02]\n",
            " [1.287e+01 1.954e+01 8.267e+01 5.092e+02 9.136e-02 7.883e-02 1.797e-02\n",
            "  2.090e-02 1.861e-01 6.347e-02 3.665e-01 7.693e-01 2.597e+00 2.650e+01\n",
            "  5.910e-03 1.362e-02 7.066e-03 6.502e-03 2.223e-02 2.378e-03 1.445e+01\n",
            "  2.438e+01 9.514e+01 6.269e+02 1.214e-01 1.652e-01 7.127e-02 6.384e-02\n",
            "  3.313e-01 7.735e-02]\n",
            " [1.154e+01 1.444e+01 7.465e+01 4.029e+02 9.984e-02 1.120e-01 6.737e-02\n",
            "  2.594e-02 1.818e-01 6.782e-02 2.784e-01 1.768e+00 1.628e+00 2.086e+01\n",
            "  1.215e-02 4.112e-02 5.553e-02 1.494e-02 1.840e-02 5.512e-03 1.226e+01\n",
            "  1.968e+01 7.878e+01 4.578e+02 1.345e-01 2.118e-01 1.797e-01 6.918e-02\n",
            "  2.329e-01 8.134e-02]\n",
            " [1.136e+01 1.757e+01 7.249e+01 3.998e+02 8.858e-02 5.313e-02 2.783e-02\n",
            "  2.100e-02 1.601e-01 5.913e-02 1.916e-01 1.555e+00 1.359e+00 1.366e+01\n",
            "  5.391e-03 9.947e-03 1.163e-02 5.872e-03 1.341e-02 1.659e-03 1.305e+01\n",
            "  3.632e+01 8.507e+01 5.213e+02 1.453e-01 1.622e-01 1.811e-01 8.698e-02\n",
            "  2.973e-01 7.745e-02]\n",
            " [1.701e+01 2.026e+01 1.097e+02 9.043e+02 8.772e-02 7.304e-02 6.950e-02\n",
            "  5.390e-02 2.026e-01 5.223e-02 5.858e-01 8.554e-01 4.106e+00 6.846e+01\n",
            "  5.038e-03 1.503e-02 1.946e-02 1.123e-02 2.294e-02 2.581e-03 1.980e+01\n",
            "  2.505e+01 1.300e+02 1.210e+03 1.111e-01 1.486e-01 1.932e-01 1.096e-01\n",
            "  3.275e-01 6.469e-02]]\n",
            "[[1.530e+01 2.527e+01 1.024e+02 7.324e+02 1.082e-01 1.697e-01 1.683e-01\n",
            "  8.751e-02 1.926e-01 6.540e-02 4.390e-01 1.012e+00 3.498e+00 4.350e+01\n",
            "  5.233e-03 3.057e-02 3.576e-02 1.083e-02 1.768e-02 2.967e-03 2.027e+01\n",
            "  3.671e+01 1.493e+02 1.269e+03 1.641e-01 6.110e-01 6.335e-01 2.024e-01\n",
            "  4.027e-01 9.876e-02]\n",
            " [2.329e+01 2.667e+01 1.589e+02 1.685e+03 1.141e-01 2.084e-01 3.523e-01\n",
            "  1.620e-01 2.200e-01 6.229e-02 5.539e-01 1.560e+00 4.667e+00 8.316e+01\n",
            "  9.327e-03 5.121e-02 8.958e-02 2.465e-02 2.175e-02 5.195e-03 2.512e+01\n",
            "  3.268e+01 1.770e+02 1.986e+03 1.536e-01 4.167e-01 7.892e-01 2.733e-01\n",
            "  3.198e-01 8.762e-02]\n",
            " [9.668e+00 1.810e+01 6.106e+01 2.863e+02 8.311e-02 5.428e-02 1.479e-02\n",
            "  5.769e-03 1.680e-01 6.412e-02 3.416e-01 1.312e+00 2.275e+00 2.098e+01\n",
            "  1.098e-02 1.257e-02 1.031e-02 3.934e-03 2.693e-02 2.979e-03 1.115e+01\n",
            "  2.462e+01 7.111e+01 3.802e+02 1.388e-01 1.255e-01 6.409e-02 2.500e-02\n",
            "  3.057e-01 7.875e-02]\n",
            " [1.152e+01 1.875e+01 7.334e+01 4.090e+02 9.524e-02 5.473e-02 3.036e-02\n",
            "  2.278e-02 1.920e-01 5.907e-02 3.249e-01 9.591e-01 2.183e+00 2.347e+01\n",
            "  8.328e-03 8.722e-03 1.349e-02 8.670e-03 3.218e-02 2.386e-03 1.284e+01\n",
            "  2.247e+01 8.181e+01 5.062e+02 1.249e-01 8.720e-02 9.076e-02 6.316e-02\n",
            "  3.306e-01 7.036e-02]\n",
            " [1.272e+01 1.767e+01 8.098e+01 5.013e+02 7.896e-02 4.522e-02 1.402e-02\n",
            "  1.835e-02 1.459e-01 5.544e-02 2.954e-01 8.836e-01 2.109e+00 2.324e+01\n",
            "  7.337e-03 1.174e-02 5.383e-03 5.623e-03 1.940e-02 1.180e-03 1.382e+01\n",
            "  2.096e+01 8.887e+01 5.868e+02 1.068e-01 9.605e-02 3.469e-02 3.612e-02\n",
            "  2.165e-01 6.025e-02]]\n",
            "[0 1 1 1 0]\n",
            "[0 0 1 1 1]\n"
          ]
        },
        {
          "output_type": "execute_result",
          "data": {
            "text/plain": [
              "(None, None, None, None)"
            ]
          },
          "metadata": {},
          "execution_count": 4
        }
      ]
    },
    {
      "cell_type": "markdown",
      "source": [
        "Let's start by diving into decision trees. At a high level, decision trees are a machine learning algorithm used for both classification and regression tasks. They model decisions and decision-making processes by breaking down a complex decision into a sequence of simpler decisions or questions. Each decision leads to one of several possible outcomes, eventually leading to a prediction or classification.\n",
        "\n",
        "**Decision trees are built out of the following components:**\n",
        "- **Nodes:** Decision trees consist of nodes. The initial node is the root node, and the final nodes are called leaf nodes.\n",
        "- **Edges:** Edges connect nodes and represent the decision outcomes.\n",
        "- **Attributes/Features:** Each node involves a decision based on a specific attribute or feature.\n",
        "- **Splitting:** At each node, the dataset is partitioned into subsets based on an attribute's values.\n",
        "- **Leaf Nodes:** These nodes represent the final predicted class or value.\n",
        "\n",
        "**How Decision Trees Work:**\n",
        "1. **Selecting the Best Feature:** Decision trees start with the root node and select the feature that best separates the data.\n",
        "2. **Splitting:** The selected feature is used to split the data into subsets at each internal node.\n",
        "3. **Repeating:** The process continues recursively for each subset, selecting the best feature at each node.\n",
        "4. **Leaf Nodes:** The process stops when a certain stopping criterion is met, or when all instances at a node belong to the same class.\n",
        "\n",
        "**Advantages:**\n",
        "1. **Interpretability:** Decision trees are easy to understand and interpret. The path from the root to a leaf node can be visualized as a sequence of decisions.\n",
        "2. **Handles Numerical and Categorical Data:** Decision trees can handle both numerical and categorical data, making them versatile.\n",
        "3. **Non-Linearity:** They can capture non-linear relationships between features and the target variable.\n",
        "4. **Feature Importance:** Decision trees provide a measure of feature importance, helping in feature selection.\n",
        "\n",
        "**Challenges and Considerations:**\n",
        "1. **Overfitting:** Decision trees can create overly complex models that fit the training data too closely, leading to poor generalization.\n",
        "2. **Instability:** Small changes in the data can lead to different trees, which can make the model unstable.\n",
        "3. **Bias towards Majority Class:** In classification tasks, decision trees tend to favor the majority class if classes are imbalanced.\n",
        "\n",
        "**Improvements:**\n",
        "1. **Pruning:** Pruning is the process of removing branches that do not improve the model's performance on validation data, reducing overfitting.\n",
        "2. **Ensemble Methods:** Random Forests and Gradient Boosting Trees are ensemble methods that combine multiple decision trees to improve performance.\n",
        "\n",
        "There are a number of different metrics used to determine how to split a node in a decision tree. The Gini impurity is a popular criterion used in decision tree algorithms. It measures the degree of impurity in a dataset, where lower values indicate more pure subsets of data. In the context of decision trees, the Gini impurity is used to assess how often a randomly chosen element would be misclassified if it were randomly assigned to a class based on the distribution of class labels in a subset. The Gini impurity ranges between 0 (pure node, all instances belong to a single class) and 0.5 (impure node, instances are evenly distributed across classes)."
      ],
      "metadata": {
        "id": "bT64m51APSGh"
      }
    },
    {
      "cell_type": "markdown",
      "source": [
        "Here are your tasks:\n",
        "\n",
        "1. Use Scikit-Learn's [DecisionTreeClassifier](https://scikit-learn.org/stable/modules/generated/sklearn.tree.DecisionTreeClassifier.html) to fit a model on the training data.\n",
        "2. Visualize the resulting tree using [plot_tree](https://scikit-learn.org/stable/modules/generated/sklearn.tree.plot_tree.html).\n",
        "3. Iterate on the first two steps by trying different inputs to the decision tree classifier. What happens if you change the max depth? How about the maximum number of lead nodes? From the visualization, make sure you're able to understand how to descend the decision tree to arrive at a prediction."
      ],
      "metadata": {
        "id": "PjRU4fdmTSF5"
      }
    },
    {
      "cell_type": "code",
      "source": [
        "# Create a Decision Tree model\n",
        "# The argument 'max_leaf_nodes' dictate how many decisions are modeled according to (max_leaf_nodes-1)\n",
        "# The argument 'max_depth' dictate the maximum depth of the tree\n",
        "wis_cancer_DTM = DecisionTreeClassifier() # max_leaf_nodes=n, max_depth=d\n",
        "wis_cancer_DTM.fit(x_train,y_train)\n",
        "print(type(wis_cancer_DTM))"
      ],
      "metadata": {
        "id": "41e16xuuWk_q",
        "colab": {
          "base_uri": "https://localhost:8080/"
        },
        "outputId": "4ee5039e-f2ee-4ac5-83d5-f72c04b24cfa"
      },
      "execution_count": 5,
      "outputs": [
        {
          "output_type": "stream",
          "name": "stdout",
          "text": [
            "<class 'sklearn.tree._classes.DecisionTreeClassifier'>\n"
          ]
        }
      ]
    },
    {
      "cell_type": "code",
      "source": [
        "# Visualize the Decision Tree\n",
        "print(wis_cancer_data.feature_names)\n",
        "#the argument 'max_depth' determines the number of splits in the tree that are visualized according to 2^(max_depth-1)-1\n",
        "plot_tree(wis_cancer_DTM,feature_names=wis_cancer_data.feature_names,max_depth=6)"
      ],
      "metadata": {
        "id": "93kbxVvJEtFx",
        "colab": {
          "base_uri": "https://localhost:8080/",
          "height": 1000
        },
        "outputId": "73eb03b1-e856-44b1-8b1b-53b7ea433028"
      },
      "execution_count": 6,
      "outputs": [
        {
          "output_type": "stream",
          "name": "stdout",
          "text": [
            "['mean radius' 'mean texture' 'mean perimeter' 'mean area'\n",
            " 'mean smoothness' 'mean compactness' 'mean concavity'\n",
            " 'mean concave points' 'mean symmetry' 'mean fractal dimension'\n",
            " 'radius error' 'texture error' 'perimeter error' 'area error'\n",
            " 'smoothness error' 'compactness error' 'concavity error'\n",
            " 'concave points error' 'symmetry error' 'fractal dimension error'\n",
            " 'worst radius' 'worst texture' 'worst perimeter' 'worst area'\n",
            " 'worst smoothness' 'worst compactness' 'worst concavity'\n",
            " 'worst concave points' 'worst symmetry' 'worst fractal dimension']\n"
          ]
        },
        {
          "output_type": "execute_result",
          "data": {
            "text/plain": [
              "[Text(0.6789772727272727, 0.9375, 'worst radius <= 16.795\\ngini = 0.47\\nsamples = 426\\nvalue = [161, 265]'),\n",
              " Text(0.44886363636363635, 0.8125, 'worst concave points <= 0.136\\ngini = 0.171\\nsamples = 286\\nvalue = [27, 259]'),\n",
              " Text(0.26136363636363635, 0.6875, 'area error <= 91.555\\ngini = 0.039\\nsamples = 251\\nvalue = [5, 246]'),\n",
              " Text(0.2159090909090909, 0.5625, 'smoothness error <= 0.003\\ngini = 0.031\\nsamples = 250\\nvalue = [4, 246]'),\n",
              " Text(0.09090909090909091, 0.4375, 'symmetry error <= 0.013\\ngini = 0.5\\nsamples = 2\\nvalue = [1, 1]'),\n",
              " Text(0.045454545454545456, 0.3125, 'gini = 0.0\\nsamples = 1\\nvalue = [0, 1]'),\n",
              " Text(0.13636363636363635, 0.3125, 'gini = 0.0\\nsamples = 1\\nvalue = [1, 0]'),\n",
              " Text(0.3409090909090909, 0.4375, 'area error <= 48.975\\ngini = 0.024\\nsamples = 248\\nvalue = [3, 245]'),\n",
              " Text(0.22727272727272727, 0.3125, 'mean concavity <= 0.12\\ngini = 0.016\\nsamples = 245\\nvalue = [2, 243]'),\n",
              " Text(0.13636363636363635, 0.1875, 'worst texture <= 33.35\\ngini = 0.008\\nsamples = 240\\nvalue = [1, 239]'),\n",
              " Text(0.09090909090909091, 0.0625, '\\n  (...)  \\n'),\n",
              " Text(0.18181818181818182, 0.0625, '\\n  (...)  \\n'),\n",
              " Text(0.3181818181818182, 0.1875, 'fractal dimension error <= 0.006\\ngini = 0.32\\nsamples = 5\\nvalue = [1, 4]'),\n",
              " Text(0.2727272727272727, 0.0625, '\\n  (...)  \\n'),\n",
              " Text(0.36363636363636365, 0.0625, '\\n  (...)  \\n'),\n",
              " Text(0.45454545454545453, 0.3125, 'mean compactness <= 0.063\\ngini = 0.444\\nsamples = 3\\nvalue = [1, 2]'),\n",
              " Text(0.4090909090909091, 0.1875, 'gini = 0.0\\nsamples = 1\\nvalue = [1, 0]'),\n",
              " Text(0.5, 0.1875, 'gini = 0.0\\nsamples = 2\\nvalue = [0, 2]'),\n",
              " Text(0.3068181818181818, 0.5625, 'gini = 0.0\\nsamples = 1\\nvalue = [1, 0]'),\n",
              " Text(0.6363636363636364, 0.6875, 'worst texture <= 25.67\\ngini = 0.467\\nsamples = 35\\nvalue = [22, 13]'),\n",
              " Text(0.5454545454545454, 0.5625, 'mean smoothness <= 0.109\\ngini = 0.337\\nsamples = 14\\nvalue = [3, 11]'),\n",
              " Text(0.5, 0.4375, 'gini = 0.0\\nsamples = 10\\nvalue = [0, 10]'),\n",
              " Text(0.5909090909090909, 0.4375, 'worst symmetry <= 0.283\\ngini = 0.375\\nsamples = 4\\nvalue = [3, 1]'),\n",
              " Text(0.5454545454545454, 0.3125, 'gini = 0.0\\nsamples = 1\\nvalue = [0, 1]'),\n",
              " Text(0.6363636363636364, 0.3125, 'gini = 0.0\\nsamples = 3\\nvalue = [3, 0]'),\n",
              " Text(0.7272727272727273, 0.5625, 'mean symmetry <= 0.156\\ngini = 0.172\\nsamples = 21\\nvalue = [19, 2]'),\n",
              " Text(0.6818181818181818, 0.4375, 'gini = 0.0\\nsamples = 1\\nvalue = [0, 1]'),\n",
              " Text(0.7727272727272727, 0.4375, 'perimeter error <= 1.529\\ngini = 0.095\\nsamples = 20\\nvalue = [19, 1]'),\n",
              " Text(0.7272727272727273, 0.3125, 'fractal dimension error <= 0.002\\ngini = 0.5\\nsamples = 2\\nvalue = [1, 1]'),\n",
              " Text(0.6818181818181818, 0.1875, 'gini = 0.0\\nsamples = 1\\nvalue = [1, 0]'),\n",
              " Text(0.7727272727272727, 0.1875, 'gini = 0.0\\nsamples = 1\\nvalue = [0, 1]'),\n",
              " Text(0.8181818181818182, 0.3125, 'gini = 0.0\\nsamples = 18\\nvalue = [18, 0]'),\n",
              " Text(0.9090909090909091, 0.8125, 'worst texture <= 20.49\\ngini = 0.082\\nsamples = 140\\nvalue = [134, 6]'),\n",
              " Text(0.8636363636363636, 0.6875, 'fractal dimension error <= 0.004\\ngini = 0.48\\nsamples = 10\\nvalue = [4, 6]'),\n",
              " Text(0.8181818181818182, 0.5625, 'gini = 0.0\\nsamples = 6\\nvalue = [0, 6]'),\n",
              " Text(0.9090909090909091, 0.5625, 'gini = 0.0\\nsamples = 4\\nvalue = [4, 0]'),\n",
              " Text(0.9545454545454546, 0.6875, 'gini = 0.0\\nsamples = 130\\nvalue = [130, 0]')]"
            ]
          },
          "metadata": {},
          "execution_count": 6
        },
        {
          "output_type": "display_data",
          "data": {
            "text/plain": [
              "<Figure size 640x480 with 1 Axes>"
            ],
            "image/png": "[encoded data removed]"
          },
          "metadata": {}
        }
      ]
    },
    {
      "cell_type": "markdown",
      "source": [
        "Random Forests are an extension of decision trees that leverage the power of ensemble learning to improve predictive accuracy and robustness. Instead of relying on a single decision tree, Random Forests combine multiple decision trees to make more accurate and stable predictions. Let's walk through the steps of going from decision trees to Random Forests:\n",
        "\n",
        "**Step 1: Building Individual Decision Trees**\n",
        "1. **Decision Tree Construction:** Start by building multiple individual decision trees. Each tree is trained on a bootstrapped subset of the training data, meaning that each tree sees a slightly different version of the data due to random sampling with replacement.\n",
        "2. **Feature Selection:** At each node of a decision tree, only a random subset of features is considered for splitting. This introduces randomness and diversity among the trees.\n",
        "\n",
        "**Step 2: Combining Trees in a Random Forest**\n",
        "1. **Predictions:** When you need to make a prediction using the Random Forest, each individual tree in the forest makes a prediction.\n",
        "2. **Majority Voting (Classification) or Averaging (Regression):** In the case of classification, the class that the majority of trees predict becomes the final prediction. In the case of regression, the average of predictions from all trees is taken as the final prediction.\n",
        "\n",
        "**Benefits of Random Forests:**\n",
        "1. **Reduced Overfitting:** The ensemble nature of Random Forests helps reduce overfitting. The diversity among the trees reduces the risk of capturing noise in the data.\n",
        "2. **Feature Importance:** Random Forests can provide an estimate of feature importance by tracking how much each feature contributes to improving the purity of the nodes.\n",
        "3. **Handles Noisy Data:** Random Forests can handle noisy and irrelevant features more effectively than individual decision trees.\n",
        "4. **Parallelization:** Training decision trees can be parallelized since they are independent of each other, which speeds up the training process."
      ],
      "metadata": {
        "id": "JbkDq7ApWF8m"
      }
    },
    {
      "cell_type": "markdown",
      "source": [
        "Here are your tasks:\n",
        "\n",
        "1. Use your training data to train a Random Forest using [RandomForestClassifier](https://scikit-learn.org/stable/modules/generated/sklearn.ensemble.RandomForestClassifier.html).\n",
        "2. Extract the feature importances from the trained model.\n",
        "3. Print the feature importances from largest to smallest."
      ],
      "metadata": {
        "id": "WJGS-FUzWiTz"
      }
    },
    {
      "cell_type": "code",
      "source": [
        "# Train random forest model\n",
        "wis_cancer_RFM=RandomForestClassifier()\n",
        "wis_cancer_RFM.fit(x_train,y_train)\n",
        "wis_cancer_RFM.score(x_test,y_test)"
      ],
      "metadata": {
        "id": "srHwa2q-WpWt",
        "colab": {
          "base_uri": "https://localhost:8080/"
        },
        "outputId": "7495a419-fb2f-41af-8a50-6eb4b43ee641"
      },
      "execution_count": 11,
      "outputs": [
        {
          "output_type": "execute_result",
          "data": {
            "text/plain": [
              "0.951048951048951"
            ]
          },
          "metadata": {},
          "execution_count": 11
        }
      ]
    },
    {
      "cell_type": "code",
      "source": [
        "# Extract feature importances\n",
        "importances=wis_cancer_DTM.feature_importances_"
      ],
      "metadata": {
        "id": "rLO_P-ivWc33"
      },
      "execution_count": 65,
      "outputs": []
    },
    {
      "cell_type": "code",
      "source": [
        "# Print feature importance\n",
        "ftr_importances=pd.DataFrame(importances,wis_cancer_data.feature_names,['feature importance'])\n",
        "ftr_importances=ftr_importances.sort_values('feature importance',ascending=False)\n",
        "print(ftr_importances)"
      ],
      "metadata": {
        "id": "yc_9uoazFmxR",
        "colab": {
          "base_uri": "https://localhost:8080/"
        },
        "outputId": "b5e1fd22-efd6-4abf-d88d-65ee51276ba7"
      },
      "execution_count": 66,
      "outputs": [
        {
          "output_type": "stream",
          "name": "stdout",
          "text": [
            "                         feature importance\n",
            "worst radius                       0.698521\n",
            "worst concave points               0.113619\n",
            "worst texture                      0.083307\n",
            "fractal dimension error            0.036944\n",
            "mean smoothness                    0.016047\n",
            "area error                         0.012758\n",
            "mean symmetry                      0.008582\n",
            "worst symmetry                     0.007489\n",
            "mean compactness                   0.006657\n",
            "symmetry error                     0.004992\n",
            "smoothness error                   0.004716\n",
            "perimeter error                    0.004493\n",
            "mean concavity                     0.001876\n",
            "worst perimeter                    0.000000\n",
            "mean radius                        0.000000\n",
            "worst area                         0.000000\n",
            "worst smoothness                   0.000000\n",
            "worst concavity                    0.000000\n",
            "worst compactness                  0.000000\n",
            "compactness error                  0.000000\n",
            "concave points error               0.000000\n",
            "concavity error                    0.000000\n",
            "mean texture                       0.000000\n",
            "texture error                      0.000000\n",
            "radius error                       0.000000\n",
            "mean fractal dimension             0.000000\n",
            "mean concave points                0.000000\n",
            "mean area                          0.000000\n",
            "mean perimeter                     0.000000\n",
            "worst fractal dimension            0.000000\n"
          ]
        }
      ]
    },
    {
      "cell_type": "markdown",
      "source": [
        "AdaBoost, short for Adaptive Boosting, is a powerful ensemble learning technique used primarily for classification tasks. It is designed to enhance the performance of weak learners (typically shallow decision trees) by combining their predictions. AdaBoost focuses on learning from the mistakes of previous models and gives more weight to misclassified instances, allowing subsequent models to correct those mistakes.\n",
        "\n",
        "Here's an overview of how AdaBoost works:\n",
        "\n",
        "**Step 1: Building Weak Learners (Base Models)**\n",
        "1. **Initialization:** Each training instance is initially assigned equal weights.\n",
        "2. **Training Weak Learners:** A series of weak learners (e.g., shallow decision trees) are trained on the data. Each weak learner tries to minimize the weighted classification error, where the weight of an instance depends on its previous misclassifications. The first weak learner is trained on the original data.\n",
        "\n",
        "**Step 2: Weighting Instances**\n",
        "1. **Calculating Error:** The weighted classification error of each weak learner is computed as the sum of weights of misclassified instances.\n",
        "2. **Updating Weights:** Instances that were misclassified by the previous weak learner are given higher weights, making them more important for subsequent models. Instances that were correctly classified are given lower weights.\n",
        "\n",
        "**Step 3: Combining Weak Learners**\n",
        "1. **Predictions and Voting:** The predictions from all weak learners are combined using weighted majority voting. Weights are assigned to each weak learner based on its performance (lower error leads to higher weight).\n",
        "2. **Final Prediction:** The final prediction is made by taking a weighted majority vote of the weak learners' predictions.\n",
        "\n",
        "**Benefits of AdaBoost:**\n",
        "1. **Adaptive Learning:** AdaBoost focuses on instances that were misclassified by previous models, adapting to the complexity of the data.\n",
        "2. **Improves Weak Models:** Even if individual weak learners perform only slightly better than random guessing, AdaBoost can combine them to create a strong model.\n",
        "3. **Reduces Overfitting:** The iterative nature of AdaBoost allows it to focus on hard-to-classify instances and improve overall generalization."
      ],
      "metadata": {
        "id": "wBO7q_tdZ3iT"
      }
    },
    {
      "cell_type": "markdown",
      "source": [
        "Here are your tasks:\n",
        "\n",
        "1. Build and train an [AdaBoostClassifier](https://scikit-learn.org/stable/modules/generated/sklearn.ensemble.AdaBoostClassifier.html) on your training data using a decision tree of max depth equal to 1 as your weak learner.\n",
        "2. Evaluate your decision tree, random forest, and AdaBoost models by applying [accuracy_score](https://scikit-learn.org/stable/modules/generated/sklearn.metrics.accuracy_score.html) to the test data. Which model performs the best? Experiment by changing the hyperparameters of these models.\n"
      ],
      "metadata": {
        "id": "T8IsKNfIaAC3"
      }
    },
    {
      "cell_type": "code",
      "source": [
        "# Build and train an AdaBoostClassifier on your training data.\n",
        "wis_cancer_ABC=AdaBoostClassifier(DecisionTreeClassifier(max_depth=1))\n",
        "wis_cancer_ABC.fit(x_train,y_train)"
      ],
      "metadata": {
        "id": "cEmNpWHLLZIQ",
        "colab": {
          "base_uri": "https://localhost:8080/",
          "height": 118
        },
        "outputId": "9f5de3fb-6d0d-41dd-dbb3-798c99427226"
      },
      "execution_count": 72,
      "outputs": [
        {
          "output_type": "execute_result",
          "data": {
            "text/plain": [
              "AdaBoostClassifier(estimator=DecisionTreeClassifier(max_depth=1))"
            ],
            "text/html": [
              "<style>#sk-container-id-4 {color: black;}#sk-container-id-4 pre{padding: 0;}#sk-container-id-4 div.sk-toggleable {background-color: white;}#sk-container-id-4 label.sk-toggleable__label {cursor: pointer;display: block;width: 100%;margin-bottom: 0;padding: 0.3em;box-sizing: border-box;text-align: center;}#sk-container-id-4 label.sk-toggleable__label-arrow:before {content: \"▸\";float: left;margin-right: 0.25em;color: #696969;}#sk-container-id-4 label.sk-toggleable__label-arrow:hover:before {color: black;}#sk-container-id-4 div.sk-estimator:hover label.sk-toggleable__label-arrow:before {color: black;}#sk-container-id-4 div.sk-toggleable__content {max-height: 0;max-width: 0;overflow: hidden;text-align: left;background-color: #f0f8ff;}#sk-container-id-4 div.sk-toggleable__content pre {margin: 0.2em;color: black;border-radius: 0.25em;background-color: #f0f8ff;}#sk-container-id-4 input.sk-toggleable__control:checked~div.sk-toggleable__content {max-height: 200px;max-width: 100%;overflow: auto;}#sk-container-id-4 input.sk-toggleable__control:checked~label.sk-toggleable__label-arrow:before {content: \"▾\";}#sk-container-id-4 div.sk-estimator input.sk-toggleable__control:checked~label.sk-toggleable__label {background-color: #d4ebff;}#sk-container-id-4 div.sk-label input.sk-toggleable__control:checked~label.sk-toggleable__label {background-color: #d4ebff;}#sk-container-id-4 input.sk-hidden--visually {border: 0;clip: rect(1px 1px 1px 1px);clip: rect(1px, 1px, 1px, 1px);height: 1px;margin: -1px;overflow: hidden;padding: 0;position: absolute;width: 1px;}#sk-container-id-4 div.sk-estimator {font-family: monospace;background-color: #f0f8ff;border: 1px dotted black;border-radius: 0.25em;box-sizing: border-box;margin-bottom: 0.5em;}#sk-container-id-4 div.sk-estimator:hover {background-color: #d4ebff;}#sk-container-id-4 div.sk-parallel-item::after {content: \"\";width: 100%;border-bottom: 1px solid gray;flex-grow: 1;}#sk-container-id-4 div.sk-label:hover label.sk-toggleable__label {background-color: #d4ebff;}#sk-container-id-4 div.sk-serial::before {content: \"\";position: absolute;border-left: 1px solid gray;box-sizing: border-box;top: 0;bottom: 0;left: 50%;z-index: 0;}#sk-container-id-4 div.sk-serial {display: flex;flex-direction: column;align-items: center;background-color: white;padding-right: 0.2em;padding-left: 0.2em;position: relative;}#sk-container-id-4 div.sk-item {position: relative;z-index: 1;}#sk-container-id-4 div.sk-parallel {display: flex;align-items: stretch;justify-content: center;background-color: white;position: relative;}#sk-container-id-4 div.sk-item::before, #sk-container-id-4 div.sk-parallel-item::before {content: \"\";position: absolute;border-left: 1px solid gray;box-sizing: border-box;top: 0;bottom: 0;left: 50%;z-index: -1;}#sk-container-id-4 div.sk-parallel-item {display: flex;flex-direction: column;z-index: 1;position: relative;background-color: white;}#sk-container-id-4 div.sk-parallel-item:first-child::after {align-self: flex-end;width: 50%;}#sk-container-id-4 div.sk-parallel-item:last-child::after {align-self: flex-start;width: 50%;}#sk-container-id-4 div.sk-parallel-item:only-child::after {width: 0;}#sk-container-id-4 div.sk-dashed-wrapped {border: 1px dashed gray;margin: 0 0.4em 0.5em 0.4em;box-sizing: border-box;padding-bottom: 0.4em;background-color: white;}#sk-container-id-4 div.sk-label label {font-family: monospace;font-weight: bold;display: inline-block;line-height: 1.2em;}#sk-container-id-4 div.sk-label-container {text-align: center;}#sk-container-id-4 div.sk-container {/* jupyter's `normalize.less` sets `[hidden] { display: none; }` but bootstrap.min.css set `[hidden] { display: none !important; }` so we also need the `!important` here to be able to override the default hidden behavior on the sphinx rendered scikit-learn.org. See: https://github.com/scikit-learn/scikit-learn/issues/21755 */display: inline-block !important;position: relative;}#sk-container-id-4 div.sk-text-repr-fallback {display: none;}</style><div id=\"sk-container-id-4\" class=\"sk-top-container\"><div class=\"sk-text-repr-fallback\"><pre>AdaBoostClassifier(estimator=DecisionTreeClassifier(max_depth=1))</pre><b>In a Jupyter environment, please rerun this cell to show the HTML representation or trust the notebook. <br />On GitHub, the HTML representation is unable to render, please try loading this page with nbviewer.org.</b></div><div class=\"sk-container\" hidden><div class=\"sk-item sk-dashed-wrapped\"><div class=\"sk-label-container\"><div class=\"sk-label sk-toggleable\"><input class=\"sk-toggleable__control sk-hidden--visually\" id=\"sk-estimator-id-6\" type=\"checkbox\" ><label for=\"sk-estimator-id-6\" class=\"sk-toggleable__label sk-toggleable__label-arrow\">AdaBoostClassifier</label><div class=\"sk-toggleable__content\"><pre>AdaBoostClassifier(estimator=DecisionTreeClassifier(max_depth=1))</pre></div></div></div><div class=\"sk-parallel\"><div class=\"sk-parallel-item\"><div class=\"sk-item\"><div class=\"sk-label-container\"><div class=\"sk-label sk-toggleable\"><input class=\"sk-toggleable__control sk-hidden--visually\" id=\"sk-estimator-id-7\" type=\"checkbox\" ><label for=\"sk-estimator-id-7\" class=\"sk-toggleable__label sk-toggleable__label-arrow\">estimator: DecisionTreeClassifier</label><div class=\"sk-toggleable__content\"><pre>DecisionTreeClassifier(max_depth=1)</pre></div></div></div><div class=\"sk-serial\"><div class=\"sk-item\"><div class=\"sk-estimator sk-toggleable\"><input class=\"sk-toggleable__control sk-hidden--visually\" id=\"sk-estimator-id-8\" type=\"checkbox\" ><label for=\"sk-estimator-id-8\" class=\"sk-toggleable__label sk-toggleable__label-arrow\">DecisionTreeClassifier</label><div class=\"sk-toggleable__content\"><pre>DecisionTreeClassifier(max_depth=1)</pre></div></div></div></div></div></div></div></div></div></div>"
            ]
          },
          "metadata": {},
          "execution_count": 72
        }
      ]
    },
    {
      "cell_type": "code",
      "source": [
        "# Evaluate models\n",
        "#Using default inputs for the classifiers\n",
        "print('Using default inputs for the classifiers:')\n",
        "print('Score for Decision Tree Classifier:  ',wis_cancer_DTM.score(x_test,y_test))\n",
        "print('Score for Random Forest Classifier:  ',wis_cancer_RFM.score(x_test,y_test))\n",
        "print('Score for Ada Boost Classifier:  ', wis_cancer_ABC.score(x_test,y_test))"
      ],
      "metadata": {
        "id": "chOiS6grF4At",
        "colab": {
          "base_uri": "https://localhost:8080/"
        },
        "outputId": "45959fc1-9a24-49fd-a974-05ca78937691"
      },
      "execution_count": 76,
      "outputs": [
        {
          "output_type": "stream",
          "name": "stdout",
          "text": [
            "Using default inputs for the classifiers:\n",
            "Score for Decision Tree Classifier:   0.9300699300699301\n",
            "Score for Random Forest Classifier:   0.951048951048951\n",
            "Score for Ada Boost Classifier:   0.972027972027972\n"
          ]
        }
      ]
    }
  ],
  "metadata": {
    "colab": {
      "provenance": []
    },
    "kernelspec": {
      "display_name": "Python 3",
      "name": "python3"
    },
    "language_info": {
      "name": "python"
    }
  },
  "nbformat": 4,
  "nbformat_minor": 0
}